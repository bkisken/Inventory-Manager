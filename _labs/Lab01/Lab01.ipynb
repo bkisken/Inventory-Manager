{
  "cells": [
    {
      "cell_type": "markdown",
      "metadata": {
        "id": "OgRbAZj42bXE"
      },
      "source": [
        "# Lab 01: Getting Started\n",
        "\n",
        "In this lab, we will walk through configuring Google Colab so that you can download the starter code for each lab, run and edit code, and then save and submit it.\n",
        "\n",
        "Colab is a cloud-based solution that allows you to run Python and Jupyter notebooks from your browser, without having to configure anything on your personal computer.\n",
        "\n",
        "Before continuing with this notebook, please first complete this brief tutorial: [Overview of Colab](https://colab.research.google.com/notebooks/basic_features_overview.ipynb)\n"
      ]
    },
    {
      "cell_type": "markdown",
      "metadata": {
        "id": "vqvARlqY6fn0"
      },
      "source": [
        "<hr>\n",
        "\n",
        "## Command-line\n",
        "\n",
        "Welcome back!\n",
        "\n",
        "What Colab does is create a [virtual machine](https://en.wikipedia.org/wiki/Virtual_machine), which is like a fresh install of an operating system made just for you.\n",
        "\n",
        "This means that in addition to running Python code in this notebook, you can also interact with the command-line as if you were using a terminal to navigate a computer. If you have never used the command-line before, it is worth reading through [this tutorial](https://computers.tutsplus.com/tutorials/navigating-the-terminal-a-gentle-introduction--mac-3855).\n",
        "\n",
        "Notebooks also allow you to run shell commands by preceding the command with a `!`.\n",
        "\n",
        "For example, the command below will list the current working directory where this notebook is running.\n"
      ]
    },
    {
      "cell_type": "code",
      "execution_count": 15,
      "metadata": {
        "colab": {
          "base_uri": "https://localhost:8080/"
        },
        "id": "Zfh7PMlQ16_U",
        "outputId": "4e8a11b0-3863-46eb-8c1f-e022d562a673"
      },
      "outputs": [
        {
          "output_type": "stream",
          "name": "stdout",
          "text": [
            "/content\n"
          ]
        }
      ],
      "source": [
        "!pwd"
      ]
    },
    {
      "cell_type": "markdown",
      "metadata": {
        "id": "fpjJEUhQ72km"
      },
      "source": [
        "This tells us that we are running Ubuntu, a Linux distribution, and also says what version we're running.\n",
        "\n",
        "To list the contents of a folder, you can use the `ls` command. This will list the contents of the current working directory:\n",
        "\n"
      ]
    },
    {
      "cell_type": "code",
      "source": [
        "!ls"
      ],
      "metadata": {
        "colab": {
          "base_uri": "https://localhost:8080/"
        },
        "id": "uTNmVCUkINb1",
        "outputId": "c40939c8-5f9f-4072-a667-49dc1b0d2f72"
      },
      "execution_count": 16,
      "outputs": [
        {
          "output_type": "stream",
          "name": "stdout",
          "text": [
            "drive  sample_data\n"
          ]
        }
      ]
    },
    {
      "cell_type": "markdown",
      "source": [
        "We can see the contents of the `sample_data` directory like this:"
      ],
      "metadata": {
        "id": "jq4ZPCm0IPXj"
      }
    },
    {
      "cell_type": "code",
      "source": [
        "!ls sample_data"
      ],
      "metadata": {
        "colab": {
          "base_uri": "https://localhost:8080/"
        },
        "id": "l4JnFfCzIT5w",
        "outputId": "2c613cd5-38d4-4a36-9fc0-63e3a0c79d2b"
      },
      "execution_count": 17,
      "outputs": [
        {
          "output_type": "stream",
          "name": "stdout",
          "text": [
            "anscombe.json\t\t     california_housing_train.csv  mnist_train_small.csv\n",
            "california_housing_test.csv  mnist_test.csv\t\t   README.md\n"
          ]
        }
      ]
    },
    {
      "cell_type": "markdown",
      "source": [
        "If expand the left sidebar in Colab, you should see a folder icon. This will show the typical file navigation menu, and you should see the `sample_data` folder there as well."
      ],
      "metadata": {
        "id": "yGoSDa3QItWS"
      }
    },
    {
      "cell_type": "markdown",
      "metadata": {
        "id": "2QY0FG5C7hul"
      },
      "source": [
        "And the following command will list information about the operating system that this notebook is running on. Note that the `cat` command prints the contents of a file. So, this is printing the contents of all files in the `/etc/` folder that end in the word `release,` which is where Linux distributions store OS information."
      ]
    },
    {
      "cell_type": "code",
      "execution_count": 18,
      "metadata": {
        "colab": {
          "base_uri": "https://localhost:8080/"
        },
        "id": "qMwA25g46QmC",
        "outputId": "1d4e28b0-d747-4309-ceea-06cc4722268a"
      },
      "outputs": [
        {
          "output_type": "stream",
          "name": "stdout",
          "text": [
            "DISTRIB_ID=Ubuntu\n",
            "DISTRIB_RELEASE=22.04\n",
            "DISTRIB_CODENAME=jammy\n",
            "DISTRIB_DESCRIPTION=\"Ubuntu 22.04.3 LTS\"\n",
            "PRETTY_NAME=\"Ubuntu 22.04.3 LTS\"\n",
            "NAME=\"Ubuntu\"\n",
            "VERSION_ID=\"22.04\"\n",
            "VERSION=\"22.04.3 LTS (Jammy Jellyfish)\"\n",
            "VERSION_CODENAME=jammy\n",
            "ID=ubuntu\n",
            "ID_LIKE=debian\n",
            "HOME_URL=\"https://www.ubuntu.com/\"\n",
            "SUPPORT_URL=\"https://help.ubuntu.com/\"\n",
            "BUG_REPORT_URL=\"https://bugs.launchpad.net/ubuntu/\"\n",
            "PRIVACY_POLICY_URL=\"https://www.ubuntu.com/legal/terms-and-policies/privacy-policy\"\n",
            "UBUNTU_CODENAME=jammy\n"
          ]
        }
      ],
      "source": [
        "!cat /etc/*release"
      ]
    },
    {
      "cell_type": "markdown",
      "source": [
        "## Cloning the course repository\n",
        "\n",
        "For many labs and demos, you will need to access data that is stored in the class GitHub repository, which is here:\n",
        "\n",
        "https://github.com/nmattei/cmps3160/\n",
        "\n",
        "If you have never used GitHub before, git is one of the most widely used version control management systems today, and invaluable when working in a team. GitHub is a web-based hosting service built around git that supports hosting git repositories, user management, etc. There are other similar services, e.g., BitBucket and GitLab.\n",
        "\n",
        "Our use of git/github for the class will be minimal; however, we encourage you to use it for collaboration for your class project, or for other classes, or for anything because it's great. To learn more about GitHub, see [this tutorial](https://docs.github.com/en/get-started/quickstart/hello-world). Note -- you don't need to do that tutorial to complete this notebook.\n",
        "\n",
        "The main thing we want to do is clone the course files into this Colab virtual machine. To do so, we will issue a `git clone` command. This will copy all the files from the course Github to our virtual machine:"
      ],
      "metadata": {
        "id": "YsjiVwI0Ionk"
      }
    },
    {
      "cell_type": "code",
      "source": [
        "!git clone https://github.com/nmattei/cmps3160.git"
      ],
      "metadata": {
        "colab": {
          "base_uri": "https://localhost:8080/"
        },
        "id": "caTyqGy6JMj3",
        "outputId": "0ee927a9-2dfe-48d9-97f9-380234fc0572"
      },
      "execution_count": 19,
      "outputs": [
        {
          "output_type": "stream",
          "name": "stdout",
          "text": [
            "Cloning into 'cmps3160'...\n",
            "remote: Enumerating objects: 2053, done.\u001b[K\n",
            "remote: Counting objects: 100% (216/216), done.\u001b[K\n",
            "remote: Compressing objects: 100% (106/106), done.\u001b[K\n",
            "remote: Total 2053 (delta 146), reused 126 (delta 103), pack-reused 1837 (from 2)\u001b[K\n",
            "Receiving objects: 100% (2053/2053), 52.34 MiB | 25.79 MiB/s, done.\n",
            "Resolving deltas: 100% (1197/1197), done.\n"
          ]
        }
      ]
    },
    {
      "cell_type": "markdown",
      "source": [
        "We should now see a folder called `cmps3160`, which contains a copy of the GitHub repository:"
      ],
      "metadata": {
        "id": "Agf-RAeLJWv1"
      }
    },
    {
      "cell_type": "code",
      "source": [
        "!ls"
      ],
      "metadata": {
        "colab": {
          "base_uri": "https://localhost:8080/"
        },
        "id": "CRGUMRylJd-5",
        "outputId": "3d1f3a52-b8c8-4125-e257-bbb546d579b1"
      },
      "execution_count": 20,
      "outputs": [
        {
          "output_type": "stream",
          "name": "stdout",
          "text": [
            "cmps3160  drive  sample_data\n"
          ]
        }
      ]
    },
    {
      "cell_type": "code",
      "source": [
        "!ls cmps3160"
      ],
      "metadata": {
        "colab": {
          "base_uri": "https://localhost:8080/"
        },
        "id": "fw4TzJmwJfkJ",
        "outputId": "3aed80a6-3ce4-4aae-94fe-dcfbc2bd16c2"
      },
      "execution_count": 21,
      "outputs": [
        {
          "output_type": "stream",
          "name": "stdout",
          "text": [
            "404.html      css     Dockerfile    img        js\t LICENSE    resources.md  tags.html\n",
            "CHANGELOG.md  _data   Gemfile\t    _includes  _labs\t _projects  schedule.md\n",
            "_config.yml   _demos  Gemfile.lock  index.md   _layouts  README.md  syllabus.md\n"
          ]
        }
      ]
    },
    {
      "cell_type": "markdown",
      "source": [
        "## Changing Directories"
      ],
      "metadata": {
        "id": "tz8KN7QQLh7T"
      }
    },
    {
      "cell_type": "markdown",
      "source": [
        "To change the current working directory, we will use the `cd` command. Note that we need to prefix this with a % symbol, to ensure the directory change will persist to the next cells."
      ],
      "metadata": {
        "id": "VTSJ3l-WLklg"
      }
    },
    {
      "cell_type": "code",
      "source": [
        "%cd cmps3160/_labs"
      ],
      "metadata": {
        "colab": {
          "base_uri": "https://localhost:8080/"
        },
        "id": "hI50VmlmLvN5",
        "outputId": "7fb8ca60-023a-4adb-8ec4-40c3df88aae3"
      },
      "execution_count": 22,
      "outputs": [
        {
          "output_type": "stream",
          "name": "stdout",
          "text": [
            "/content/cmps3160/_labs\n"
          ]
        }
      ]
    },
    {
      "cell_type": "code",
      "source": [
        "!pwd"
      ],
      "metadata": {
        "colab": {
          "base_uri": "https://localhost:8080/"
        },
        "id": "753vRkToLxRY",
        "outputId": "9d723568-bc61-4248-b829-7f6d9bae64a3"
      },
      "execution_count": 23,
      "outputs": [
        {
          "output_type": "stream",
          "name": "stdout",
          "text": [
            "/content/cmps3160/_labs\n"
          ]
        }
      ]
    },
    {
      "cell_type": "code",
      "source": [
        "# Now, we can list the contents of the `_labs` folder.\n",
        "!ls"
      ],
      "metadata": {
        "colab": {
          "base_uri": "https://localhost:8080/"
        },
        "id": "Cr-8JD82L95C",
        "outputId": "984224ad-5588-49dd-af99-2fcbb7aedbd6"
      },
      "execution_count": 24,
      "outputs": [
        {
          "output_type": "stream",
          "name": "stdout",
          "text": [
            "data\tLab01  Lab03  Lab05  Lab07  Lab09  Lab11  old\t     _tmp.md\n",
            "images\tLab02  Lab04  Lab06  Lab08  Lab10  Lab12  README.md\n"
          ]
        }
      ]
    },
    {
      "cell_type": "code",
      "source": [
        "# change back the working directory to /content\n",
        "%cd /content\n",
        "!ls"
      ],
      "metadata": {
        "colab": {
          "base_uri": "https://localhost:8080/"
        },
        "id": "3jC4lsTeMG4h",
        "outputId": "77ce07b6-63c0-47e2-d73c-ae3a1f7e6ed6"
      },
      "execution_count": 25,
      "outputs": [
        {
          "output_type": "stream",
          "name": "stdout",
          "text": [
            "/content\n",
            "cmps3160  drive  sample_data\n"
          ]
        }
      ]
    },
    {
      "cell_type": "markdown",
      "source": [
        "## Non-persistence of Colab Virtual Machines\n",
        "\n",
        "An important thing to note about Colab is that files you create during the session will not persist once the runtime shuts down. Google creates these temporary virtual environments to host your notebook, but it shuts them down so the resource can be reallocated to other notebooks. The runtime will shutdown automatically if not used for a few hours, so be careful about files that are created during the session.\n",
        "\n",
        "This means that the `cmps3160` folder that we just created will disappear if we restart the session. You can test this by clicking on `Runtime->Disconnect and delete Runtime`. If you do so, you'll notice `cmps3160` is gone:"
      ],
      "metadata": {
        "id": "R7LYduoJJh1H"
      }
    },
    {
      "cell_type": "code",
      "source": [
        "!ls"
      ],
      "metadata": {
        "colab": {
          "base_uri": "https://localhost:8080/"
        },
        "id": "Nqin2Jd3KFi5",
        "outputId": "32f2ea3f-32fa-418a-cf14-8f59efcd2c1e"
      },
      "execution_count": 26,
      "outputs": [
        {
          "output_type": "stream",
          "name": "stdout",
          "text": [
            "cmps3160  drive  sample_data\n"
          ]
        }
      ]
    },
    {
      "cell_type": "markdown",
      "source": [
        "To get it back, you'll have to issue the `git clone` command above again.\n",
        "\n",
        "\n",
        "While these newly created files will disappear, note that the code you write in this notebook should be fine. It should be saved in the `Colab Notebooks` folder in the root of your Google Drive. Please be sure to save frequently as you are working on assignments."
      ],
      "metadata": {
        "id": "feWVZyKiKP1M"
      }
    },
    {
      "cell_type": "markdown",
      "source": [
        "## Mounting Your Google Drive\n",
        "\n",
        "On some occasions, you may want to create data that will persist. For example, when working on your course project, you don't want to re-collect any data you need for your analysis.\n",
        "\n",
        "One way to make this data persist is to write directly to your Google Drive, rather than to this virual machine. To do so, we can use a Python command to \"mount\" the Google Drive. This will pop up a screen asking you to give this Colab notebook access to your Google Drive. **If you have multiple Google accounts, please be sure to use the same one consistently throughout the course.**:"
      ],
      "metadata": {
        "id": "3q3GKbw6KrC7"
      }
    },
    {
      "cell_type": "code",
      "source": [
        "# Mount our personal google drive. This will pop up a\n",
        "# confirmation screen giving this notebook access to your Google drive.\n",
        "# You will first need a gmail account for this to work.\n",
        "from google.colab import drive\n",
        "drive.mount('/content/drive')"
      ],
      "metadata": {
        "colab": {
          "base_uri": "https://localhost:8080/"
        },
        "id": "WN-VhFhMLI1R",
        "outputId": "48321c64-ed2a-4575-bd57-17253d8477e4"
      },
      "execution_count": 27,
      "outputs": [
        {
          "output_type": "stream",
          "name": "stdout",
          "text": [
            "Drive already mounted at /content/drive; to attempt to forcibly remount, call drive.mount(\"/content/drive\", force_remount=True).\n"
          ]
        }
      ]
    },
    {
      "cell_type": "markdown",
      "metadata": {
        "id": "LCHIXfGS02xa"
      },
      "source": [
        "You should now see the contents of your Google drive by navigating to the folder icon in the left panel. It is viewable at `/content/drive/MyDrive`.\n",
        "\n",
        "You can also use the `ls` command to list the contents of your Google Drive:"
      ]
    },
    {
      "cell_type": "code",
      "execution_count": 28,
      "metadata": {
        "id": "0aW9AGXI9GBG",
        "colab": {
          "base_uri": "https://localhost:8080/"
        },
        "outputId": "b88a2837-362b-4a43-9c1b-3cb3afc30439"
      },
      "outputs": [
        {
          "output_type": "stream",
          "name": "stdout",
          "text": [
            "'10 17 Class Notes.gdoc'\n",
            "'10 21 Notes.gdoc'\n",
            " 20170217_164011.mp4\n",
            " 20170219_134926.mp4\n",
            " 352.pdf\n",
            "'6321 Magnolia St 2.m4a'\n",
            "'Analyzing the Robustness Of Prevelant Social Engineerign Defese.gdoc'\n",
            " Assignments.gsheet\n",
            "'Assignment tracker.gsheet'\n",
            "'Barclays Test.gdoc'\n",
            "'Brian Kisken Cover Letter and Application.pdf'\n",
            "'Brian Kisken Tulane Resume (1).pdf'\n",
            "'BurkenRoads Report Questions.gdoc'\n",
            "'Business Analytics Collective Notes 3.6.gdoc'\n",
            "'Business analytics midterm notes.gdoc'\n",
            "'Calhoun Chronicle Research.gdoc'\n",
            " CAM02551.mp4\n",
            "'chapter 5 class notes.pdf'\n",
            "'Choosing Classes.gdoc'\n",
            "'Class Notes 11 2 Sorting  Quiz notes + other.gdoc'\n",
            "'Colab Notebooks'\n",
            "'Comp Sci Chapter 3.gdoc'\n",
            "'Comp sci code.gdoc'\n",
            "'Copy of Gradient Minimal Software Company Consulting Presentation.gslides'\n",
            "'Corporate Governance Video.gdoc'\n",
            " Demo-01.ipynb\n",
            "'Drone Simulaiton.gdoc'\n",
            " Drop_Add_Form_fillable_rev2.pdf\n",
            "'Dr. Wood Meeting Two Notes.gdoc'\n",
            "'Empathy Map.gdoc'\n",
            "'Executive Summary Two.gdoc'\n",
            "'Extra Credit lab.gsheet'\n",
            "'FInal Project'\n",
            "'Final-Sample-Questions-without-answers 2.gdoc'\n",
            "'Final-Sample-Questions-without-answers 2.pdf'\n",
            "'Financial Management Project.gsheet'\n",
            "'Getting started.pdf'\n",
            "'GLDD Investment Thesis.docx'\n",
            "'Graphics 8 23.gdoc'\n",
            "'Great Lakes After meeting 3.xlsx'\n",
            "'Hurricane Impact.gsheet'\n",
            "'IMG_5291 (1).HEIC'\n",
            " IMG_5291.HEIC\n",
            "'IMG_5292 (1).HEIC'\n",
            " IMG_5292.HEIC\n",
            " JacksonLeoneCoverLetter.pdf\n",
            "'Lord of the flies.pdf'\n",
            "'MH 2024_SPRING_Financing problem set workbook.xlsx'\n",
            "'MH 2024_Spring_Valuation_problem_set_workbook (1).xlsx'\n",
            "'MH 2024_Spring_Valuation_problem_set_workbook (2).xlsx'\n",
            "'MH 2024_Spring_Valuation_problem_set_workbook (3).xlsx'\n",
            "'MH 2024_Spring_Valuation_problem_set_workbook.xlsx'\n",
            "'Mod 9 videos.gdoc'\n",
            "'Namnala Video.gdoc'\n",
            "'Notes After Midterm Equities.gdoc'\n",
            "'Ohare air.gdoc'\n",
            " Project+Plan+template.xlsx\n",
            "'PSYC Class Notes 8 29.gdoc'\n",
            "'Recursion Lab Part 2 - Column chart 1 (1).gsheet'\n",
            "'Recursion Lab Part 2 - Column chart 1.gsheet'\n",
            "'Scout Spreadsheet Template.gsheet'\n",
            "'Section 29 Doubly-Linked Lists.gdoc'\n",
            "'Shoe images for Digital Media.gdoc'\n",
            "'Speaker 2.27.gdoc'\n",
            "'Sports betting.gdoc'\n",
            "'Terms Blank.gdoc'\n",
            "'Terms Filled.gdoc'\n",
            "'Things To Know in NOLA.gslides'\n",
            "'To do.gdoc'\n",
            "'To do List.gdoc'\n",
            "'To-do list.gsheet'\n",
            "'Toups Midterm 2 Class Notes.gdoc'\n",
            "'Tulane IFC Scholarship App.gdoc'\n",
            "'Tulane Stuff'\n",
            "'UConn BIO'\n",
            "'Untitled Diagram (1).drawio.png'\n",
            "'Untitled Diagram.drawio.png'\n",
            "'Untitled document (1).gdoc'\n",
            "'Untitled document (2).gdoc'\n",
            "'Untitled document.gdoc'\n"
          ]
        }
      ],
      "source": [
        "!ls /content/drive/MyDrive"
      ]
    },
    {
      "cell_type": "markdown",
      "metadata": {
        "id": "1gg8RMZQ2DM5"
      },
      "source": [
        "To change the current working directory to be the location of your Google drive, we will issue a `cd` command preceded by the % symbol. The difference between ! and % is that % will actually have a persistent effect on the notebook."
      ]
    },
    {
      "cell_type": "code",
      "execution_count": 29,
      "metadata": {
        "colab": {
          "base_uri": "https://localhost:8080/"
        },
        "id": "6KhZtg8jJEln",
        "outputId": "a0d780a9-07c3-4bee-c10b-53c5354f04e7"
      },
      "outputs": [
        {
          "output_type": "stream",
          "name": "stdout",
          "text": [
            "/content/drive/My Drive\n"
          ]
        }
      ],
      "source": [
        "%cd /content/drive/My Drive"
      ]
    },
    {
      "cell_type": "code",
      "execution_count": 30,
      "metadata": {
        "colab": {
          "base_uri": "https://localhost:8080/"
        },
        "id": "W-gcPuCT2Xnl",
        "outputId": "fc87cd98-166c-4590-86d6-2525462b6bea"
      },
      "outputs": [
        {
          "output_type": "stream",
          "name": "stdout",
          "text": [
            "/content/drive/My Drive\n"
          ]
        }
      ],
      "source": [
        "!pwd"
      ]
    },
    {
      "cell_type": "markdown",
      "source": [
        "To test that this works, we will create a text file and write a sentence to it."
      ],
      "metadata": {
        "id": "b_t9_qO0NRR2"
      }
    },
    {
      "cell_type": "code",
      "source": [
        "outf = open('test_file.txt', 'wt')\n",
        "outf.write('Hello from Colab!')\n",
        "outf.close()"
      ],
      "metadata": {
        "id": "YWM4V4pGNVly"
      },
      "execution_count": 31,
      "outputs": []
    },
    {
      "cell_type": "markdown",
      "source": [
        "We can see that this file exists by printing its contents here:"
      ],
      "metadata": {
        "id": "IOEuST9wNlVk"
      }
    },
    {
      "cell_type": "code",
      "source": [
        "!cat test_file.txt"
      ],
      "metadata": {
        "colab": {
          "base_uri": "https://localhost:8080/"
        },
        "id": "Tk66xlETNbFx",
        "outputId": "b0c2eabb-effa-4481-e5e8-1bb7841e6a26"
      },
      "execution_count": 32,
      "outputs": [
        {
          "output_type": "stream",
          "name": "stdout",
          "text": [
            "Hello from Colab!"
          ]
        }
      ]
    },
    {
      "cell_type": "markdown",
      "source": [
        "You should also see this file when you navigate to your Google Drive separately in your browser.\n",
        "\n",
        "This file will remain here even if you shutdown the runtime of this notebook."
      ],
      "metadata": {
        "id": "3yBrzo_WNrQ2"
      }
    },
    {
      "cell_type": "markdown",
      "source": [
        "## Data for Labs\n",
        "\n",
        "The data used in the labs is in the `_labs/data` folder of the course repository.\n",
        "\n",
        "Since we already cloned the repository, let's naviage to the `_labs` folder:"
      ],
      "metadata": {
        "id": "5FRwaYMkN3e3"
      }
    },
    {
      "cell_type": "code",
      "source": [
        "%cd /content/cmps3160/_labs/\n",
        "!ls"
      ],
      "metadata": {
        "colab": {
          "base_uri": "https://localhost:8080/"
        },
        "id": "Y6BZ1XieOCEq",
        "outputId": "0f5523bf-fa6c-4ee4-c322-d8b740021adb"
      },
      "execution_count": 33,
      "outputs": [
        {
          "output_type": "stream",
          "name": "stdout",
          "text": [
            "/content/cmps3160/_labs\n",
            "data\tLab01  Lab03  Lab05  Lab07  Lab09  Lab11  old\t     _tmp.md\n",
            "images\tLab02  Lab04  Lab06  Lab08  Lab10  Lab12  README.md\n"
          ]
        }
      ]
    },
    {
      "cell_type": "markdown",
      "metadata": {
        "id": "iKYXQYqH4TRM"
      },
      "source": [
        "The `data` folder contains all the data used for the labs."
      ]
    },
    {
      "cell_type": "code",
      "execution_count": 34,
      "metadata": {
        "colab": {
          "base_uri": "https://localhost:8080/"
        },
        "id": "d-NkpimW4jpA",
        "outputId": "e40909f2-e8f5-4ac9-f7a2-3c8b1b704bdb"
      },
      "outputs": [
        {
          "output_type": "stream",
          "name": "stdout",
          "text": [
            "ames.tsv  movielens.zip  names.zip  reds.csv  tips.csv\ttitanic.csv  whites.csv\n"
          ]
        }
      ],
      "source": [
        "!ls data"
      ]
    },
    {
      "cell_type": "markdown",
      "metadata": {
        "id": "00tmjw-w4eYq"
      },
      "source": [
        "The next lab will work with the file `titanic.csv`, which contains information on passengers of the ill-fated Titanic passenger ship. You can use the command `head` to see the first ten lines of this file."
      ]
    },
    {
      "cell_type": "code",
      "execution_count": 35,
      "metadata": {
        "colab": {
          "base_uri": "https://localhost:8080/"
        },
        "id": "FWaiyCOv0Cw5",
        "outputId": "d3423af9-ae0b-4db4-a7fd-79714b3c99ad"
      },
      "outputs": [
        {
          "output_type": "stream",
          "name": "stdout",
          "text": [
            "﻿pclass,survived,name,sex,age,sibsp,parch,ticket,fare,cabin,embarked,boat,body,home.dest\r\n",
            "1,1,\"Allen, Miss. Elisabeth Walton\",female,29,0,0,24160,211.3375,B5,S,2,,\"St Louis, MO\"\r\n",
            "1,1,\"Allison, Master. Hudson Trevor\",male,0.9167,1,2,113781,151.5500,C22 C26,S,11,,\"Montreal, PQ / Chesterville, ON\"\r\n",
            "1,0,\"Allison, Miss. Helen Loraine\",female,2,1,2,113781,151.5500,C22 C26,S,,,\"Montreal, PQ / Chesterville, ON\"\r\n",
            "1,0,\"Allison, Mr. Hudson Joshua Creighton\",male,30,1,2,113781,151.5500,C22 C26,S,,135,\"Montreal, PQ / Chesterville, ON\"\r\n",
            "1,0,\"Allison, Mrs. Hudson J C (Bessie Waldo Daniels)\",female,25,1,2,113781,151.5500,C22 C26,S,,,\"Montreal, PQ / Chesterville, ON\"\r\n",
            "1,1,\"Anderson, Mr. Harry\",male,48,0,0,19952,26.5500,E12,S,3,,\"New York, NY\"\r\n",
            "1,1,\"Andrews, Miss. Kornelia Theodosia\",female,63,1,0,13502,77.9583,D7,S,10,,\"Hudson, NY\"\r\n",
            "1,0,\"Andrews, Mr. Thomas Jr\",male,39,0,0,112050,0.0000,A36,S,,,\"Belfast, NI\"\r\n",
            "1,1,\"Appleton, Mrs. Edward Dale (Charlotte Lamson)\",female,53,2,0,11769,51.4792,C101,S,D,,\"Bayside, Queens, NY\"\r\n"
          ]
        }
      ],
      "source": [
        "!head data/titanic.csv"
      ]
    },
    {
      "cell_type": "markdown",
      "metadata": {
        "id": "U6-zRO0CDmKi"
      },
      "source": [
        "We can see that this is a comma-separated file, where each row contains information on a ship passenger."
      ]
    },
    {
      "cell_type": "markdown",
      "metadata": {
        "id": "lt7vmxhLDGof"
      },
      "source": [
        "## Pandas\n",
        "\n",
        "Pandas is a Python library that we will be using extensively to store and analyze data. You can find a brief overview of Pandas [here](https://pandas.pydata.org/docs/user_guide/10min.html).\n",
        "\n",
        "The key data structure in Pandas is the [DataFrame](https://pandas.pydata.org/pandas-docs/stable/reference/api/pandas.DataFrame.html), which is conceptually similar to an Excel spreadsheet.\n",
        "\n",
        "Below, we import the `pandas` library and read `titanic.csv` into a new DataFrame object called `df`.\n",
        "\n",
        "Note that the path we enter here will depend on the current working directory. Here, we assume we are already in the `/content/cmps3160/_labs` folder, so we use the **relative path** `data/titanic.csv` in order to read in the file. This path is relative to the current working directory.\n",
        "\n",
        "We can print the first five rows of the DataFrame using the `.head()` command."
      ]
    },
    {
      "cell_type": "code",
      "execution_count": 36,
      "metadata": {
        "colab": {
          "base_uri": "https://localhost:8080/",
          "height": 275
        },
        "id": "G6bKHXluQY7J",
        "outputId": "f57d36d5-e7fb-463f-a709-2471daed1bd7"
      },
      "outputs": [
        {
          "output_type": "execute_result",
          "data": {
            "text/plain": [
              "   pclass  survived                                             name     sex  \\\n",
              "0       1         1                    Allen, Miss. Elisabeth Walton  female   \n",
              "1       1         1                   Allison, Master. Hudson Trevor    male   \n",
              "2       1         0                     Allison, Miss. Helen Loraine  female   \n",
              "3       1         0             Allison, Mr. Hudson Joshua Creighton    male   \n",
              "4       1         0  Allison, Mrs. Hudson J C (Bessie Waldo Daniels)  female   \n",
              "\n",
              "       age  sibsp  parch  ticket      fare    cabin embarked boat   body  \\\n",
              "0  29.0000      0      0   24160  211.3375       B5        S    2    NaN   \n",
              "1   0.9167      1      2  113781  151.5500  C22 C26        S   11    NaN   \n",
              "2   2.0000      1      2  113781  151.5500  C22 C26        S  NaN    NaN   \n",
              "3  30.0000      1      2  113781  151.5500  C22 C26        S  NaN  135.0   \n",
              "4  25.0000      1      2  113781  151.5500  C22 C26        S  NaN    NaN   \n",
              "\n",
              "                         home.dest  \n",
              "0                     St Louis, MO  \n",
              "1  Montreal, PQ / Chesterville, ON  \n",
              "2  Montreal, PQ / Chesterville, ON  \n",
              "3  Montreal, PQ / Chesterville, ON  \n",
              "4  Montreal, PQ / Chesterville, ON  "
            ],
            "text/html": [
              "\n",
              "  <div id=\"df-c1ba6745-ff41-4576-9f5f-07cea2995412\" class=\"colab-df-container\">\n",
              "    <div>\n",
              "<style scoped>\n",
              "    .dataframe tbody tr th:only-of-type {\n",
              "        vertical-align: middle;\n",
              "    }\n",
              "\n",
              "    .dataframe tbody tr th {\n",
              "        vertical-align: top;\n",
              "    }\n",
              "\n",
              "    .dataframe thead th {\n",
              "        text-align: right;\n",
              "    }\n",
              "</style>\n",
              "<table border=\"1\" class=\"dataframe\">\n",
              "  <thead>\n",
              "    <tr style=\"text-align: right;\">\n",
              "      <th></th>\n",
              "      <th>pclass</th>\n",
              "      <th>survived</th>\n",
              "      <th>name</th>\n",
              "      <th>sex</th>\n",
              "      <th>age</th>\n",
              "      <th>sibsp</th>\n",
              "      <th>parch</th>\n",
              "      <th>ticket</th>\n",
              "      <th>fare</th>\n",
              "      <th>cabin</th>\n",
              "      <th>embarked</th>\n",
              "      <th>boat</th>\n",
              "      <th>body</th>\n",
              "      <th>home.dest</th>\n",
              "    </tr>\n",
              "  </thead>\n",
              "  <tbody>\n",
              "    <tr>\n",
              "      <th>0</th>\n",
              "      <td>1</td>\n",
              "      <td>1</td>\n",
              "      <td>Allen, Miss. Elisabeth Walton</td>\n",
              "      <td>female</td>\n",
              "      <td>29.0000</td>\n",
              "      <td>0</td>\n",
              "      <td>0</td>\n",
              "      <td>24160</td>\n",
              "      <td>211.3375</td>\n",
              "      <td>B5</td>\n",
              "      <td>S</td>\n",
              "      <td>2</td>\n",
              "      <td>NaN</td>\n",
              "      <td>St Louis, MO</td>\n",
              "    </tr>\n",
              "    <tr>\n",
              "      <th>1</th>\n",
              "      <td>1</td>\n",
              "      <td>1</td>\n",
              "      <td>Allison, Master. Hudson Trevor</td>\n",
              "      <td>male</td>\n",
              "      <td>0.9167</td>\n",
              "      <td>1</td>\n",
              "      <td>2</td>\n",
              "      <td>113781</td>\n",
              "      <td>151.5500</td>\n",
              "      <td>C22 C26</td>\n",
              "      <td>S</td>\n",
              "      <td>11</td>\n",
              "      <td>NaN</td>\n",
              "      <td>Montreal, PQ / Chesterville, ON</td>\n",
              "    </tr>\n",
              "    <tr>\n",
              "      <th>2</th>\n",
              "      <td>1</td>\n",
              "      <td>0</td>\n",
              "      <td>Allison, Miss. Helen Loraine</td>\n",
              "      <td>female</td>\n",
              "      <td>2.0000</td>\n",
              "      <td>1</td>\n",
              "      <td>2</td>\n",
              "      <td>113781</td>\n",
              "      <td>151.5500</td>\n",
              "      <td>C22 C26</td>\n",
              "      <td>S</td>\n",
              "      <td>NaN</td>\n",
              "      <td>NaN</td>\n",
              "      <td>Montreal, PQ / Chesterville, ON</td>\n",
              "    </tr>\n",
              "    <tr>\n",
              "      <th>3</th>\n",
              "      <td>1</td>\n",
              "      <td>0</td>\n",
              "      <td>Allison, Mr. Hudson Joshua Creighton</td>\n",
              "      <td>male</td>\n",
              "      <td>30.0000</td>\n",
              "      <td>1</td>\n",
              "      <td>2</td>\n",
              "      <td>113781</td>\n",
              "      <td>151.5500</td>\n",
              "      <td>C22 C26</td>\n",
              "      <td>S</td>\n",
              "      <td>NaN</td>\n",
              "      <td>135.0</td>\n",
              "      <td>Montreal, PQ / Chesterville, ON</td>\n",
              "    </tr>\n",
              "    <tr>\n",
              "      <th>4</th>\n",
              "      <td>1</td>\n",
              "      <td>0</td>\n",
              "      <td>Allison, Mrs. Hudson J C (Bessie Waldo Daniels)</td>\n",
              "      <td>female</td>\n",
              "      <td>25.0000</td>\n",
              "      <td>1</td>\n",
              "      <td>2</td>\n",
              "      <td>113781</td>\n",
              "      <td>151.5500</td>\n",
              "      <td>C22 C26</td>\n",
              "      <td>S</td>\n",
              "      <td>NaN</td>\n",
              "      <td>NaN</td>\n",
              "      <td>Montreal, PQ / Chesterville, ON</td>\n",
              "    </tr>\n",
              "  </tbody>\n",
              "</table>\n",
              "</div>\n",
              "    <div class=\"colab-df-buttons\">\n",
              "\n",
              "  <div class=\"colab-df-container\">\n",
              "    <button class=\"colab-df-convert\" onclick=\"convertToInteractive('df-c1ba6745-ff41-4576-9f5f-07cea2995412')\"\n",
              "            title=\"Convert this dataframe to an interactive table.\"\n",
              "            style=\"display:none;\">\n",
              "\n",
              "  <svg xmlns=\"http://www.w3.org/2000/svg\" height=\"24px\" viewBox=\"0 -960 960 960\">\n",
              "    <path d=\"M120-120v-720h720v720H120Zm60-500h600v-160H180v160Zm220 220h160v-160H400v160Zm0 220h160v-160H400v160ZM180-400h160v-160H180v160Zm440 0h160v-160H620v160ZM180-180h160v-160H180v160Zm440 0h160v-160H620v160Z\"/>\n",
              "  </svg>\n",
              "    </button>\n",
              "\n",
              "  <style>\n",
              "    .colab-df-container {\n",
              "      display:flex;\n",
              "      gap: 12px;\n",
              "    }\n",
              "\n",
              "    .colab-df-convert {\n",
              "      background-color: #E8F0FE;\n",
              "      border: none;\n",
              "      border-radius: 50%;\n",
              "      cursor: pointer;\n",
              "      display: none;\n",
              "      fill: #1967D2;\n",
              "      height: 32px;\n",
              "      padding: 0 0 0 0;\n",
              "      width: 32px;\n",
              "    }\n",
              "\n",
              "    .colab-df-convert:hover {\n",
              "      background-color: #E2EBFA;\n",
              "      box-shadow: 0px 1px 2px rgba(60, 64, 67, 0.3), 0px 1px 3px 1px rgba(60, 64, 67, 0.15);\n",
              "      fill: #174EA6;\n",
              "    }\n",
              "\n",
              "    .colab-df-buttons div {\n",
              "      margin-bottom: 4px;\n",
              "    }\n",
              "\n",
              "    [theme=dark] .colab-df-convert {\n",
              "      background-color: #3B4455;\n",
              "      fill: #D2E3FC;\n",
              "    }\n",
              "\n",
              "    [theme=dark] .colab-df-convert:hover {\n",
              "      background-color: #434B5C;\n",
              "      box-shadow: 0px 1px 3px 1px rgba(0, 0, 0, 0.15);\n",
              "      filter: drop-shadow(0px 1px 2px rgba(0, 0, 0, 0.3));\n",
              "      fill: #FFFFFF;\n",
              "    }\n",
              "  </style>\n",
              "\n",
              "    <script>\n",
              "      const buttonEl =\n",
              "        document.querySelector('#df-c1ba6745-ff41-4576-9f5f-07cea2995412 button.colab-df-convert');\n",
              "      buttonEl.style.display =\n",
              "        google.colab.kernel.accessAllowed ? 'block' : 'none';\n",
              "\n",
              "      async function convertToInteractive(key) {\n",
              "        const element = document.querySelector('#df-c1ba6745-ff41-4576-9f5f-07cea2995412');\n",
              "        const dataTable =\n",
              "          await google.colab.kernel.invokeFunction('convertToInteractive',\n",
              "                                                    [key], {});\n",
              "        if (!dataTable) return;\n",
              "\n",
              "        const docLinkHtml = 'Like what you see? Visit the ' +\n",
              "          '<a target=\"_blank\" href=https://colab.research.google.com/notebooks/data_table.ipynb>data table notebook</a>'\n",
              "          + ' to learn more about interactive tables.';\n",
              "        element.innerHTML = '';\n",
              "        dataTable['output_type'] = 'display_data';\n",
              "        await google.colab.output.renderOutput(dataTable, element);\n",
              "        const docLink = document.createElement('div');\n",
              "        docLink.innerHTML = docLinkHtml;\n",
              "        element.appendChild(docLink);\n",
              "      }\n",
              "    </script>\n",
              "  </div>\n",
              "\n",
              "\n",
              "<div id=\"df-3583589b-8a0b-4e1a-a2a7-ba76dd4236db\">\n",
              "  <button class=\"colab-df-quickchart\" onclick=\"quickchart('df-3583589b-8a0b-4e1a-a2a7-ba76dd4236db')\"\n",
              "            title=\"Suggest charts\"\n",
              "            style=\"display:none;\">\n",
              "\n",
              "<svg xmlns=\"http://www.w3.org/2000/svg\" height=\"24px\"viewBox=\"0 0 24 24\"\n",
              "     width=\"24px\">\n",
              "    <g>\n",
              "        <path d=\"M19 3H5c-1.1 0-2 .9-2 2v14c0 1.1.9 2 2 2h14c1.1 0 2-.9 2-2V5c0-1.1-.9-2-2-2zM9 17H7v-7h2v7zm4 0h-2V7h2v10zm4 0h-2v-4h2v4z\"/>\n",
              "    </g>\n",
              "</svg>\n",
              "  </button>\n",
              "\n",
              "<style>\n",
              "  .colab-df-quickchart {\n",
              "      --bg-color: #E8F0FE;\n",
              "      --fill-color: #1967D2;\n",
              "      --hover-bg-color: #E2EBFA;\n",
              "      --hover-fill-color: #174EA6;\n",
              "      --disabled-fill-color: #AAA;\n",
              "      --disabled-bg-color: #DDD;\n",
              "  }\n",
              "\n",
              "  [theme=dark] .colab-df-quickchart {\n",
              "      --bg-color: #3B4455;\n",
              "      --fill-color: #D2E3FC;\n",
              "      --hover-bg-color: #434B5C;\n",
              "      --hover-fill-color: #FFFFFF;\n",
              "      --disabled-bg-color: #3B4455;\n",
              "      --disabled-fill-color: #666;\n",
              "  }\n",
              "\n",
              "  .colab-df-quickchart {\n",
              "    background-color: var(--bg-color);\n",
              "    border: none;\n",
              "    border-radius: 50%;\n",
              "    cursor: pointer;\n",
              "    display: none;\n",
              "    fill: var(--fill-color);\n",
              "    height: 32px;\n",
              "    padding: 0;\n",
              "    width: 32px;\n",
              "  }\n",
              "\n",
              "  .colab-df-quickchart:hover {\n",
              "    background-color: var(--hover-bg-color);\n",
              "    box-shadow: 0 1px 2px rgba(60, 64, 67, 0.3), 0 1px 3px 1px rgba(60, 64, 67, 0.15);\n",
              "    fill: var(--button-hover-fill-color);\n",
              "  }\n",
              "\n",
              "  .colab-df-quickchart-complete:disabled,\n",
              "  .colab-df-quickchart-complete:disabled:hover {\n",
              "    background-color: var(--disabled-bg-color);\n",
              "    fill: var(--disabled-fill-color);\n",
              "    box-shadow: none;\n",
              "  }\n",
              "\n",
              "  .colab-df-spinner {\n",
              "    border: 2px solid var(--fill-color);\n",
              "    border-color: transparent;\n",
              "    border-bottom-color: var(--fill-color);\n",
              "    animation:\n",
              "      spin 1s steps(1) infinite;\n",
              "  }\n",
              "\n",
              "  @keyframes spin {\n",
              "    0% {\n",
              "      border-color: transparent;\n",
              "      border-bottom-color: var(--fill-color);\n",
              "      border-left-color: var(--fill-color);\n",
              "    }\n",
              "    20% {\n",
              "      border-color: transparent;\n",
              "      border-left-color: var(--fill-color);\n",
              "      border-top-color: var(--fill-color);\n",
              "    }\n",
              "    30% {\n",
              "      border-color: transparent;\n",
              "      border-left-color: var(--fill-color);\n",
              "      border-top-color: var(--fill-color);\n",
              "      border-right-color: var(--fill-color);\n",
              "    }\n",
              "    40% {\n",
              "      border-color: transparent;\n",
              "      border-right-color: var(--fill-color);\n",
              "      border-top-color: var(--fill-color);\n",
              "    }\n",
              "    60% {\n",
              "      border-color: transparent;\n",
              "      border-right-color: var(--fill-color);\n",
              "    }\n",
              "    80% {\n",
              "      border-color: transparent;\n",
              "      border-right-color: var(--fill-color);\n",
              "      border-bottom-color: var(--fill-color);\n",
              "    }\n",
              "    90% {\n",
              "      border-color: transparent;\n",
              "      border-bottom-color: var(--fill-color);\n",
              "    }\n",
              "  }\n",
              "</style>\n",
              "\n",
              "  <script>\n",
              "    async function quickchart(key) {\n",
              "      const quickchartButtonEl =\n",
              "        document.querySelector('#' + key + ' button');\n",
              "      quickchartButtonEl.disabled = true;  // To prevent multiple clicks.\n",
              "      quickchartButtonEl.classList.add('colab-df-spinner');\n",
              "      try {\n",
              "        const charts = await google.colab.kernel.invokeFunction(\n",
              "            'suggestCharts', [key], {});\n",
              "      } catch (error) {\n",
              "        console.error('Error during call to suggestCharts:', error);\n",
              "      }\n",
              "      quickchartButtonEl.classList.remove('colab-df-spinner');\n",
              "      quickchartButtonEl.classList.add('colab-df-quickchart-complete');\n",
              "    }\n",
              "    (() => {\n",
              "      let quickchartButtonEl =\n",
              "        document.querySelector('#df-3583589b-8a0b-4e1a-a2a7-ba76dd4236db button');\n",
              "      quickchartButtonEl.style.display =\n",
              "        google.colab.kernel.accessAllowed ? 'block' : 'none';\n",
              "    })();\n",
              "  </script>\n",
              "</div>\n",
              "\n",
              "    </div>\n",
              "  </div>\n"
            ],
            "application/vnd.google.colaboratory.intrinsic+json": {
              "type": "dataframe",
              "variable_name": "df",
              "summary": "{\n  \"name\": \"df\",\n  \"rows\": 1309,\n  \"fields\": [\n    {\n      \"column\": \"pclass\",\n      \"properties\": {\n        \"dtype\": \"number\",\n        \"std\": 0,\n        \"min\": 1,\n        \"max\": 3,\n        \"num_unique_values\": 3,\n        \"samples\": [\n          1,\n          2,\n          3\n        ],\n        \"semantic_type\": \"\",\n        \"description\": \"\"\n      }\n    },\n    {\n      \"column\": \"survived\",\n      \"properties\": {\n        \"dtype\": \"number\",\n        \"std\": 0,\n        \"min\": 0,\n        \"max\": 1,\n        \"num_unique_values\": 2,\n        \"samples\": [\n          0,\n          1\n        ],\n        \"semantic_type\": \"\",\n        \"description\": \"\"\n      }\n    },\n    {\n      \"column\": \"name\",\n      \"properties\": {\n        \"dtype\": \"string\",\n        \"num_unique_values\": 1307,\n        \"samples\": [\n          \"Saade, Mr. Jean Nassr\",\n          \"Nakid, Mr. Sahid\"\n        ],\n        \"semantic_type\": \"\",\n        \"description\": \"\"\n      }\n    },\n    {\n      \"column\": \"sex\",\n      \"properties\": {\n        \"dtype\": \"category\",\n        \"num_unique_values\": 2,\n        \"samples\": [\n          \"male\",\n          \"female\"\n        ],\n        \"semantic_type\": \"\",\n        \"description\": \"\"\n      }\n    },\n    {\n      \"column\": \"age\",\n      \"properties\": {\n        \"dtype\": \"number\",\n        \"std\": 14.413499699923594,\n        \"min\": 0.1667,\n        \"max\": 80.0,\n        \"num_unique_values\": 98,\n        \"samples\": [\n          57.0,\n          55.0\n        ],\n        \"semantic_type\": \"\",\n        \"description\": \"\"\n      }\n    },\n    {\n      \"column\": \"sibsp\",\n      \"properties\": {\n        \"dtype\": \"number\",\n        \"std\": 1,\n        \"min\": 0,\n        \"max\": 8,\n        \"num_unique_values\": 7,\n        \"samples\": [\n          0,\n          1\n        ],\n        \"semantic_type\": \"\",\n        \"description\": \"\"\n      }\n    },\n    {\n      \"column\": \"parch\",\n      \"properties\": {\n        \"dtype\": \"number\",\n        \"std\": 0,\n        \"min\": 0,\n        \"max\": 9,\n        \"num_unique_values\": 8,\n        \"samples\": [\n          2,\n          5\n        ],\n        \"semantic_type\": \"\",\n        \"description\": \"\"\n      }\n    },\n    {\n      \"column\": \"ticket\",\n      \"properties\": {\n        \"dtype\": \"string\",\n        \"num_unique_values\": 929,\n        \"samples\": [\n          \"371060\",\n          \"330971\"\n        ],\n        \"semantic_type\": \"\",\n        \"description\": \"\"\n      }\n    },\n    {\n      \"column\": \"fare\",\n      \"properties\": {\n        \"dtype\": \"number\",\n        \"std\": 51.758668239174135,\n        \"min\": 0.0,\n        \"max\": 512.3292,\n        \"num_unique_values\": 281,\n        \"samples\": [\n          5.0,\n          9.35\n        ],\n        \"semantic_type\": \"\",\n        \"description\": \"\"\n      }\n    },\n    {\n      \"column\": \"cabin\",\n      \"properties\": {\n        \"dtype\": \"category\",\n        \"num_unique_values\": 186,\n        \"samples\": [\n          \"C90\",\n          \"C80\"\n        ],\n        \"semantic_type\": \"\",\n        \"description\": \"\"\n      }\n    },\n    {\n      \"column\": \"embarked\",\n      \"properties\": {\n        \"dtype\": \"category\",\n        \"num_unique_values\": 3,\n        \"samples\": [\n          \"S\",\n          \"C\"\n        ],\n        \"semantic_type\": \"\",\n        \"description\": \"\"\n      }\n    },\n    {\n      \"column\": \"boat\",\n      \"properties\": {\n        \"dtype\": \"category\",\n        \"num_unique_values\": 27,\n        \"samples\": [\n          \"B\",\n          \"C\"\n        ],\n        \"semantic_type\": \"\",\n        \"description\": \"\"\n      }\n    },\n    {\n      \"column\": \"body\",\n      \"properties\": {\n        \"dtype\": \"number\",\n        \"std\": 97.6969219960031,\n        \"min\": 1.0,\n        \"max\": 328.0,\n        \"num_unique_values\": 121,\n        \"samples\": [\n          297.0,\n          19.0\n        ],\n        \"semantic_type\": \"\",\n        \"description\": \"\"\n      }\n    },\n    {\n      \"column\": \"home.dest\",\n      \"properties\": {\n        \"dtype\": \"category\",\n        \"num_unique_values\": 369,\n        \"samples\": [\n          \"Co Limerick, Ireland Sherbrooke, PQ\",\n          \"Amenia, ND\"\n        ],\n        \"semantic_type\": \"\",\n        \"description\": \"\"\n      }\n    }\n  ]\n}"
            }
          },
          "metadata": {},
          "execution_count": 36
        }
      ],
      "source": [
        "import pandas as pd\n",
        "df = pd.read_csv('data/titanic.csv')\n",
        "df.head()"
      ]
    },
    {
      "cell_type": "code",
      "execution_count": 37,
      "metadata": {
        "colab": {
          "base_uri": "https://localhost:8080/"
        },
        "id": "n48pVTmMCPF5",
        "outputId": "12cb43b5-d60b-483f-bc1b-e2177062a6d7"
      },
      "outputs": [
        {
          "output_type": "execute_result",
          "data": {
            "text/plain": [
              "1309"
            ]
          },
          "metadata": {},
          "execution_count": 37
        }
      ],
      "source": [
        "# How many rows are there?\n",
        "len(df)"
      ]
    },
    {
      "cell_type": "markdown",
      "metadata": {
        "id": "nvJeLkUhTweD"
      },
      "source": [
        "In the next labs, will work with DataFrames in more detail. For now, please complete the short exercises below and submit your notebook to Canvas,"
      ]
    },
    {
      "cell_type": "markdown",
      "metadata": {
        "id": "xpV26Ov8Hmes"
      },
      "source": [
        "## Exercises\n",
        "\n",
        "**1. Change the current working directory to the folder in `cmps3160/_demos/data/`.**"
      ]
    },
    {
      "cell_type": "code",
      "source": [
        "!pwd"
      ],
      "metadata": {
        "colab": {
          "base_uri": "https://localhost:8080/"
        },
        "id": "JwpSA36p7qOo",
        "outputId": "4c8af01d-0dec-4f9a-fb86-de9fb2f0c8cf"
      },
      "execution_count": 44,
      "outputs": [
        {
          "output_type": "stream",
          "name": "stdout",
          "text": [
            "/content/cmps3160/_demos/data\n"
          ]
        }
      ]
    },
    {
      "cell_type": "code",
      "source": [
        "!cd /content/cmps3160/_demos/data/"
      ],
      "metadata": {
        "id": "Hfp9fL3p8VG1"
      },
      "execution_count": 42,
      "outputs": []
    },
    {
      "cell_type": "code",
      "execution_count": 43,
      "metadata": {
        "id": "vu2Xo2CbIveU",
        "colab": {
          "base_uri": "https://localhost:8080/"
        },
        "outputId": "8c838102-082a-4323-f2ed-ca1376735bce"
      },
      "outputs": [
        {
          "output_type": "stream",
          "name": "stdout",
          "text": [
            "data\tLab01  Lab03  Lab05  Lab07  Lab09  Lab11  old\t     _tmp.md\n",
            "images\tLab02  Lab04  Lab06  Lab08  Lab10  Lab12  README.md\n",
            "/content/cmps3160/_demos/data\n"
          ]
        }
      ],
      "source": [
        "!ls\n",
        "%cd /content/cmps3160/_demos/data/\n"
      ]
    },
    {
      "cell_type": "markdown",
      "metadata": {
        "id": "K696Nd0vJcgw"
      },
      "source": [
        "Expected output:\n",
        "\n",
        "```\n",
        "/content/cmps3160/_demos/data\n",
        "```"
      ]
    },
    {
      "cell_type": "markdown",
      "metadata": {
        "id": "eYygrdVGJShy"
      },
      "source": [
        "**2. List the contents of this directory.**"
      ]
    },
    {
      "cell_type": "code",
      "execution_count": 45,
      "metadata": {
        "id": "taIsgHBcJU4F",
        "colab": {
          "base_uri": "https://localhost:8080/"
        },
        "outputId": "f98dc8c0-d38a-4275-d8dd-0f07a6ae87b9"
      },
      "outputs": [
        {
          "output_type": "stream",
          "name": "stdout",
          "text": [
            "adult.csv      bodyfat.csv  iris.csv  nba_salaries.csv\treligon.csv\t     titanic.csv\n",
            "billboard.csv  boundry.png  iris.png  nba_stats.csv\treview_polarity.zip\n"
          ]
        }
      ],
      "source": [
        "!ls"
      ]
    },
    {
      "cell_type": "markdown",
      "metadata": {
        "id": "Z4yfDGI-JiLy"
      },
      "source": [
        "Expected output:\n",
        "\n",
        "```\n",
        "adult.csv      boundry.png  nba_salaries.csv  review_polarity.zip\n",
        "billboard.csv  iris.csv     nba_stats.csv     titanic.csv\n",
        "bodyfat.csv    iris.png     religon.csv\n",
        "```"
      ]
    },
    {
      "cell_type": "markdown",
      "metadata": {
        "id": "rORN2pB6K9Op"
      },
      "source": [
        "**3. Oh look, there's another `titanic.csv` file in here. Read it into a new DataFrame called `df2` and print the first row.**"
      ]
    },
    {
      "cell_type": "code",
      "execution_count": 46,
      "metadata": {
        "id": "wLL7sfzHHorb",
        "colab": {
          "base_uri": "https://localhost:8080/",
          "height": 53
        },
        "outputId": "104f2429-de8f-4cd3-9658-900e2074b391"
      },
      "outputs": [
        {
          "output_type": "execute_result",
          "data": {
            "text/plain": [
              "Empty DataFrame\n",
              "Columns: [pclass, survived, name, sex, age, sibsp, parch, ticket, fare, cabin, embarked, boat, body, home.dest]\n",
              "Index: []"
            ],
            "text/html": [
              "\n",
              "  <div id=\"df-4686bca9-e19f-486d-abc0-e4158f9bbdbc\" class=\"colab-df-container\">\n",
              "    <div>\n",
              "<style scoped>\n",
              "    .dataframe tbody tr th:only-of-type {\n",
              "        vertical-align: middle;\n",
              "    }\n",
              "\n",
              "    .dataframe tbody tr th {\n",
              "        vertical-align: top;\n",
              "    }\n",
              "\n",
              "    .dataframe thead th {\n",
              "        text-align: right;\n",
              "    }\n",
              "</style>\n",
              "<table border=\"1\" class=\"dataframe\">\n",
              "  <thead>\n",
              "    <tr style=\"text-align: right;\">\n",
              "      <th></th>\n",
              "      <th>pclass</th>\n",
              "      <th>survived</th>\n",
              "      <th>name</th>\n",
              "      <th>sex</th>\n",
              "      <th>age</th>\n",
              "      <th>sibsp</th>\n",
              "      <th>parch</th>\n",
              "      <th>ticket</th>\n",
              "      <th>fare</th>\n",
              "      <th>cabin</th>\n",
              "      <th>embarked</th>\n",
              "      <th>boat</th>\n",
              "      <th>body</th>\n",
              "      <th>home.dest</th>\n",
              "    </tr>\n",
              "  </thead>\n",
              "  <tbody>\n",
              "  </tbody>\n",
              "</table>\n",
              "</div>\n",
              "    <div class=\"colab-df-buttons\">\n",
              "\n",
              "  <div class=\"colab-df-container\">\n",
              "    <button class=\"colab-df-convert\" onclick=\"convertToInteractive('df-4686bca9-e19f-486d-abc0-e4158f9bbdbc')\"\n",
              "            title=\"Convert this dataframe to an interactive table.\"\n",
              "            style=\"display:none;\">\n",
              "\n",
              "  <svg xmlns=\"http://www.w3.org/2000/svg\" height=\"24px\" viewBox=\"0 -960 960 960\">\n",
              "    <path d=\"M120-120v-720h720v720H120Zm60-500h600v-160H180v160Zm220 220h160v-160H400v160Zm0 220h160v-160H400v160ZM180-400h160v-160H180v160Zm440 0h160v-160H620v160ZM180-180h160v-160H180v160Zm440 0h160v-160H620v160Z\"/>\n",
              "  </svg>\n",
              "    </button>\n",
              "\n",
              "  <style>\n",
              "    .colab-df-container {\n",
              "      display:flex;\n",
              "      gap: 12px;\n",
              "    }\n",
              "\n",
              "    .colab-df-convert {\n",
              "      background-color: #E8F0FE;\n",
              "      border: none;\n",
              "      border-radius: 50%;\n",
              "      cursor: pointer;\n",
              "      display: none;\n",
              "      fill: #1967D2;\n",
              "      height: 32px;\n",
              "      padding: 0 0 0 0;\n",
              "      width: 32px;\n",
              "    }\n",
              "\n",
              "    .colab-df-convert:hover {\n",
              "      background-color: #E2EBFA;\n",
              "      box-shadow: 0px 1px 2px rgba(60, 64, 67, 0.3), 0px 1px 3px 1px rgba(60, 64, 67, 0.15);\n",
              "      fill: #174EA6;\n",
              "    }\n",
              "\n",
              "    .colab-df-buttons div {\n",
              "      margin-bottom: 4px;\n",
              "    }\n",
              "\n",
              "    [theme=dark] .colab-df-convert {\n",
              "      background-color: #3B4455;\n",
              "      fill: #D2E3FC;\n",
              "    }\n",
              "\n",
              "    [theme=dark] .colab-df-convert:hover {\n",
              "      background-color: #434B5C;\n",
              "      box-shadow: 0px 1px 3px 1px rgba(0, 0, 0, 0.15);\n",
              "      filter: drop-shadow(0px 1px 2px rgba(0, 0, 0, 0.3));\n",
              "      fill: #FFFFFF;\n",
              "    }\n",
              "  </style>\n",
              "\n",
              "    <script>\n",
              "      const buttonEl =\n",
              "        document.querySelector('#df-4686bca9-e19f-486d-abc0-e4158f9bbdbc button.colab-df-convert');\n",
              "      buttonEl.style.display =\n",
              "        google.colab.kernel.accessAllowed ? 'block' : 'none';\n",
              "\n",
              "      async function convertToInteractive(key) {\n",
              "        const element = document.querySelector('#df-4686bca9-e19f-486d-abc0-e4158f9bbdbc');\n",
              "        const dataTable =\n",
              "          await google.colab.kernel.invokeFunction('convertToInteractive',\n",
              "                                                    [key], {});\n",
              "        if (!dataTable) return;\n",
              "\n",
              "        const docLinkHtml = 'Like what you see? Visit the ' +\n",
              "          '<a target=\"_blank\" href=https://colab.research.google.com/notebooks/data_table.ipynb>data table notebook</a>'\n",
              "          + ' to learn more about interactive tables.';\n",
              "        element.innerHTML = '';\n",
              "        dataTable['output_type'] = 'display_data';\n",
              "        await google.colab.output.renderOutput(dataTable, element);\n",
              "        const docLink = document.createElement('div');\n",
              "        docLink.innerHTML = docLinkHtml;\n",
              "        element.appendChild(docLink);\n",
              "      }\n",
              "    </script>\n",
              "  </div>\n",
              "\n",
              "\n",
              "    </div>\n",
              "  </div>\n"
            ],
            "application/vnd.google.colaboratory.intrinsic+json": {
              "type": "dataframe",
              "variable_name": "df2",
              "summary": "{\n  \"name\": \"df2\",\n  \"rows\": 1309,\n  \"fields\": [\n    {\n      \"column\": \"pclass\",\n      \"properties\": {\n        \"dtype\": \"number\",\n        \"std\": 0,\n        \"min\": 1,\n        \"max\": 3,\n        \"num_unique_values\": 3,\n        \"samples\": [\n          1,\n          2,\n          3\n        ],\n        \"semantic_type\": \"\",\n        \"description\": \"\"\n      }\n    },\n    {\n      \"column\": \"survived\",\n      \"properties\": {\n        \"dtype\": \"number\",\n        \"std\": 0,\n        \"min\": 0,\n        \"max\": 1,\n        \"num_unique_values\": 2,\n        \"samples\": [\n          0,\n          1\n        ],\n        \"semantic_type\": \"\",\n        \"description\": \"\"\n      }\n    },\n    {\n      \"column\": \"name\",\n      \"properties\": {\n        \"dtype\": \"string\",\n        \"num_unique_values\": 1307,\n        \"samples\": [\n          \"Saade, Mr. Jean Nassr\",\n          \"Nakid, Mr. Sahid\"\n        ],\n        \"semantic_type\": \"\",\n        \"description\": \"\"\n      }\n    },\n    {\n      \"column\": \"sex\",\n      \"properties\": {\n        \"dtype\": \"category\",\n        \"num_unique_values\": 2,\n        \"samples\": [\n          \"male\",\n          \"female\"\n        ],\n        \"semantic_type\": \"\",\n        \"description\": \"\"\n      }\n    },\n    {\n      \"column\": \"age\",\n      \"properties\": {\n        \"dtype\": \"number\",\n        \"std\": 14.413499699923594,\n        \"min\": 0.1667,\n        \"max\": 80.0,\n        \"num_unique_values\": 98,\n        \"samples\": [\n          57.0,\n          55.0\n        ],\n        \"semantic_type\": \"\",\n        \"description\": \"\"\n      }\n    },\n    {\n      \"column\": \"sibsp\",\n      \"properties\": {\n        \"dtype\": \"number\",\n        \"std\": 1,\n        \"min\": 0,\n        \"max\": 8,\n        \"num_unique_values\": 7,\n        \"samples\": [\n          0,\n          1\n        ],\n        \"semantic_type\": \"\",\n        \"description\": \"\"\n      }\n    },\n    {\n      \"column\": \"parch\",\n      \"properties\": {\n        \"dtype\": \"number\",\n        \"std\": 0,\n        \"min\": 0,\n        \"max\": 9,\n        \"num_unique_values\": 8,\n        \"samples\": [\n          2,\n          5\n        ],\n        \"semantic_type\": \"\",\n        \"description\": \"\"\n      }\n    },\n    {\n      \"column\": \"ticket\",\n      \"properties\": {\n        \"dtype\": \"string\",\n        \"num_unique_values\": 929,\n        \"samples\": [\n          \"371060\",\n          \"330971\"\n        ],\n        \"semantic_type\": \"\",\n        \"description\": \"\"\n      }\n    },\n    {\n      \"column\": \"fare\",\n      \"properties\": {\n        \"dtype\": \"number\",\n        \"std\": 51.758668239174135,\n        \"min\": 0.0,\n        \"max\": 512.3292,\n        \"num_unique_values\": 281,\n        \"samples\": [\n          5.0,\n          9.35\n        ],\n        \"semantic_type\": \"\",\n        \"description\": \"\"\n      }\n    },\n    {\n      \"column\": \"cabin\",\n      \"properties\": {\n        \"dtype\": \"category\",\n        \"num_unique_values\": 186,\n        \"samples\": [\n          \"C90\",\n          \"C80\"\n        ],\n        \"semantic_type\": \"\",\n        \"description\": \"\"\n      }\n    },\n    {\n      \"column\": \"embarked\",\n      \"properties\": {\n        \"dtype\": \"category\",\n        \"num_unique_values\": 3,\n        \"samples\": [\n          \"S\",\n          \"C\"\n        ],\n        \"semantic_type\": \"\",\n        \"description\": \"\"\n      }\n    },\n    {\n      \"column\": \"boat\",\n      \"properties\": {\n        \"dtype\": \"category\",\n        \"num_unique_values\": 27,\n        \"samples\": [\n          \"B\",\n          \"C\"\n        ],\n        \"semantic_type\": \"\",\n        \"description\": \"\"\n      }\n    },\n    {\n      \"column\": \"body\",\n      \"properties\": {\n        \"dtype\": \"number\",\n        \"std\": 97.6969219960031,\n        \"min\": 1.0,\n        \"max\": 328.0,\n        \"num_unique_values\": 121,\n        \"samples\": [\n          297.0,\n          19.0\n        ],\n        \"semantic_type\": \"\",\n        \"description\": \"\"\n      }\n    },\n    {\n      \"column\": \"home.dest\",\n      \"properties\": {\n        \"dtype\": \"category\",\n        \"num_unique_values\": 369,\n        \"samples\": [\n          \"Co Limerick, Ireland Sherbrooke, PQ\",\n          \"Amenia, ND\"\n        ],\n        \"semantic_type\": \"\",\n        \"description\": \"\"\n      }\n    }\n  ]\n}"
            }
          },
          "metadata": {},
          "execution_count": 46
        }
      ],
      "source": [
        "df2 = pd.read_csv('titanic.csv')\n",
        "df2.head(0)"
      ]
    },
    {
      "cell_type": "markdown",
      "metadata": {
        "id": "3ff_E3hlImwM"
      },
      "source": [
        "**4. DataFrame objects have a  `.describe()` method that summarizing the data. Run it below:**"
      ]
    },
    {
      "cell_type": "code",
      "execution_count": null,
      "metadata": {
        "id": "yk365pTXRVUL"
      },
      "outputs": [],
      "source": [
        "# TODO: your code here"
      ]
    },
    {
      "cell_type": "markdown",
      "metadata": {
        "id": "f4rLBeYcRb8F"
      },
      "source": [
        "Expected output:\n",
        "\n",
        "\n",
        "|       |      pclass |    survived |       age |       sibsp |       parch |      fare |     body |\n",
        "|:------|------------:|------------:|----------:|------------:|------------:|----------:|---------:|\n",
        "| count | 1309        | 1309        | 1046      | 1309        | 1309        | 1308      | 121      |\n",
        "| mean  |    2.29488  |    0.381971 |   29.8811 |    0.498854 |    0.385027 |   33.2955 | 160.81   |\n",
        "| std   |    0.837836 |    0.486055 |   14.4135 |    1.04166  |    0.86556  |   51.7587 |  97.6969 |\n",
        "| min   |    1        |    0        |    0.1667 |    0        |    0        |    0      |   1      |\n",
        "| 25%   |    2        |    0        |   21      |    0        |    0        |    7.8958 |  72      |\n",
        "| 50%   |    3        |    0        |   28      |    0        |    0        |   14.4542 | 155      |\n",
        "| 75%   |    3        |    1        |   39      |    1        |    0        |   31.275  | 256      |\n",
        "| max   |    3        |    1        |   80      |    8        |    9        |  512.329  | 328      |\n"
      ]
    },
    {
      "cell_type": "markdown",
      "metadata": {
        "id": "wv9ZRCspIXVZ"
      },
      "source": [
        "5. By looking at the output and reading the [method documentation](https://pandas.pydata.org/docs/reference/api/pandas.DataFrame.describe.html) answer the following questions:\n",
        "\n",
        "**5a. What fraction of passengers survived (rounded to two decimal places)?**"
      ]
    },
    {
      "cell_type": "markdown",
      "metadata": {
        "id": "F41NSd76Ryqc"
      },
      "source": [
        "**TODO: Enter a number here.**"
      ]
    },
    {
      "cell_type": "markdown",
      "metadata": {
        "id": "neqZ4JDSR4D3"
      },
      "source": [
        "**5b. What was the median fare (rounded to the nearest dollar)?**"
      ]
    },
    {
      "cell_type": "markdown",
      "metadata": {
        "id": "UKy0CbbPR-KR"
      },
      "source": [
        "**TODO: Enter a number here.**"
      ]
    },
    {
      "cell_type": "markdown",
      "metadata": {
        "id": "XKzkw6CMSRIN"
      },
      "source": [
        "**5c. Were there more 1st class passengers or 3rd class passengers?**"
      ]
    },
    {
      "cell_type": "markdown",
      "metadata": {
        "id": "pPBLYwyeSd_9"
      },
      "source": [
        "**TODO: Enter 1st or 3rd here**"
      ]
    },
    {
      "cell_type": "markdown",
      "metadata": {
        "id": "0qLzN7CdSl57"
      },
      "source": [
        "**To submit:**\n",
        "\n",
        "1. File->Download .ipynb\n",
        "2. Upload the .ipynb file to the appropriate assignment in [Canvas](https://tulane.instructure.com/)"
      ]
    }
  ],
  "metadata": {
    "colab": {
      "provenance": [],
      "toc_visible": true
    },
    "kernelspec": {
      "display_name": "Python 3.8.3 64-bit",
      "language": "python",
      "name": "python3"
    },
    "language_info": {
      "name": "python",
      "version": "3.8.3"
    },
    "vscode": {
      "interpreter": {
        "hash": "aee8b7b246df8f9039afb4144a1f6fd8d2ca17a180786b69acc140d282b71a49"
      }
    }
  },
  "nbformat": 4,
  "nbformat_minor": 0
}