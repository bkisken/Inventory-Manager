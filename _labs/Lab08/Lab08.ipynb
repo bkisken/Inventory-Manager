{
  "cells": [
    {
      "cell_type": "markdown",
      "metadata": {
        "id": "FXXE4QJK3iTd"
      },
      "source": [
        "# Lab 08: Regression Models (2 Bonus Points Possible)\n",
        "\n",
        "This lab is presented with some revisions from [Dennis Sun at Cal Poly](https://web.calpoly.edu/~dsun09/index.html) and his [Data301 Course](http://users.csc.calpoly.edu/~dsun09/data301/lectures.html)\n",
        "\n",
        "### When you have filled out all the questions, submit via [Tulane Canvas](https://tulane.instructure.com/)"
      ]
    },
    {
      "cell_type": "code",
      "execution_count": 3,
      "metadata": {
        "id": "PiscBpXt3iTk",
        "colab": {
          "base_uri": "https://localhost:8080/"
        },
        "outputId": "ae127b38-1cb2-4fd4-da85-fab30527530e"
      },
      "outputs": [
        {
          "output_type": "stream",
          "name": "stdout",
          "text": [
            "/content\n",
            "fatal: destination path 'cmps3160' already exists and is not an empty directory.\n",
            "/content/cmps3160/_labs/Lab08\n"
          ]
        }
      ],
      "source": [
        "# clone the course repository, change to right directory, and import libraries.\n",
        "%cd /content\n",
        "!git clone https://github.com/nmattei/cmps3160.git\n",
        "%cd /content/cmps3160/_labs/Lab08\n",
        "import pandas as pd\n",
        "import numpy as np"
      ]
    },
    {
      "cell_type": "markdown",
      "metadata": {
        "id": "WFLsq29D3iTo"
      },
      "source": [
        "Prediction problems are ubiquitous in real world applications. For example:\n",
        "\n",
        "- A real estate agent might want to predict the fair price of a home, using features of the home.\n",
        "- A sports bettor might want to predict which team will win the game, using information about the teams.\n",
        "- A historian might want to predict which historical figure wrote an anonymous document, using the words in the document.\n",
        "\n",
        "In each case, we have two kinds of variables:\n",
        "\n",
        "- **features** (a.k.a. **predictors**, **inputs**, **independent variables**), such as square footage and number of bedrooms, that are used to predict\n",
        "- a **label** (a.k.a. **response**, **output**, **dependent variable**), such as house price.\n",
        "\n",
        "We can formalize the problem mathematically as follows: let ${\\bf x}$ be the features and $y$ the label; a **predictive model** is a function $f$ that maps ${\\bf x}$ to $y$:\n",
        "\n",
        "$$ f: {\\bf x} \\mapsto y. $$\n",
        "\n",
        "Now suppose we have a new house, with features ${\\bf x}^*$. A predictive model $f$ predicts the price of this house to be $f({\\bf x}^*)$.\n",
        "\n",
        "How do we come up a predictive model $f$ in the first place? One way is to learn it from existing data, or **training data**. For example, to build a model that predicts the price of a home from the square footage (`Gr Liv Area`), we would need training data like the points shown in black below.\n",
        "\n",
        "<img src=\"https://github.com/nmattei/cmps3160/blob/master/_labs/images/predictive_model.png?raw=1\" />\n",
        "\n",
        "We could then learn a model, $f$, from this training data. For example, one possible predictive model is the red curve shown in the plot. This model was chosen to fit the points in the training data as tightly as possible. If we wanted to predict the price of a 2700 square foot home using this model, we would simply evaluate $f(2700)$, which comes out to about \\\\$300,000. The key thing to note is that $f$ depends on the training data. If the training data changes, then so does $f$."
      ]
    },
    {
      "cell_type": "markdown",
      "metadata": {
        "id": "tIZfMarA3iTr"
      },
      "source": [
        "The process of learning predictive models from data is known as **machine learning**. There are many ways to learn a predictive model from data, including _linear regression_ (which you may have seen in a statistics course), _decision trees_, and _neural networks_. In this chapter, we will focus on one machine learning algorithm called **k-nearest neighbors** that leverages the distance metrics between observations we talked about in class.\n",
        "\n",
        "Predictive models are divided into two types, depending on whether the label $y$ is categorical or quantitative. If the label is quantitative, then the prediction problem is a **regression** problem, and the model is called a **regressor**. If the label is categorical, then the prediction problem is a **classification** problem, and the model is called a **classifier**.  We'll look at both of these models in the next couple of labs."
      ]
    },
    {
      "cell_type": "markdown",
      "metadata": {
        "id": "U01-oJIN3iTt"
      },
      "source": [
        "# Part 1:  K-Nearest Neighbors for Regression\n",
        "\n",
        "_Regressors_ are predictive models that are employed when the label is quantitative. In this section, we will train a machine learning model that predicts the price of a house from its square footage and other features.\n",
        "\n",
        "We will use the Ames housing data set as the training data. First, let's read in the data set."
      ]
    },
    {
      "cell_type": "code",
      "execution_count": 4,
      "metadata": {
        "id": "xGYEZx-B3iTu",
        "colab": {
          "base_uri": "https://localhost:8080/",
          "height": 253
        },
        "outputId": "91aad240-ffc7-4721-be71-e18f4677af8c"
      },
      "outputs": [
        {
          "output_type": "execute_result",
          "data": {
            "text/plain": [
              "   Order        PID  MS SubClass MS Zoning  Lot Frontage  Lot Area Street  \\\n",
              "0      1  526301100           20        RL         141.0     31770   Pave   \n",
              "1      2  526350040           20        RH          80.0     11622   Pave   \n",
              "2      3  526351010           20        RL          81.0     14267   Pave   \n",
              "3      4  526353030           20        RL          93.0     11160   Pave   \n",
              "4      5  527105010           60        RL          74.0     13830   Pave   \n",
              "\n",
              "  Alley Lot Shape Land Contour  ... Pool Area Pool QC  Fence Misc Feature  \\\n",
              "0   NaN       IR1          Lvl  ...         0     NaN    NaN          NaN   \n",
              "1   NaN       Reg          Lvl  ...         0     NaN  MnPrv          NaN   \n",
              "2   NaN       IR1          Lvl  ...         0     NaN    NaN         Gar2   \n",
              "3   NaN       Reg          Lvl  ...         0     NaN    NaN          NaN   \n",
              "4   NaN       IR1          Lvl  ...         0     NaN  MnPrv          NaN   \n",
              "\n",
              "  Misc Val Mo Sold Yr Sold Sale Type  Sale Condition  SalePrice  \n",
              "0        0       5    2010       WD           Normal     215000  \n",
              "1        0       6    2010       WD           Normal     105000  \n",
              "2    12500       6    2010       WD           Normal     172000  \n",
              "3        0       4    2010       WD           Normal     244000  \n",
              "4        0       3    2010       WD           Normal     189900  \n",
              "\n",
              "[5 rows x 82 columns]"
            ],
            "text/html": [
              "\n",
              "  <div id=\"df-9dfeab9b-8924-4959-95aa-cc096e0740b0\" class=\"colab-df-container\">\n",
              "    <div>\n",
              "<style scoped>\n",
              "    .dataframe tbody tr th:only-of-type {\n",
              "        vertical-align: middle;\n",
              "    }\n",
              "\n",
              "    .dataframe tbody tr th {\n",
              "        vertical-align: top;\n",
              "    }\n",
              "\n",
              "    .dataframe thead th {\n",
              "        text-align: right;\n",
              "    }\n",
              "</style>\n",
              "<table border=\"1\" class=\"dataframe\">\n",
              "  <thead>\n",
              "    <tr style=\"text-align: right;\">\n",
              "      <th></th>\n",
              "      <th>Order</th>\n",
              "      <th>PID</th>\n",
              "      <th>MS SubClass</th>\n",
              "      <th>MS Zoning</th>\n",
              "      <th>Lot Frontage</th>\n",
              "      <th>Lot Area</th>\n",
              "      <th>Street</th>\n",
              "      <th>Alley</th>\n",
              "      <th>Lot Shape</th>\n",
              "      <th>Land Contour</th>\n",
              "      <th>...</th>\n",
              "      <th>Pool Area</th>\n",
              "      <th>Pool QC</th>\n",
              "      <th>Fence</th>\n",
              "      <th>Misc Feature</th>\n",
              "      <th>Misc Val</th>\n",
              "      <th>Mo Sold</th>\n",
              "      <th>Yr Sold</th>\n",
              "      <th>Sale Type</th>\n",
              "      <th>Sale Condition</th>\n",
              "      <th>SalePrice</th>\n",
              "    </tr>\n",
              "  </thead>\n",
              "  <tbody>\n",
              "    <tr>\n",
              "      <th>0</th>\n",
              "      <td>1</td>\n",
              "      <td>526301100</td>\n",
              "      <td>20</td>\n",
              "      <td>RL</td>\n",
              "      <td>141.0</td>\n",
              "      <td>31770</td>\n",
              "      <td>Pave</td>\n",
              "      <td>NaN</td>\n",
              "      <td>IR1</td>\n",
              "      <td>Lvl</td>\n",
              "      <td>...</td>\n",
              "      <td>0</td>\n",
              "      <td>NaN</td>\n",
              "      <td>NaN</td>\n",
              "      <td>NaN</td>\n",
              "      <td>0</td>\n",
              "      <td>5</td>\n",
              "      <td>2010</td>\n",
              "      <td>WD</td>\n",
              "      <td>Normal</td>\n",
              "      <td>215000</td>\n",
              "    </tr>\n",
              "    <tr>\n",
              "      <th>1</th>\n",
              "      <td>2</td>\n",
              "      <td>526350040</td>\n",
              "      <td>20</td>\n",
              "      <td>RH</td>\n",
              "      <td>80.0</td>\n",
              "      <td>11622</td>\n",
              "      <td>Pave</td>\n",
              "      <td>NaN</td>\n",
              "      <td>Reg</td>\n",
              "      <td>Lvl</td>\n",
              "      <td>...</td>\n",
              "      <td>0</td>\n",
              "      <td>NaN</td>\n",
              "      <td>MnPrv</td>\n",
              "      <td>NaN</td>\n",
              "      <td>0</td>\n",
              "      <td>6</td>\n",
              "      <td>2010</td>\n",
              "      <td>WD</td>\n",
              "      <td>Normal</td>\n",
              "      <td>105000</td>\n",
              "    </tr>\n",
              "    <tr>\n",
              "      <th>2</th>\n",
              "      <td>3</td>\n",
              "      <td>526351010</td>\n",
              "      <td>20</td>\n",
              "      <td>RL</td>\n",
              "      <td>81.0</td>\n",
              "      <td>14267</td>\n",
              "      <td>Pave</td>\n",
              "      <td>NaN</td>\n",
              "      <td>IR1</td>\n",
              "      <td>Lvl</td>\n",
              "      <td>...</td>\n",
              "      <td>0</td>\n",
              "      <td>NaN</td>\n",
              "      <td>NaN</td>\n",
              "      <td>Gar2</td>\n",
              "      <td>12500</td>\n",
              "      <td>6</td>\n",
              "      <td>2010</td>\n",
              "      <td>WD</td>\n",
              "      <td>Normal</td>\n",
              "      <td>172000</td>\n",
              "    </tr>\n",
              "    <tr>\n",
              "      <th>3</th>\n",
              "      <td>4</td>\n",
              "      <td>526353030</td>\n",
              "      <td>20</td>\n",
              "      <td>RL</td>\n",
              "      <td>93.0</td>\n",
              "      <td>11160</td>\n",
              "      <td>Pave</td>\n",
              "      <td>NaN</td>\n",
              "      <td>Reg</td>\n",
              "      <td>Lvl</td>\n",
              "      <td>...</td>\n",
              "      <td>0</td>\n",
              "      <td>NaN</td>\n",
              "      <td>NaN</td>\n",
              "      <td>NaN</td>\n",
              "      <td>0</td>\n",
              "      <td>4</td>\n",
              "      <td>2010</td>\n",
              "      <td>WD</td>\n",
              "      <td>Normal</td>\n",
              "      <td>244000</td>\n",
              "    </tr>\n",
              "    <tr>\n",
              "      <th>4</th>\n",
              "      <td>5</td>\n",
              "      <td>527105010</td>\n",
              "      <td>60</td>\n",
              "      <td>RL</td>\n",
              "      <td>74.0</td>\n",
              "      <td>13830</td>\n",
              "      <td>Pave</td>\n",
              "      <td>NaN</td>\n",
              "      <td>IR1</td>\n",
              "      <td>Lvl</td>\n",
              "      <td>...</td>\n",
              "      <td>0</td>\n",
              "      <td>NaN</td>\n",
              "      <td>MnPrv</td>\n",
              "      <td>NaN</td>\n",
              "      <td>0</td>\n",
              "      <td>3</td>\n",
              "      <td>2010</td>\n",
              "      <td>WD</td>\n",
              "      <td>Normal</td>\n",
              "      <td>189900</td>\n",
              "    </tr>\n",
              "  </tbody>\n",
              "</table>\n",
              "<p>5 rows × 82 columns</p>\n",
              "</div>\n",
              "    <div class=\"colab-df-buttons\">\n",
              "\n",
              "  <div class=\"colab-df-container\">\n",
              "    <button class=\"colab-df-convert\" onclick=\"convertToInteractive('df-9dfeab9b-8924-4959-95aa-cc096e0740b0')\"\n",
              "            title=\"Convert this dataframe to an interactive table.\"\n",
              "            style=\"display:none;\">\n",
              "\n",
              "  <svg xmlns=\"http://www.w3.org/2000/svg\" height=\"24px\" viewBox=\"0 -960 960 960\">\n",
              "    <path d=\"M120-120v-720h720v720H120Zm60-500h600v-160H180v160Zm220 220h160v-160H400v160Zm0 220h160v-160H400v160ZM180-400h160v-160H180v160Zm440 0h160v-160H620v160ZM180-180h160v-160H180v160Zm440 0h160v-160H620v160Z\"/>\n",
              "  </svg>\n",
              "    </button>\n",
              "\n",
              "  <style>\n",
              "    .colab-df-container {\n",
              "      display:flex;\n",
              "      gap: 12px;\n",
              "    }\n",
              "\n",
              "    .colab-df-convert {\n",
              "      background-color: #E8F0FE;\n",
              "      border: none;\n",
              "      border-radius: 50%;\n",
              "      cursor: pointer;\n",
              "      display: none;\n",
              "      fill: #1967D2;\n",
              "      height: 32px;\n",
              "      padding: 0 0 0 0;\n",
              "      width: 32px;\n",
              "    }\n",
              "\n",
              "    .colab-df-convert:hover {\n",
              "      background-color: #E2EBFA;\n",
              "      box-shadow: 0px 1px 2px rgba(60, 64, 67, 0.3), 0px 1px 3px 1px rgba(60, 64, 67, 0.15);\n",
              "      fill: #174EA6;\n",
              "    }\n",
              "\n",
              "    .colab-df-buttons div {\n",
              "      margin-bottom: 4px;\n",
              "    }\n",
              "\n",
              "    [theme=dark] .colab-df-convert {\n",
              "      background-color: #3B4455;\n",
              "      fill: #D2E3FC;\n",
              "    }\n",
              "\n",
              "    [theme=dark] .colab-df-convert:hover {\n",
              "      background-color: #434B5C;\n",
              "      box-shadow: 0px 1px 3px 1px rgba(0, 0, 0, 0.15);\n",
              "      filter: drop-shadow(0px 1px 2px rgba(0, 0, 0, 0.3));\n",
              "      fill: #FFFFFF;\n",
              "    }\n",
              "  </style>\n",
              "\n",
              "    <script>\n",
              "      const buttonEl =\n",
              "        document.querySelector('#df-9dfeab9b-8924-4959-95aa-cc096e0740b0 button.colab-df-convert');\n",
              "      buttonEl.style.display =\n",
              "        google.colab.kernel.accessAllowed ? 'block' : 'none';\n",
              "\n",
              "      async function convertToInteractive(key) {\n",
              "        const element = document.querySelector('#df-9dfeab9b-8924-4959-95aa-cc096e0740b0');\n",
              "        const dataTable =\n",
              "          await google.colab.kernel.invokeFunction('convertToInteractive',\n",
              "                                                    [key], {});\n",
              "        if (!dataTable) return;\n",
              "\n",
              "        const docLinkHtml = 'Like what you see? Visit the ' +\n",
              "          '<a target=\"_blank\" href=https://colab.research.google.com/notebooks/data_table.ipynb>data table notebook</a>'\n",
              "          + ' to learn more about interactive tables.';\n",
              "        element.innerHTML = '';\n",
              "        dataTable['output_type'] = 'display_data';\n",
              "        await google.colab.output.renderOutput(dataTable, element);\n",
              "        const docLink = document.createElement('div');\n",
              "        docLink.innerHTML = docLinkHtml;\n",
              "        element.appendChild(docLink);\n",
              "      }\n",
              "    </script>\n",
              "  </div>\n",
              "\n",
              "\n",
              "<div id=\"df-b2703fd7-7b75-42cc-8681-ef6a50feecf0\">\n",
              "  <button class=\"colab-df-quickchart\" onclick=\"quickchart('df-b2703fd7-7b75-42cc-8681-ef6a50feecf0')\"\n",
              "            title=\"Suggest charts\"\n",
              "            style=\"display:none;\">\n",
              "\n",
              "<svg xmlns=\"http://www.w3.org/2000/svg\" height=\"24px\"viewBox=\"0 0 24 24\"\n",
              "     width=\"24px\">\n",
              "    <g>\n",
              "        <path d=\"M19 3H5c-1.1 0-2 .9-2 2v14c0 1.1.9 2 2 2h14c1.1 0 2-.9 2-2V5c0-1.1-.9-2-2-2zM9 17H7v-7h2v7zm4 0h-2V7h2v10zm4 0h-2v-4h2v4z\"/>\n",
              "    </g>\n",
              "</svg>\n",
              "  </button>\n",
              "\n",
              "<style>\n",
              "  .colab-df-quickchart {\n",
              "      --bg-color: #E8F0FE;\n",
              "      --fill-color: #1967D2;\n",
              "      --hover-bg-color: #E2EBFA;\n",
              "      --hover-fill-color: #174EA6;\n",
              "      --disabled-fill-color: #AAA;\n",
              "      --disabled-bg-color: #DDD;\n",
              "  }\n",
              "\n",
              "  [theme=dark] .colab-df-quickchart {\n",
              "      --bg-color: #3B4455;\n",
              "      --fill-color: #D2E3FC;\n",
              "      --hover-bg-color: #434B5C;\n",
              "      --hover-fill-color: #FFFFFF;\n",
              "      --disabled-bg-color: #3B4455;\n",
              "      --disabled-fill-color: #666;\n",
              "  }\n",
              "\n",
              "  .colab-df-quickchart {\n",
              "    background-color: var(--bg-color);\n",
              "    border: none;\n",
              "    border-radius: 50%;\n",
              "    cursor: pointer;\n",
              "    display: none;\n",
              "    fill: var(--fill-color);\n",
              "    height: 32px;\n",
              "    padding: 0;\n",
              "    width: 32px;\n",
              "  }\n",
              "\n",
              "  .colab-df-quickchart:hover {\n",
              "    background-color: var(--hover-bg-color);\n",
              "    box-shadow: 0 1px 2px rgba(60, 64, 67, 0.3), 0 1px 3px 1px rgba(60, 64, 67, 0.15);\n",
              "    fill: var(--button-hover-fill-color);\n",
              "  }\n",
              "\n",
              "  .colab-df-quickchart-complete:disabled,\n",
              "  .colab-df-quickchart-complete:disabled:hover {\n",
              "    background-color: var(--disabled-bg-color);\n",
              "    fill: var(--disabled-fill-color);\n",
              "    box-shadow: none;\n",
              "  }\n",
              "\n",
              "  .colab-df-spinner {\n",
              "    border: 2px solid var(--fill-color);\n",
              "    border-color: transparent;\n",
              "    border-bottom-color: var(--fill-color);\n",
              "    animation:\n",
              "      spin 1s steps(1) infinite;\n",
              "  }\n",
              "\n",
              "  @keyframes spin {\n",
              "    0% {\n",
              "      border-color: transparent;\n",
              "      border-bottom-color: var(--fill-color);\n",
              "      border-left-color: var(--fill-color);\n",
              "    }\n",
              "    20% {\n",
              "      border-color: transparent;\n",
              "      border-left-color: var(--fill-color);\n",
              "      border-top-color: var(--fill-color);\n",
              "    }\n",
              "    30% {\n",
              "      border-color: transparent;\n",
              "      border-left-color: var(--fill-color);\n",
              "      border-top-color: var(--fill-color);\n",
              "      border-right-color: var(--fill-color);\n",
              "    }\n",
              "    40% {\n",
              "      border-color: transparent;\n",
              "      border-right-color: var(--fill-color);\n",
              "      border-top-color: var(--fill-color);\n",
              "    }\n",
              "    60% {\n",
              "      border-color: transparent;\n",
              "      border-right-color: var(--fill-color);\n",
              "    }\n",
              "    80% {\n",
              "      border-color: transparent;\n",
              "      border-right-color: var(--fill-color);\n",
              "      border-bottom-color: var(--fill-color);\n",
              "    }\n",
              "    90% {\n",
              "      border-color: transparent;\n",
              "      border-bottom-color: var(--fill-color);\n",
              "    }\n",
              "  }\n",
              "</style>\n",
              "\n",
              "  <script>\n",
              "    async function quickchart(key) {\n",
              "      const quickchartButtonEl =\n",
              "        document.querySelector('#' + key + ' button');\n",
              "      quickchartButtonEl.disabled = true;  // To prevent multiple clicks.\n",
              "      quickchartButtonEl.classList.add('colab-df-spinner');\n",
              "      try {\n",
              "        const charts = await google.colab.kernel.invokeFunction(\n",
              "            'suggestCharts', [key], {});\n",
              "      } catch (error) {\n",
              "        console.error('Error during call to suggestCharts:', error);\n",
              "      }\n",
              "      quickchartButtonEl.classList.remove('colab-df-spinner');\n",
              "      quickchartButtonEl.classList.add('colab-df-quickchart-complete');\n",
              "    }\n",
              "    (() => {\n",
              "      let quickchartButtonEl =\n",
              "        document.querySelector('#df-b2703fd7-7b75-42cc-8681-ef6a50feecf0 button');\n",
              "      quickchartButtonEl.style.display =\n",
              "        google.colab.kernel.accessAllowed ? 'block' : 'none';\n",
              "    })();\n",
              "  </script>\n",
              "</div>\n",
              "\n",
              "    </div>\n",
              "  </div>\n"
            ],
            "application/vnd.google.colaboratory.intrinsic+json": {
              "type": "dataframe",
              "variable_name": "housing"
            }
          },
          "metadata": {},
          "execution_count": 4
        }
      ],
      "source": [
        "import numpy as np\n",
        "import pandas as pd\n",
        "import matplotlib.pyplot as plt\n",
        "pd.options.display.max_rows = 5\n",
        "\n",
        "housing = pd.read_csv(\"../data/ames.tsv\", sep=\"\\t\")\n",
        "housing.head()"
      ]
    },
    {
      "cell_type": "markdown",
      "metadata": {
        "id": "GeiA7YQi3iTv"
      },
      "source": [
        "Let's focus on just two features for now: square footage (of the dwelling) and the number of bedrooms. Let's plot the training data, using a color gradient to represent the labels. Notice how we can customize the color gradient using the `cmap=` argument. A list of the available colormaps can be found [here](https://matplotlib.org/examples/color/colormaps_reference.html)."
      ]
    },
    {
      "cell_type": "code",
      "execution_count": 5,
      "metadata": {
        "id": "QYr-sDeK3iTw",
        "colab": {
          "base_uri": "https://localhost:8080/",
          "height": 449
        },
        "outputId": "9a1cdb9c-9dbd-45b2-ecc6-b4ad728582c6"
      },
      "outputs": [
        {
          "output_type": "display_data",
          "data": {
            "text/plain": [
              "<Figure size 640x480 with 2 Axes>"
            ],
            "image/png": "[encoded data removed]"
          },
          "metadata": {}
        }
      ],
      "source": [
        "housing.plot.scatter(x=\"Gr Liv Area\", y=\"Bedroom AbvGr\",\n",
        "                     c=\"SalePrice\", cmap=\"plasma\", alpha=.5);"
      ]
    },
    {
      "cell_type": "markdown",
      "metadata": {
        "id": "9W93TDSz3iTx"
      },
      "source": [
        "Notice how points that are close on this plot tend to have similar house prices. This insight is the basis of the $k$-nearest neighbors algorithm for predicting house prices. Suppose that we want to predict the price of a 4000 square foot home with 3 bedrooms, represented by a black circle on the plot below.\n",
        "\n",
        "<img src=\"https://github.com/nmattei/cmps3160/blob/master/_labs/images/regression.png?raw=1\" />\n",
        "\n",
        "We can find the $k$ points that are closest to this point in feature space and average their prices as our prediction. For example, the 30-nearest neighbors in the training data to the new home are illustrated in the plot below. We would average the prices of these 30 homes to obtain the predicted price for the new home.\n",
        "\n",
        "<img src=\"https://github.com/nmattei/cmps3160/blob/master/_labs/images/regression_neighbors.png?raw=1\" />\n",
        "\n",
        "The $k$-nearest neighbors regression algorithm can be summarized as follows:\n",
        "\n",
        "1. Determine the $k$ closest points in the training data to the new point that you want to predict for, based on some distance metric on the features.\n",
        "2. The predicted label of the new point is the mean (or median) of the labels of the $k$ closest points.\n",
        "\n",
        "Let's see how to implement this in code. First, we extract the training data and scale the features using z-scores as we discussed in class:"
      ]
    },
    {
      "cell_type": "code",
      "execution_count": 6,
      "metadata": {
        "id": "DoWJyEUs3iTy"
      },
      "outputs": [],
      "source": [
        "X_train = housing[[\"Gr Liv Area\", \"Bedroom AbvGr\"]]\n",
        "y_train = housing[\"SalePrice\"]\n",
        "\n",
        "X_train_mean = X_train.mean()\n",
        "X_train_std = X_train.std()\n",
        "X_train_sc = (X_train - X_train_mean) / X_train_std"
      ]
    },
    {
      "cell_type": "markdown",
      "metadata": {
        "id": "TqsZ54wh3iTz"
      },
      "source": [
        "Then, we create a `Series` for the new house, scaling it in exactly the same way:"
      ]
    },
    {
      "cell_type": "code",
      "execution_count": 7,
      "metadata": {
        "id": "e2ZLPXmv3iTz",
        "colab": {
          "base_uri": "https://localhost:8080/",
          "height": 146
        },
        "outputId": "f72a5b8c-3c01-4859-f0c0-410bb0a89354"
      },
      "outputs": [
        {
          "output_type": "execute_result",
          "data": {
            "text/plain": [
              "Gr Liv Area      4.946124\n",
              "Bedroom AbvGr    0.176064\n",
              "dtype: float64"
            ],
            "text/html": [
              "<div>\n",
              "<style scoped>\n",
              "    .dataframe tbody tr th:only-of-type {\n",
              "        vertical-align: middle;\n",
              "    }\n",
              "\n",
              "    .dataframe tbody tr th {\n",
              "        vertical-align: top;\n",
              "    }\n",
              "\n",
              "    .dataframe thead th {\n",
              "        text-align: right;\n",
              "    }\n",
              "</style>\n",
              "<table border=\"1\" class=\"dataframe\">\n",
              "  <thead>\n",
              "    <tr style=\"text-align: right;\">\n",
              "      <th></th>\n",
              "      <th>0</th>\n",
              "    </tr>\n",
              "  </thead>\n",
              "  <tbody>\n",
              "    <tr>\n",
              "      <th>Gr Liv Area</th>\n",
              "      <td>4.946124</td>\n",
              "    </tr>\n",
              "    <tr>\n",
              "      <th>Bedroom AbvGr</th>\n",
              "      <td>0.176064</td>\n",
              "    </tr>\n",
              "  </tbody>\n",
              "</table>\n",
              "</div><br><label><b>dtype:</b> float64</label>"
            ]
          },
          "metadata": {},
          "execution_count": 7
        }
      ],
      "source": [
        "x_new = pd.Series(dtype=float)\n",
        "x_new[\"Gr Liv Area\"] = 4000\n",
        "x_new[\"Bedroom AbvGr\"] = 3\n",
        "\n",
        "x_new_sc = (x_new - X_train_mean) / X_train_std\n",
        "x_new_sc"
      ]
    },
    {
      "cell_type": "markdown",
      "metadata": {
        "id": "u7-YWmeo3iT0"
      },
      "source": [
        "Now we calculate the (Euclidean) distances between this new house and each house in the training data. Then, we sort the distances.\n",
        "\n",
        "Calculating the distance between two points is not as straightforward as it might seem because there is more than one way to define distance. The one most familiar to you is probably **Euclidan distance**, which is the straight-line distance (\"as the crow flies\") between the two points. The formula for calculating this distance is a generalization of the Pythagorean theorem:\n",
        "\n",
        "$$ d({\\bf x}, {\\bf x'}) = \\sqrt{\\sum_{j=1}^D (x_j - x'_j)^2} $$"
      ]
    },
    {
      "cell_type": "code",
      "execution_count": 8,
      "metadata": {
        "id": "P7o4NWku3iT0",
        "colab": {
          "base_uri": "https://localhost:8080/",
          "height": 270
        },
        "outputId": "f193db77-8b73-433e-892b-5262b8e52672"
      },
      "outputs": [
        {
          "output_type": "execute_result",
          "data": {
            "text/plain": [
              "1306    1.002950\n",
              "2181    1.337266\n",
              "          ...   \n",
              "1302    7.507162\n",
              "1901    7.644028\n",
              "Length: 2930, dtype: float64"
            ],
            "text/html": [
              "<div>\n",
              "<style scoped>\n",
              "    .dataframe tbody tr th:only-of-type {\n",
              "        vertical-align: middle;\n",
              "    }\n",
              "\n",
              "    .dataframe tbody tr th {\n",
              "        vertical-align: top;\n",
              "    }\n",
              "\n",
              "    .dataframe thead th {\n",
              "        text-align: right;\n",
              "    }\n",
              "</style>\n",
              "<table border=\"1\" class=\"dataframe\">\n",
              "  <thead>\n",
              "    <tr style=\"text-align: right;\">\n",
              "      <th></th>\n",
              "      <th>0</th>\n",
              "    </tr>\n",
              "  </thead>\n",
              "  <tbody>\n",
              "    <tr>\n",
              "      <th>1306</th>\n",
              "      <td>1.002950</td>\n",
              "    </tr>\n",
              "    <tr>\n",
              "      <th>2181</th>\n",
              "      <td>1.337266</td>\n",
              "    </tr>\n",
              "    <tr>\n",
              "      <th>...</th>\n",
              "      <td>...</td>\n",
              "    </tr>\n",
              "    <tr>\n",
              "      <th>1302</th>\n",
              "      <td>7.507162</td>\n",
              "    </tr>\n",
              "    <tr>\n",
              "      <th>1901</th>\n",
              "      <td>7.644028</td>\n",
              "    </tr>\n",
              "  </tbody>\n",
              "</table>\n",
              "<p>2930 rows × 1 columns</p>\n",
              "</div><br><label><b>dtype:</b> float64</label>"
            ]
          },
          "metadata": {},
          "execution_count": 8
        }
      ],
      "source": [
        "dists = np.sqrt(((X_train_sc - x_new_sc) ** 2).sum(axis=1))\n",
        "dists_sorted = dists.sort_values()\n",
        "dists_sorted"
      ]
    },
    {
      "cell_type": "markdown",
      "metadata": {
        "id": "gN3i4yLW3iT1"
      },
      "source": [
        "The first 30 entries of this sorted list are the 30 nearest neighbors. Let's get their indices."
      ]
    },
    {
      "cell_type": "code",
      "execution_count": 9,
      "metadata": {
        "id": "FaBJM0qO3iUB",
        "colab": {
          "base_uri": "https://localhost:8080/"
        },
        "outputId": "45b27779-df3a-4716-b40b-4105ef83f431"
      },
      "outputs": [
        {
          "output_type": "execute_result",
          "data": {
            "text/plain": [
              "Index([1306, 2181, 1767, 2445, 2666, 1760, 2450, 1537, 2045,   15,   65, 1772,\n",
              "        565, 2214,  422, 2336, 1182, 2570, 1945, 1764, 2500, 2453, 2329, 1320,\n",
              "       1497, 2180, 1572, 2737, 2218, 1022],\n",
              "      dtype='int64')"
            ]
          },
          "metadata": {},
          "execution_count": 9
        }
      ],
      "source": [
        "i_nearest = dists_sorted.index[:30]\n",
        "i_nearest"
      ]
    },
    {
      "cell_type": "markdown",
      "metadata": {
        "id": "adno1ZG83iUB"
      },
      "source": [
        "Now we can look up these indices in the original data."
      ]
    },
    {
      "cell_type": "code",
      "execution_count": 10,
      "metadata": {
        "id": "O9Hq-iyN3iUC",
        "colab": {
          "base_uri": "https://localhost:8080/",
          "height": 253
        },
        "outputId": "8d5b579c-9577-4068-b0d6-8e35a0eeec44"
      },
      "outputs": [
        {
          "output_type": "execute_result",
          "data": {
            "text/plain": [
              "      Order        PID  MS SubClass MS Zoning  Lot Frontage  Lot Area Street  \\\n",
              "1306   1307  902207220           75        RM          87.0     18386   Pave   \n",
              "2181   2182  908154205           60        RL         130.0     40094   Pave   \n",
              "...     ...        ...          ...       ...           ...       ...    ...   \n",
              "2218   2219  909281130           70        RL          70.0     10570   Pave   \n",
              "1022   1023  527325070           60        RL           NaN     12227   Pave   \n",
              "\n",
              "     Alley Lot Shape Land Contour  ... Pool Area Pool QC Fence Misc Feature  \\\n",
              "1306   NaN       Reg          Lvl  ...         0     NaN   NaN          NaN   \n",
              "2181   NaN       IR1          Bnk  ...         0     NaN   NaN          NaN   \n",
              "...    ...       ...          ...  ...       ...     ...   ...          ...   \n",
              "2218   NaN       Reg          Bnk  ...         0     NaN   NaN          NaN   \n",
              "1022   NaN       IR1          Lvl  ...         0     NaN   NaN          NaN   \n",
              "\n",
              "     Misc Val Mo Sold Yr Sold Sale Type  Sale Condition  SalePrice  \n",
              "1306        0       5    2008       WD           Normal     295000  \n",
              "2181        0      10    2007       New         Partial     184750  \n",
              "...       ...     ...     ...       ...             ...        ...  \n",
              "2218        0      12    2007       WD           Normal     315000  \n",
              "1022        0       7    2008       WD           Normal     272000  \n",
              "\n",
              "[30 rows x 82 columns]"
            ],
            "text/html": [
              "\n",
              "  <div id=\"df-4df95a23-a52e-445f-a2d5-24dbb14db7f8\" class=\"colab-df-container\">\n",
              "    <div>\n",
              "<style scoped>\n",
              "    .dataframe tbody tr th:only-of-type {\n",
              "        vertical-align: middle;\n",
              "    }\n",
              "\n",
              "    .dataframe tbody tr th {\n",
              "        vertical-align: top;\n",
              "    }\n",
              "\n",
              "    .dataframe thead th {\n",
              "        text-align: right;\n",
              "    }\n",
              "</style>\n",
              "<table border=\"1\" class=\"dataframe\">\n",
              "  <thead>\n",
              "    <tr style=\"text-align: right;\">\n",
              "      <th></th>\n",
              "      <th>Order</th>\n",
              "      <th>PID</th>\n",
              "      <th>MS SubClass</th>\n",
              "      <th>MS Zoning</th>\n",
              "      <th>Lot Frontage</th>\n",
              "      <th>Lot Area</th>\n",
              "      <th>Street</th>\n",
              "      <th>Alley</th>\n",
              "      <th>Lot Shape</th>\n",
              "      <th>Land Contour</th>\n",
              "      <th>...</th>\n",
              "      <th>Pool Area</th>\n",
              "      <th>Pool QC</th>\n",
              "      <th>Fence</th>\n",
              "      <th>Misc Feature</th>\n",
              "      <th>Misc Val</th>\n",
              "      <th>Mo Sold</th>\n",
              "      <th>Yr Sold</th>\n",
              "      <th>Sale Type</th>\n",
              "      <th>Sale Condition</th>\n",
              "      <th>SalePrice</th>\n",
              "    </tr>\n",
              "  </thead>\n",
              "  <tbody>\n",
              "    <tr>\n",
              "      <th>1306</th>\n",
              "      <td>1307</td>\n",
              "      <td>902207220</td>\n",
              "      <td>75</td>\n",
              "      <td>RM</td>\n",
              "      <td>87.0</td>\n",
              "      <td>18386</td>\n",
              "      <td>Pave</td>\n",
              "      <td>NaN</td>\n",
              "      <td>Reg</td>\n",
              "      <td>Lvl</td>\n",
              "      <td>...</td>\n",
              "      <td>0</td>\n",
              "      <td>NaN</td>\n",
              "      <td>NaN</td>\n",
              "      <td>NaN</td>\n",
              "      <td>0</td>\n",
              "      <td>5</td>\n",
              "      <td>2008</td>\n",
              "      <td>WD</td>\n",
              "      <td>Normal</td>\n",
              "      <td>295000</td>\n",
              "    </tr>\n",
              "    <tr>\n",
              "      <th>2181</th>\n",
              "      <td>2182</td>\n",
              "      <td>908154205</td>\n",
              "      <td>60</td>\n",
              "      <td>RL</td>\n",
              "      <td>130.0</td>\n",
              "      <td>40094</td>\n",
              "      <td>Pave</td>\n",
              "      <td>NaN</td>\n",
              "      <td>IR1</td>\n",
              "      <td>Bnk</td>\n",
              "      <td>...</td>\n",
              "      <td>0</td>\n",
              "      <td>NaN</td>\n",
              "      <td>NaN</td>\n",
              "      <td>NaN</td>\n",
              "      <td>0</td>\n",
              "      <td>10</td>\n",
              "      <td>2007</td>\n",
              "      <td>New</td>\n",
              "      <td>Partial</td>\n",
              "      <td>184750</td>\n",
              "    </tr>\n",
              "    <tr>\n",
              "      <th>...</th>\n",
              "      <td>...</td>\n",
              "      <td>...</td>\n",
              "      <td>...</td>\n",
              "      <td>...</td>\n",
              "      <td>...</td>\n",
              "      <td>...</td>\n",
              "      <td>...</td>\n",
              "      <td>...</td>\n",
              "      <td>...</td>\n",
              "      <td>...</td>\n",
              "      <td>...</td>\n",
              "      <td>...</td>\n",
              "      <td>...</td>\n",
              "      <td>...</td>\n",
              "      <td>...</td>\n",
              "      <td>...</td>\n",
              "      <td>...</td>\n",
              "      <td>...</td>\n",
              "      <td>...</td>\n",
              "      <td>...</td>\n",
              "      <td>...</td>\n",
              "    </tr>\n",
              "    <tr>\n",
              "      <th>2218</th>\n",
              "      <td>2219</td>\n",
              "      <td>909281130</td>\n",
              "      <td>70</td>\n",
              "      <td>RL</td>\n",
              "      <td>70.0</td>\n",
              "      <td>10570</td>\n",
              "      <td>Pave</td>\n",
              "      <td>NaN</td>\n",
              "      <td>Reg</td>\n",
              "      <td>Bnk</td>\n",
              "      <td>...</td>\n",
              "      <td>0</td>\n",
              "      <td>NaN</td>\n",
              "      <td>NaN</td>\n",
              "      <td>NaN</td>\n",
              "      <td>0</td>\n",
              "      <td>12</td>\n",
              "      <td>2007</td>\n",
              "      <td>WD</td>\n",
              "      <td>Normal</td>\n",
              "      <td>315000</td>\n",
              "    </tr>\n",
              "    <tr>\n",
              "      <th>1022</th>\n",
              "      <td>1023</td>\n",
              "      <td>527325070</td>\n",
              "      <td>60</td>\n",
              "      <td>RL</td>\n",
              "      <td>NaN</td>\n",
              "      <td>12227</td>\n",
              "      <td>Pave</td>\n",
              "      <td>NaN</td>\n",
              "      <td>IR1</td>\n",
              "      <td>Lvl</td>\n",
              "      <td>...</td>\n",
              "      <td>0</td>\n",
              "      <td>NaN</td>\n",
              "      <td>NaN</td>\n",
              "      <td>NaN</td>\n",
              "      <td>0</td>\n",
              "      <td>7</td>\n",
              "      <td>2008</td>\n",
              "      <td>WD</td>\n",
              "      <td>Normal</td>\n",
              "      <td>272000</td>\n",
              "    </tr>\n",
              "  </tbody>\n",
              "</table>\n",
              "<p>30 rows × 82 columns</p>\n",
              "</div>\n",
              "    <div class=\"colab-df-buttons\">\n",
              "\n",
              "  <div class=\"colab-df-container\">\n",
              "    <button class=\"colab-df-convert\" onclick=\"convertToInteractive('df-4df95a23-a52e-445f-a2d5-24dbb14db7f8')\"\n",
              "            title=\"Convert this dataframe to an interactive table.\"\n",
              "            style=\"display:none;\">\n",
              "\n",
              "  <svg xmlns=\"http://www.w3.org/2000/svg\" height=\"24px\" viewBox=\"0 -960 960 960\">\n",
              "    <path d=\"M120-120v-720h720v720H120Zm60-500h600v-160H180v160Zm220 220h160v-160H400v160Zm0 220h160v-160H400v160ZM180-400h160v-160H180v160Zm440 0h160v-160H620v160ZM180-180h160v-160H180v160Zm440 0h160v-160H620v160Z\"/>\n",
              "  </svg>\n",
              "    </button>\n",
              "\n",
              "  <style>\n",
              "    .colab-df-container {\n",
              "      display:flex;\n",
              "      gap: 12px;\n",
              "    }\n",
              "\n",
              "    .colab-df-convert {\n",
              "      background-color: #E8F0FE;\n",
              "      border: none;\n",
              "      border-radius: 50%;\n",
              "      cursor: pointer;\n",
              "      display: none;\n",
              "      fill: #1967D2;\n",
              "      height: 32px;\n",
              "      padding: 0 0 0 0;\n",
              "      width: 32px;\n",
              "    }\n",
              "\n",
              "    .colab-df-convert:hover {\n",
              "      background-color: #E2EBFA;\n",
              "      box-shadow: 0px 1px 2px rgba(60, 64, 67, 0.3), 0px 1px 3px 1px rgba(60, 64, 67, 0.15);\n",
              "      fill: #174EA6;\n",
              "    }\n",
              "\n",
              "    .colab-df-buttons div {\n",
              "      margin-bottom: 4px;\n",
              "    }\n",
              "\n",
              "    [theme=dark] .colab-df-convert {\n",
              "      background-color: #3B4455;\n",
              "      fill: #D2E3FC;\n",
              "    }\n",
              "\n",
              "    [theme=dark] .colab-df-convert:hover {\n",
              "      background-color: #434B5C;\n",
              "      box-shadow: 0px 1px 3px 1px rgba(0, 0, 0, 0.15);\n",
              "      filter: drop-shadow(0px 1px 2px rgba(0, 0, 0, 0.3));\n",
              "      fill: #FFFFFF;\n",
              "    }\n",
              "  </style>\n",
              "\n",
              "    <script>\n",
              "      const buttonEl =\n",
              "        document.querySelector('#df-4df95a23-a52e-445f-a2d5-24dbb14db7f8 button.colab-df-convert');\n",
              "      buttonEl.style.display =\n",
              "        google.colab.kernel.accessAllowed ? 'block' : 'none';\n",
              "\n",
              "      async function convertToInteractive(key) {\n",
              "        const element = document.querySelector('#df-4df95a23-a52e-445f-a2d5-24dbb14db7f8');\n",
              "        const dataTable =\n",
              "          await google.colab.kernel.invokeFunction('convertToInteractive',\n",
              "                                                    [key], {});\n",
              "        if (!dataTable) return;\n",
              "\n",
              "        const docLinkHtml = 'Like what you see? Visit the ' +\n",
              "          '<a target=\"_blank\" href=https://colab.research.google.com/notebooks/data_table.ipynb>data table notebook</a>'\n",
              "          + ' to learn more about interactive tables.';\n",
              "        element.innerHTML = '';\n",
              "        dataTable['output_type'] = 'display_data';\n",
              "        await google.colab.output.renderOutput(dataTable, element);\n",
              "        const docLink = document.createElement('div');\n",
              "        docLink.innerHTML = docLinkHtml;\n",
              "        element.appendChild(docLink);\n",
              "      }\n",
              "    </script>\n",
              "  </div>\n",
              "\n",
              "\n",
              "<div id=\"df-cb136d8d-dc38-44db-8e9d-18ee95bb330f\">\n",
              "  <button class=\"colab-df-quickchart\" onclick=\"quickchart('df-cb136d8d-dc38-44db-8e9d-18ee95bb330f')\"\n",
              "            title=\"Suggest charts\"\n",
              "            style=\"display:none;\">\n",
              "\n",
              "<svg xmlns=\"http://www.w3.org/2000/svg\" height=\"24px\"viewBox=\"0 0 24 24\"\n",
              "     width=\"24px\">\n",
              "    <g>\n",
              "        <path d=\"M19 3H5c-1.1 0-2 .9-2 2v14c0 1.1.9 2 2 2h14c1.1 0 2-.9 2-2V5c0-1.1-.9-2-2-2zM9 17H7v-7h2v7zm4 0h-2V7h2v10zm4 0h-2v-4h2v4z\"/>\n",
              "    </g>\n",
              "</svg>\n",
              "  </button>\n",
              "\n",
              "<style>\n",
              "  .colab-df-quickchart {\n",
              "      --bg-color: #E8F0FE;\n",
              "      --fill-color: #1967D2;\n",
              "      --hover-bg-color: #E2EBFA;\n",
              "      --hover-fill-color: #174EA6;\n",
              "      --disabled-fill-color: #AAA;\n",
              "      --disabled-bg-color: #DDD;\n",
              "  }\n",
              "\n",
              "  [theme=dark] .colab-df-quickchart {\n",
              "      --bg-color: #3B4455;\n",
              "      --fill-color: #D2E3FC;\n",
              "      --hover-bg-color: #434B5C;\n",
              "      --hover-fill-color: #FFFFFF;\n",
              "      --disabled-bg-color: #3B4455;\n",
              "      --disabled-fill-color: #666;\n",
              "  }\n",
              "\n",
              "  .colab-df-quickchart {\n",
              "    background-color: var(--bg-color);\n",
              "    border: none;\n",
              "    border-radius: 50%;\n",
              "    cursor: pointer;\n",
              "    display: none;\n",
              "    fill: var(--fill-color);\n",
              "    height: 32px;\n",
              "    padding: 0;\n",
              "    width: 32px;\n",
              "  }\n",
              "\n",
              "  .colab-df-quickchart:hover {\n",
              "    background-color: var(--hover-bg-color);\n",
              "    box-shadow: 0 1px 2px rgba(60, 64, 67, 0.3), 0 1px 3px 1px rgba(60, 64, 67, 0.15);\n",
              "    fill: var(--button-hover-fill-color);\n",
              "  }\n",
              "\n",
              "  .colab-df-quickchart-complete:disabled,\n",
              "  .colab-df-quickchart-complete:disabled:hover {\n",
              "    background-color: var(--disabled-bg-color);\n",
              "    fill: var(--disabled-fill-color);\n",
              "    box-shadow: none;\n",
              "  }\n",
              "\n",
              "  .colab-df-spinner {\n",
              "    border: 2px solid var(--fill-color);\n",
              "    border-color: transparent;\n",
              "    border-bottom-color: var(--fill-color);\n",
              "    animation:\n",
              "      spin 1s steps(1) infinite;\n",
              "  }\n",
              "\n",
              "  @keyframes spin {\n",
              "    0% {\n",
              "      border-color: transparent;\n",
              "      border-bottom-color: var(--fill-color);\n",
              "      border-left-color: var(--fill-color);\n",
              "    }\n",
              "    20% {\n",
              "      border-color: transparent;\n",
              "      border-left-color: var(--fill-color);\n",
              "      border-top-color: var(--fill-color);\n",
              "    }\n",
              "    30% {\n",
              "      border-color: transparent;\n",
              "      border-left-color: var(--fill-color);\n",
              "      border-top-color: var(--fill-color);\n",
              "      border-right-color: var(--fill-color);\n",
              "    }\n",
              "    40% {\n",
              "      border-color: transparent;\n",
              "      border-right-color: var(--fill-color);\n",
              "      border-top-color: var(--fill-color);\n",
              "    }\n",
              "    60% {\n",
              "      border-color: transparent;\n",
              "      border-right-color: var(--fill-color);\n",
              "    }\n",
              "    80% {\n",
              "      border-color: transparent;\n",
              "      border-right-color: var(--fill-color);\n",
              "      border-bottom-color: var(--fill-color);\n",
              "    }\n",
              "    90% {\n",
              "      border-color: transparent;\n",
              "      border-bottom-color: var(--fill-color);\n",
              "    }\n",
              "  }\n",
              "</style>\n",
              "\n",
              "  <script>\n",
              "    async function quickchart(key) {\n",
              "      const quickchartButtonEl =\n",
              "        document.querySelector('#' + key + ' button');\n",
              "      quickchartButtonEl.disabled = true;  // To prevent multiple clicks.\n",
              "      quickchartButtonEl.classList.add('colab-df-spinner');\n",
              "      try {\n",
              "        const charts = await google.colab.kernel.invokeFunction(\n",
              "            'suggestCharts', [key], {});\n",
              "      } catch (error) {\n",
              "        console.error('Error during call to suggestCharts:', error);\n",
              "      }\n",
              "      quickchartButtonEl.classList.remove('colab-df-spinner');\n",
              "      quickchartButtonEl.classList.add('colab-df-quickchart-complete');\n",
              "    }\n",
              "    (() => {\n",
              "      let quickchartButtonEl =\n",
              "        document.querySelector('#df-cb136d8d-dc38-44db-8e9d-18ee95bb330f button');\n",
              "      quickchartButtonEl.style.display =\n",
              "        google.colab.kernel.accessAllowed ? 'block' : 'none';\n",
              "    })();\n",
              "  </script>\n",
              "</div>\n",
              "\n",
              "    </div>\n",
              "  </div>\n"
            ],
            "application/vnd.google.colaboratory.intrinsic+json": {
              "type": "dataframe"
            }
          },
          "metadata": {},
          "execution_count": 10
        }
      ],
      "source": [
        "housing.loc[i_nearest]"
      ]
    },
    {
      "cell_type": "markdown",
      "metadata": {
        "id": "5eRPj7k73iUK"
      },
      "source": [
        "To make a prediction for the price of this new house, we average the sale prices of these 30 nearest neighbors."
      ]
    },
    {
      "cell_type": "code",
      "execution_count": 11,
      "metadata": {
        "id": "V3ZwtDOZ3iUS",
        "colab": {
          "base_uri": "https://localhost:8080/"
        },
        "outputId": "720658de-5e64-400d-e424-b06c542f2a26"
      },
      "outputs": [
        {
          "output_type": "execute_result",
          "data": {
            "text/plain": [
              "np.float64(382429.23333333334)"
            ]
          },
          "metadata": {},
          "execution_count": 11
        }
      ],
      "source": [
        "y_train.loc[i_nearest].mean()"
      ]
    },
    {
      "cell_type": "markdown",
      "metadata": {
        "id": "rygDd-VF3iUS"
      },
      "source": [
        "So the model predicts that the house is worth $382,429."
      ]
    },
    {
      "cell_type": "markdown",
      "metadata": {
        "id": "C-1iIHtj3iUT"
      },
      "source": [
        "## A More Complex Model\n",
        "\n",
        "The model above only had two features so it was easy to visualize the \"nearest neighbors\" on the scatterplot. But the magic of $k$-nearest neighbors is that it still works when there are more features and the data isn't so easy to visualize.\n",
        "\n",
        "Let's create a model that has 8 features, some of which are categorical."
      ]
    },
    {
      "cell_type": "code",
      "execution_count": 12,
      "metadata": {
        "id": "s8H57ISP3iUU"
      },
      "outputs": [],
      "source": [
        "# Create a new variable\n",
        "housing[\"Date Sold\"] = housing[\"Yr Sold\"] + housing[\"Mo Sold\"] / 12\n",
        "features = [\"Lot Area\", \"Gr Liv Area\",\n",
        "            \"Full Bath\", \"Half Bath\",\n",
        "            \"Bedroom AbvGr\",\n",
        "            \"Year Built\", \"Date Sold\",\n",
        "            \"Neighborhood\"]\n",
        "\n",
        "# Note that \"Neighborhood\" is a categorical variable.\n",
        "X_train = pd.get_dummies(housing[features])\n",
        "y_train = housing[\"SalePrice\"]"
      ]
    },
    {
      "cell_type": "markdown",
      "metadata": {
        "id": "ZdC1uO1K3iUV"
      },
      "source": [
        "Suppose an assessor is trying to predict the fair value in 2011 of a 1400-square foot home built in 1980 with 3 bedrooms, 2 full baths, and 1 half bath, on a 9000 square-foot lot in the `OldTown` neighborhood. Let's create the `pandas` `Series` corresponding to this house. Remember that we have dummy variables for each neighborhood. We have to be sure to include these dummy variables in the new `Series` as well. The easiest way to do this is to initialize the index of the `Series` to match the columns of `X_train` above."
      ]
    },
    {
      "cell_type": "code",
      "execution_count": 13,
      "metadata": {
        "id": "ZbJM43PU3iUV",
        "colab": {
          "base_uri": "https://localhost:8080/"
        },
        "outputId": "a04b75a0-c91d-4e6f-b7c7-563f801f150c"
      },
      "outputs": [
        {
          "output_type": "execute_result",
          "data": {
            "text/plain": [
              "Index(['Lot Area', 'Gr Liv Area', 'Full Bath', 'Half Bath', 'Bedroom AbvGr',\n",
              "       'Year Built', 'Date Sold', 'Neighborhood_Blmngtn',\n",
              "       'Neighborhood_Blueste', 'Neighborhood_BrDale', 'Neighborhood_BrkSide',\n",
              "       'Neighborhood_ClearCr', 'Neighborhood_CollgCr', 'Neighborhood_Crawfor',\n",
              "       'Neighborhood_Edwards', 'Neighborhood_Gilbert', 'Neighborhood_Greens',\n",
              "       'Neighborhood_GrnHill', 'Neighborhood_IDOTRR', 'Neighborhood_Landmrk',\n",
              "       'Neighborhood_MeadowV', 'Neighborhood_Mitchel', 'Neighborhood_NAmes',\n",
              "       'Neighborhood_NPkVill', 'Neighborhood_NWAmes', 'Neighborhood_NoRidge',\n",
              "       'Neighborhood_NridgHt', 'Neighborhood_OldTown', 'Neighborhood_SWISU',\n",
              "       'Neighborhood_Sawyer', 'Neighborhood_SawyerW', 'Neighborhood_Somerst',\n",
              "       'Neighborhood_StoneBr', 'Neighborhood_Timber', 'Neighborhood_Veenker'],\n",
              "      dtype='object')"
            ]
          },
          "metadata": {},
          "execution_count": 13
        }
      ],
      "source": [
        "X_train.columns"
      ]
    },
    {
      "cell_type": "code",
      "execution_count": 14,
      "metadata": {
        "id": "lf9BXwMR3iUX",
        "colab": {
          "base_uri": "https://localhost:8080/",
          "height": 270
        },
        "outputId": "1700fd04-d98f-43e1-9b15-74ed22823c47"
      },
      "outputs": [
        {
          "output_type": "execute_result",
          "data": {
            "text/plain": [
              "Lot Area                9000.0\n",
              "Gr Liv Area             1400.0\n",
              "                         ...  \n",
              "Neighborhood_Timber        0.0\n",
              "Neighborhood_Veenker       0.0\n",
              "Length: 35, dtype: float64"
            ],
            "text/html": [
              "<div>\n",
              "<style scoped>\n",
              "    .dataframe tbody tr th:only-of-type {\n",
              "        vertical-align: middle;\n",
              "    }\n",
              "\n",
              "    .dataframe tbody tr th {\n",
              "        vertical-align: top;\n",
              "    }\n",
              "\n",
              "    .dataframe thead th {\n",
              "        text-align: right;\n",
              "    }\n",
              "</style>\n",
              "<table border=\"1\" class=\"dataframe\">\n",
              "  <thead>\n",
              "    <tr style=\"text-align: right;\">\n",
              "      <th></th>\n",
              "      <th>0</th>\n",
              "    </tr>\n",
              "  </thead>\n",
              "  <tbody>\n",
              "    <tr>\n",
              "      <th>Lot Area</th>\n",
              "      <td>9000.0</td>\n",
              "    </tr>\n",
              "    <tr>\n",
              "      <th>Gr Liv Area</th>\n",
              "      <td>1400.0</td>\n",
              "    </tr>\n",
              "    <tr>\n",
              "      <th>...</th>\n",
              "      <td>...</td>\n",
              "    </tr>\n",
              "    <tr>\n",
              "      <th>Neighborhood_Timber</th>\n",
              "      <td>0.0</td>\n",
              "    </tr>\n",
              "    <tr>\n",
              "      <th>Neighborhood_Veenker</th>\n",
              "      <td>0.0</td>\n",
              "    </tr>\n",
              "  </tbody>\n",
              "</table>\n",
              "<p>35 rows × 1 columns</p>\n",
              "</div><br><label><b>dtype:</b> float64</label>"
            ]
          },
          "metadata": {},
          "execution_count": 14
        }
      ],
      "source": [
        "# Initialize a Series of NaNs, indexed by the columns of X_train\n",
        "x_new = pd.Series(index=X_train.columns, dtype=float)\n",
        "\n",
        "# Set the values of the known variables.\n",
        "x_new[\"Lot Area\"] = 9000\n",
        "x_new[\"Gr Liv Area\"] = 1400\n",
        "x_new[\"Full Bath\"] = 2\n",
        "x_new[\"Half Bath\"] = 1\n",
        "x_new[\"Bedroom AbvGr\"] = 3\n",
        "x_new[\"Year Built\"] = 1980\n",
        "x_new[\"Date Sold\"] = 2011\n",
        "\n",
        "# This house is in Old Town, so its dummy variable has value 1.\n",
        "x_new[\"Neighborhood_OldTown\"] = 1\n",
        "# The dummy variables for the other neighborhoods all have value 0.\n",
        "x_new.fillna(0, inplace=True)\n",
        "\n",
        "x_new"
      ]
    },
    {
      "cell_type": "markdown",
      "metadata": {
        "id": "tP5oSzCX3iUX"
      },
      "source": [
        "Now we can implement $k$-nearest neighbors much as we did above."
      ]
    },
    {
      "cell_type": "code",
      "execution_count": 15,
      "metadata": {
        "id": "nLGNTDZy3iUY",
        "colab": {
          "base_uri": "https://localhost:8080/"
        },
        "outputId": "37df6409-9cca-4dff-b5fe-45b88f33c738"
      },
      "outputs": [
        {
          "output_type": "execute_result",
          "data": {
            "text/plain": [
              "np.float64(132343.33333333334)"
            ]
          },
          "metadata": {},
          "execution_count": 15
        }
      ],
      "source": [
        "# Standardize the variables.\n",
        "X_train_mean = X_train.mean()\n",
        "X_train_std = X_train.std()\n",
        "\n",
        "X_train_sc = (X_train - X_train_mean) / X_train_std\n",
        "x_new_sc = (x_new - X_train_mean) / X_train_std\n",
        "\n",
        "# Find index of 30 nearest neighbors.\n",
        "dists = np.sqrt(((X_train_sc - x_new_sc) ** 2).sum(axis=1))\n",
        "i_nearest = dists.sort_values()[:30].index\n",
        "\n",
        "# Average the labels of these 30 nearest neighbors\n",
        "y_train.loc[i_nearest].mean()"
      ]
    },
    {
      "cell_type": "markdown",
      "metadata": {
        "id": "gmIEVhfV3iUZ"
      },
      "source": [
        "So the model predicts that this house is worth \\$132,343."
      ]
    },
    {
      "cell_type": "markdown",
      "metadata": {
        "id": "WULUOv4b3iUa"
      },
      "source": [
        "## The K-Nearest Neighbors Regression Function\n",
        "\n",
        "Remember that a predictive model is a function $f: {\\bf x} \\mapsto y$. We can visualize $f$ when ${\\bf x}$ consists of a single feature, like square footage. We saw a hypothetical predictive model in Figure 5.1 above. What does $f$ look like when the model is a $k$-nearest neighbors regressor?\n",
        "\n",
        "First, we extract the training data. There is no need to scale the features in this case because there is only one feature. (The point of scaling is to bring all of the variables to the same scale."
      ]
    },
    {
      "cell_type": "code",
      "execution_count": 16,
      "metadata": {
        "id": "z6iDbhP_3iUc"
      },
      "outputs": [],
      "source": [
        "X_train = housing[[\"Gr Liv Area\"]]\n",
        "y_train = housing[\"SalePrice\"]"
      ]
    },
    {
      "cell_type": "markdown",
      "metadata": {
        "id": "_2PA1oBF3iUd"
      },
      "source": [
        "In order to plot $f$, we need to evaluate the predictive model at a grid of feature values. Since square footage varies from 0 to 6000 square feet in the training data, we create a grid of ${\\bf x}$ values from 0 to 6000, in increments of 10."
      ]
    },
    {
      "cell_type": "code",
      "execution_count": 17,
      "metadata": {
        "id": "Mj4G-osa3iUg",
        "colab": {
          "base_uri": "https://localhost:8080/",
          "height": 235
        },
        "outputId": "ad834559-a92f-47cf-f80a-754cade4c2ef"
      },
      "outputs": [
        {
          "output_type": "execute_result",
          "data": {
            "text/plain": [
              "     Gr Liv Area\n",
              "0              0\n",
              "1             10\n",
              "..           ...\n",
              "598         5980\n",
              "599         5990\n",
              "\n",
              "[600 rows x 1 columns]"
            ],
            "text/html": [
              "\n",
              "  <div id=\"df-18f155e5-5686-4911-bfd8-78f82de346e8\" class=\"colab-df-container\">\n",
              "    <div>\n",
              "<style scoped>\n",
              "    .dataframe tbody tr th:only-of-type {\n",
              "        vertical-align: middle;\n",
              "    }\n",
              "\n",
              "    .dataframe tbody tr th {\n",
              "        vertical-align: top;\n",
              "    }\n",
              "\n",
              "    .dataframe thead th {\n",
              "        text-align: right;\n",
              "    }\n",
              "</style>\n",
              "<table border=\"1\" class=\"dataframe\">\n",
              "  <thead>\n",
              "    <tr style=\"text-align: right;\">\n",
              "      <th></th>\n",
              "      <th>Gr Liv Area</th>\n",
              "    </tr>\n",
              "  </thead>\n",
              "  <tbody>\n",
              "    <tr>\n",
              "      <th>0</th>\n",
              "      <td>0</td>\n",
              "    </tr>\n",
              "    <tr>\n",
              "      <th>1</th>\n",
              "      <td>10</td>\n",
              "    </tr>\n",
              "    <tr>\n",
              "      <th>...</th>\n",
              "      <td>...</td>\n",
              "    </tr>\n",
              "    <tr>\n",
              "      <th>598</th>\n",
              "      <td>5980</td>\n",
              "    </tr>\n",
              "    <tr>\n",
              "      <th>599</th>\n",
              "      <td>5990</td>\n",
              "    </tr>\n",
              "  </tbody>\n",
              "</table>\n",
              "<p>600 rows × 1 columns</p>\n",
              "</div>\n",
              "    <div class=\"colab-df-buttons\">\n",
              "\n",
              "  <div class=\"colab-df-container\">\n",
              "    <button class=\"colab-df-convert\" onclick=\"convertToInteractive('df-18f155e5-5686-4911-bfd8-78f82de346e8')\"\n",
              "            title=\"Convert this dataframe to an interactive table.\"\n",
              "            style=\"display:none;\">\n",
              "\n",
              "  <svg xmlns=\"http://www.w3.org/2000/svg\" height=\"24px\" viewBox=\"0 -960 960 960\">\n",
              "    <path d=\"M120-120v-720h720v720H120Zm60-500h600v-160H180v160Zm220 220h160v-160H400v160Zm0 220h160v-160H400v160ZM180-400h160v-160H180v160Zm440 0h160v-160H620v160ZM180-180h160v-160H180v160Zm440 0h160v-160H620v160Z\"/>\n",
              "  </svg>\n",
              "    </button>\n",
              "\n",
              "  <style>\n",
              "    .colab-df-container {\n",
              "      display:flex;\n",
              "      gap: 12px;\n",
              "    }\n",
              "\n",
              "    .colab-df-convert {\n",
              "      background-color: #E8F0FE;\n",
              "      border: none;\n",
              "      border-radius: 50%;\n",
              "      cursor: pointer;\n",
              "      display: none;\n",
              "      fill: #1967D2;\n",
              "      height: 32px;\n",
              "      padding: 0 0 0 0;\n",
              "      width: 32px;\n",
              "    }\n",
              "\n",
              "    .colab-df-convert:hover {\n",
              "      background-color: #E2EBFA;\n",
              "      box-shadow: 0px 1px 2px rgba(60, 64, 67, 0.3), 0px 1px 3px 1px rgba(60, 64, 67, 0.15);\n",
              "      fill: #174EA6;\n",
              "    }\n",
              "\n",
              "    .colab-df-buttons div {\n",
              "      margin-bottom: 4px;\n",
              "    }\n",
              "\n",
              "    [theme=dark] .colab-df-convert {\n",
              "      background-color: #3B4455;\n",
              "      fill: #D2E3FC;\n",
              "    }\n",
              "\n",
              "    [theme=dark] .colab-df-convert:hover {\n",
              "      background-color: #434B5C;\n",
              "      box-shadow: 0px 1px 3px 1px rgba(0, 0, 0, 0.15);\n",
              "      filter: drop-shadow(0px 1px 2px rgba(0, 0, 0, 0.3));\n",
              "      fill: #FFFFFF;\n",
              "    }\n",
              "  </style>\n",
              "\n",
              "    <script>\n",
              "      const buttonEl =\n",
              "        document.querySelector('#df-18f155e5-5686-4911-bfd8-78f82de346e8 button.colab-df-convert');\n",
              "      buttonEl.style.display =\n",
              "        google.colab.kernel.accessAllowed ? 'block' : 'none';\n",
              "\n",
              "      async function convertToInteractive(key) {\n",
              "        const element = document.querySelector('#df-18f155e5-5686-4911-bfd8-78f82de346e8');\n",
              "        const dataTable =\n",
              "          await google.colab.kernel.invokeFunction('convertToInteractive',\n",
              "                                                    [key], {});\n",
              "        if (!dataTable) return;\n",
              "\n",
              "        const docLinkHtml = 'Like what you see? Visit the ' +\n",
              "          '<a target=\"_blank\" href=https://colab.research.google.com/notebooks/data_table.ipynb>data table notebook</a>'\n",
              "          + ' to learn more about interactive tables.';\n",
              "        element.innerHTML = '';\n",
              "        dataTable['output_type'] = 'display_data';\n",
              "        await google.colab.output.renderOutput(dataTable, element);\n",
              "        const docLink = document.createElement('div');\n",
              "        docLink.innerHTML = docLinkHtml;\n",
              "        element.appendChild(docLink);\n",
              "      }\n",
              "    </script>\n",
              "  </div>\n",
              "\n",
              "\n",
              "<div id=\"df-8a654b0b-8d3c-4aa6-bd1b-7139a3f62bf8\">\n",
              "  <button class=\"colab-df-quickchart\" onclick=\"quickchart('df-8a654b0b-8d3c-4aa6-bd1b-7139a3f62bf8')\"\n",
              "            title=\"Suggest charts\"\n",
              "            style=\"display:none;\">\n",
              "\n",
              "<svg xmlns=\"http://www.w3.org/2000/svg\" height=\"24px\"viewBox=\"0 0 24 24\"\n",
              "     width=\"24px\">\n",
              "    <g>\n",
              "        <path d=\"M19 3H5c-1.1 0-2 .9-2 2v14c0 1.1.9 2 2 2h14c1.1 0 2-.9 2-2V5c0-1.1-.9-2-2-2zM9 17H7v-7h2v7zm4 0h-2V7h2v10zm4 0h-2v-4h2v4z\"/>\n",
              "    </g>\n",
              "</svg>\n",
              "  </button>\n",
              "\n",
              "<style>\n",
              "  .colab-df-quickchart {\n",
              "      --bg-color: #E8F0FE;\n",
              "      --fill-color: #1967D2;\n",
              "      --hover-bg-color: #E2EBFA;\n",
              "      --hover-fill-color: #174EA6;\n",
              "      --disabled-fill-color: #AAA;\n",
              "      --disabled-bg-color: #DDD;\n",
              "  }\n",
              "\n",
              "  [theme=dark] .colab-df-quickchart {\n",
              "      --bg-color: #3B4455;\n",
              "      --fill-color: #D2E3FC;\n",
              "      --hover-bg-color: #434B5C;\n",
              "      --hover-fill-color: #FFFFFF;\n",
              "      --disabled-bg-color: #3B4455;\n",
              "      --disabled-fill-color: #666;\n",
              "  }\n",
              "\n",
              "  .colab-df-quickchart {\n",
              "    background-color: var(--bg-color);\n",
              "    border: none;\n",
              "    border-radius: 50%;\n",
              "    cursor: pointer;\n",
              "    display: none;\n",
              "    fill: var(--fill-color);\n",
              "    height: 32px;\n",
              "    padding: 0;\n",
              "    width: 32px;\n",
              "  }\n",
              "\n",
              "  .colab-df-quickchart:hover {\n",
              "    background-color: var(--hover-bg-color);\n",
              "    box-shadow: 0 1px 2px rgba(60, 64, 67, 0.3), 0 1px 3px 1px rgba(60, 64, 67, 0.15);\n",
              "    fill: var(--button-hover-fill-color);\n",
              "  }\n",
              "\n",
              "  .colab-df-quickchart-complete:disabled,\n",
              "  .colab-df-quickchart-complete:disabled:hover {\n",
              "    background-color: var(--disabled-bg-color);\n",
              "    fill: var(--disabled-fill-color);\n",
              "    box-shadow: none;\n",
              "  }\n",
              "\n",
              "  .colab-df-spinner {\n",
              "    border: 2px solid var(--fill-color);\n",
              "    border-color: transparent;\n",
              "    border-bottom-color: var(--fill-color);\n",
              "    animation:\n",
              "      spin 1s steps(1) infinite;\n",
              "  }\n",
              "\n",
              "  @keyframes spin {\n",
              "    0% {\n",
              "      border-color: transparent;\n",
              "      border-bottom-color: var(--fill-color);\n",
              "      border-left-color: var(--fill-color);\n",
              "    }\n",
              "    20% {\n",
              "      border-color: transparent;\n",
              "      border-left-color: var(--fill-color);\n",
              "      border-top-color: var(--fill-color);\n",
              "    }\n",
              "    30% {\n",
              "      border-color: transparent;\n",
              "      border-left-color: var(--fill-color);\n",
              "      border-top-color: var(--fill-color);\n",
              "      border-right-color: var(--fill-color);\n",
              "    }\n",
              "    40% {\n",
              "      border-color: transparent;\n",
              "      border-right-color: var(--fill-color);\n",
              "      border-top-color: var(--fill-color);\n",
              "    }\n",
              "    60% {\n",
              "      border-color: transparent;\n",
              "      border-right-color: var(--fill-color);\n",
              "    }\n",
              "    80% {\n",
              "      border-color: transparent;\n",
              "      border-right-color: var(--fill-color);\n",
              "      border-bottom-color: var(--fill-color);\n",
              "    }\n",
              "    90% {\n",
              "      border-color: transparent;\n",
              "      border-bottom-color: var(--fill-color);\n",
              "    }\n",
              "  }\n",
              "</style>\n",
              "\n",
              "  <script>\n",
              "    async function quickchart(key) {\n",
              "      const quickchartButtonEl =\n",
              "        document.querySelector('#' + key + ' button');\n",
              "      quickchartButtonEl.disabled = true;  // To prevent multiple clicks.\n",
              "      quickchartButtonEl.classList.add('colab-df-spinner');\n",
              "      try {\n",
              "        const charts = await google.colab.kernel.invokeFunction(\n",
              "            'suggestCharts', [key], {});\n",
              "      } catch (error) {\n",
              "        console.error('Error during call to suggestCharts:', error);\n",
              "      }\n",
              "      quickchartButtonEl.classList.remove('colab-df-spinner');\n",
              "      quickchartButtonEl.classList.add('colab-df-quickchart-complete');\n",
              "    }\n",
              "    (() => {\n",
              "      let quickchartButtonEl =\n",
              "        document.querySelector('#df-8a654b0b-8d3c-4aa6-bd1b-7139a3f62bf8 button');\n",
              "      quickchartButtonEl.style.display =\n",
              "        google.colab.kernel.accessAllowed ? 'block' : 'none';\n",
              "    })();\n",
              "  </script>\n",
              "</div>\n",
              "\n",
              "  <div id=\"id_1b70824b-016e-4866-a7a9-539260fb985c\">\n",
              "    <style>\n",
              "      .colab-df-generate {\n",
              "        background-color: #E8F0FE;\n",
              "        border: none;\n",
              "        border-radius: 50%;\n",
              "        cursor: pointer;\n",
              "        display: none;\n",
              "        fill: #1967D2;\n",
              "        height: 32px;\n",
              "        padding: 0 0 0 0;\n",
              "        width: 32px;\n",
              "      }\n",
              "\n",
              "      .colab-df-generate:hover {\n",
              "        background-color: #E2EBFA;\n",
              "        box-shadow: 0px 1px 2px rgba(60, 64, 67, 0.3), 0px 1px 3px 1px rgba(60, 64, 67, 0.15);\n",
              "        fill: #174EA6;\n",
              "      }\n",
              "\n",
              "      [theme=dark] .colab-df-generate {\n",
              "        background-color: #3B4455;\n",
              "        fill: #D2E3FC;\n",
              "      }\n",
              "\n",
              "      [theme=dark] .colab-df-generate:hover {\n",
              "        background-color: #434B5C;\n",
              "        box-shadow: 0px 1px 3px 1px rgba(0, 0, 0, 0.15);\n",
              "        filter: drop-shadow(0px 1px 2px rgba(0, 0, 0, 0.3));\n",
              "        fill: #FFFFFF;\n",
              "      }\n",
              "    </style>\n",
              "    <button class=\"colab-df-generate\" onclick=\"generateWithVariable('X_new')\"\n",
              "            title=\"Generate code using this dataframe.\"\n",
              "            style=\"display:none;\">\n",
              "\n",
              "  <svg xmlns=\"http://www.w3.org/2000/svg\" height=\"24px\"viewBox=\"0 0 24 24\"\n",
              "       width=\"24px\">\n",
              "    <path d=\"M7,19H8.4L18.45,9,17,7.55,7,17.6ZM5,21V16.75L18.45,3.32a2,2,0,0,1,2.83,0l1.4,1.43a1.91,1.91,0,0,1,.58,1.4,1.91,1.91,0,0,1-.58,1.4L9.25,21ZM18.45,9,17,7.55Zm-12,3A5.31,5.31,0,0,0,4.9,8.1,5.31,5.31,0,0,0,1,6.5,5.31,5.31,0,0,0,4.9,4.9,5.31,5.31,0,0,0,6.5,1,5.31,5.31,0,0,0,8.1,4.9,5.31,5.31,0,0,0,12,6.5,5.46,5.46,0,0,0,6.5,12Z\"/>\n",
              "  </svg>\n",
              "    </button>\n",
              "    <script>\n",
              "      (() => {\n",
              "      const buttonEl =\n",
              "        document.querySelector('#id_1b70824b-016e-4866-a7a9-539260fb985c button.colab-df-generate');\n",
              "      buttonEl.style.display =\n",
              "        google.colab.kernel.accessAllowed ? 'block' : 'none';\n",
              "\n",
              "      buttonEl.onclick = () => {\n",
              "        google.colab.notebook.generateWithVariable('X_new');\n",
              "      }\n",
              "      })();\n",
              "    </script>\n",
              "  </div>\n",
              "\n",
              "    </div>\n",
              "  </div>\n"
            ],
            "application/vnd.google.colaboratory.intrinsic+json": {
              "type": "dataframe",
              "variable_name": "X_new",
              "summary": "{\n  \"name\": \"X_new\",\n  \"rows\": 600,\n  \"fields\": [\n    {\n      \"column\": \"Gr Liv Area\",\n      \"properties\": {\n        \"dtype\": \"number\",\n        \"std\": 1733,\n        \"min\": 0,\n        \"max\": 5990,\n        \"num_unique_values\": 600,\n        \"samples\": [\n          1100,\n          4190,\n          5650\n        ],\n        \"semantic_type\": \"\",\n        \"description\": \"\"\n      }\n    }\n  ]\n}"
            }
          },
          "metadata": {},
          "execution_count": 17
        }
      ],
      "source": [
        "X_new = pd.DataFrame()\n",
        "X_new[\"Gr Liv Area\"] = np.arange(0, 6000, 10)\n",
        "X_new"
      ]
    },
    {
      "cell_type": "markdown",
      "metadata": {
        "id": "RGPvqZvP3iUh"
      },
      "source": [
        "Next, we will define a function `get_30NN_prediction` that implements the 30-nearest neighbor algorithm above: given a new observation, it returns the mean label of the 30-nearest neighbors to that observation."
      ]
    },
    {
      "cell_type": "code",
      "execution_count": 18,
      "metadata": {
        "id": "bsilmzSX3iUi"
      },
      "outputs": [],
      "source": [
        "def get_30NN_prediction(x_new):\n",
        "    \"\"\"Given new observation, returns 30-nearest neighbors prediction\n",
        "    \"\"\"\n",
        "    dists = np.sqrt(((X_train - x_new)**2).sum(axis=1))\n",
        "    inds_sorted = dists.sort_values().index[:30]\n",
        "    return y_train.loc[inds_sorted].mean()"
      ]
    },
    {
      "cell_type": "markdown",
      "metadata": {
        "id": "5CbDJA9y3iUl"
      },
      "source": [
        "We actually have 600 new observations in `X_new`. Let's apply this function to each new observation."
      ]
    },
    {
      "cell_type": "code",
      "execution_count": 19,
      "metadata": {
        "id": "5Kd0WTi23iUm",
        "colab": {
          "base_uri": "https://localhost:8080/",
          "height": 270
        },
        "outputId": "5ac5fc08-7ec7-42e3-ae12-9bef5e4124ba"
      },
      "outputs": [
        {
          "output_type": "execute_result",
          "data": {
            "text/plain": [
              "0       72010.366667\n",
              "1       72010.366667\n",
              "           ...      \n",
              "598    372458.466667\n",
              "599    372458.466667\n",
              "Length: 600, dtype: float64"
            ],
            "text/html": [
              "<div>\n",
              "<style scoped>\n",
              "    .dataframe tbody tr th:only-of-type {\n",
              "        vertical-align: middle;\n",
              "    }\n",
              "\n",
              "    .dataframe tbody tr th {\n",
              "        vertical-align: top;\n",
              "    }\n",
              "\n",
              "    .dataframe thead th {\n",
              "        text-align: right;\n",
              "    }\n",
              "</style>\n",
              "<table border=\"1\" class=\"dataframe\">\n",
              "  <thead>\n",
              "    <tr style=\"text-align: right;\">\n",
              "      <th></th>\n",
              "      <th>0</th>\n",
              "    </tr>\n",
              "  </thead>\n",
              "  <tbody>\n",
              "    <tr>\n",
              "      <th>0</th>\n",
              "      <td>72010.366667</td>\n",
              "    </tr>\n",
              "    <tr>\n",
              "      <th>1</th>\n",
              "      <td>72010.366667</td>\n",
              "    </tr>\n",
              "    <tr>\n",
              "      <th>...</th>\n",
              "      <td>...</td>\n",
              "    </tr>\n",
              "    <tr>\n",
              "      <th>598</th>\n",
              "      <td>372458.466667</td>\n",
              "    </tr>\n",
              "    <tr>\n",
              "      <th>599</th>\n",
              "      <td>372458.466667</td>\n",
              "    </tr>\n",
              "  </tbody>\n",
              "</table>\n",
              "<p>600 rows × 1 columns</p>\n",
              "</div><br><label><b>dtype:</b> float64</label>"
            ]
          },
          "metadata": {},
          "execution_count": 19
        }
      ],
      "source": [
        "y_new_pred = X_new.apply(get_30NN_prediction, axis=1)\n",
        "y_new_pred"
      ]
    },
    {
      "cell_type": "markdown",
      "metadata": {
        "id": "lun3lUMr3iUn"
      },
      "source": [
        "We want to plot these predictions as a curve (`.plot.line()`). `pandas` will plot the index of the `Series` on the `x`-axis, so we have to set the index appropriately."
      ]
    },
    {
      "cell_type": "code",
      "execution_count": 20,
      "metadata": {
        "id": "JSlk555K3iUp",
        "colab": {
          "base_uri": "https://localhost:8080/",
          "height": 466
        },
        "outputId": "7c3d37da-8c07-4592-d4d8-849afc19af00"
      },
      "outputs": [
        {
          "output_type": "execute_result",
          "data": {
            "text/plain": [
              "<Axes: xlabel='Gr Liv Area'>"
            ]
          },
          "metadata": {},
          "execution_count": 20
        },
        {
          "output_type": "display_data",
          "data": {
            "text/plain": [
              "<Figure size 640x480 with 1 Axes>"
            ],
            "image/png": "[encoded data removed]"
          },
          "metadata": {}
        }
      ],
      "source": [
        "y_new_pred.index = X_new[\"Gr Liv Area\"]\n",
        "y_new_pred.plot.line()"
      ]
    },
    {
      "cell_type": "markdown",
      "metadata": {
        "id": "7IAFIWey3iUp"
      },
      "source": [
        "Now let's put all the pieces together and overlay this regression function on top of a scatterplot of the training data."
      ]
    },
    {
      "cell_type": "code",
      "execution_count": 21,
      "metadata": {
        "id": "UgbSetF13iUq",
        "colab": {
          "base_uri": "https://localhost:8080/",
          "height": 466
        },
        "outputId": "561ddaa1-5ed9-47c3-8b14-9ec4c868f51b"
      },
      "outputs": [
        {
          "output_type": "execute_result",
          "data": {
            "text/plain": [
              "<Axes: xlabel='Gr Liv Area', ylabel='SalePrice'>"
            ]
          },
          "metadata": {},
          "execution_count": 21
        },
        {
          "output_type": "display_data",
          "data": {
            "text/plain": [
              "<Figure size 640x480 with 1 Axes>"
            ],
            "image/png": "[encoded data removed]"
          },
          "metadata": {}
        }
      ],
      "source": [
        "# Make a scatterplot of the training data\n",
        "housing.plot.scatter(x=\"Gr Liv Area\", y=\"SalePrice\", color=\"black\", alpha=.2)\n",
        "\n",
        "# Add the predictions as a red line on this scatterplot\n",
        "y_new_pred.plot.line(color=\"red\")"
      ]
    },
    {
      "cell_type": "markdown",
      "metadata": {
        "id": "x0nXbNa03iUr"
      },
      "source": [
        "Notice how rough the 30-nearest neighbors regression function looks. In particular, look at the right half of the graph where the training data is sparse. The regression function is a step function in this range. That is because the value of the prediction changes only when the identities of the 30-nearest neighbors change. Houses with a square footage between 4500 and 6000 all have the same 30 nearest neighbors in the training data, so the prediction is constant in that range."
      ]
    },
    {
      "cell_type": "markdown",
      "metadata": {
        "id": "MchcASlw3iUr"
      },
      "source": [
        "# Exercises Part 1"
      ]
    },
    {
      "cell_type": "markdown",
      "metadata": {
        "id": "jhqnp73N3iUt"
      },
      "source": [
        "## Exercise 1\n",
        "\n",
        "Plot the $k$-nearest neighbors regression function for predicting sale price from just its square footage for $k=5, 30, 100$. How does the regression function change as $k$ increases?\n",
        "\n",
        "**Hint:** To do this we'll need to modify the function above to take an argument being the number of neighbors."
      ]
    },
    {
      "cell_type": "code",
      "execution_count": 22,
      "metadata": {
        "id": "s6fTTIJD3iUt",
        "colab": {
          "base_uri": "https://localhost:8080/",
          "height": 1000
        },
        "outputId": "701620f2-ef8a-4b3a-98b4-554e87f250d4"
      },
      "outputs": [
        {
          "output_type": "display_data",
          "data": {
            "text/plain": [
              "<Figure size 1000x600 with 0 Axes>"
            ]
          },
          "metadata": {}
        },
        {
          "output_type": "display_data",
          "data": {
            "text/plain": [
              "<Figure size 640x480 with 1 Axes>"
            ],
            "image/png": "[encoded data removed]"
          },
          "metadata": {}
        },
        {
          "output_type": "display_data",
          "data": {
            "text/plain": [
              "<Figure size 1000x600 with 0 Axes>"
            ]
          },
          "metadata": {}
        },
        {
          "output_type": "display_data",
          "data": {
            "text/plain": [
              "<Figure size 640x480 with 1 Axes>"
            ],
            "image/png": "[encoded data removed]"
          },
          "metadata": {}
        },
        {
          "output_type": "display_data",
          "data": {
            "text/plain": [
              "<Figure size 1000x600 with 0 Axes>"
            ]
          },
          "metadata": {}
        },
        {
          "output_type": "display_data",
          "data": {
            "text/plain": [
              "<Figure size 640x480 with 1 Axes>"
            ],
            "image/png": "[encoded data removed]"
          },
          "metadata": {}
        }
      ],
      "source": [
        "def get_kNN_prediction(x_new, k):\n",
        "    \"\"\"Given new observation and k, returns k-nearest neighbors prediction\n",
        "    \"\"\"\n",
        "    dists = np.sqrt(((X_train - x_new)**2).sum(axis=1))\n",
        "    inds_sorted = dists.sort_values().index[:k]\n",
        "    return y_train.loc[inds_sorted].mean()\n",
        "\n",
        "\n",
        "X_train = housing[[\"Gr Liv Area\"]]\n",
        "y_train = housing[\"SalePrice\"]\n",
        "\n",
        "X_new = pd.DataFrame()\n",
        "X_new[\"Gr Liv Area\"] = np.arange(0, 6000, 10)\n",
        "\n",
        "# Plot for k=5\n",
        "y_new_pred_5 = X_new.apply(lambda x: get_kNN_prediction(x, 5), axis=1)\n",
        "y_new_pred_5.index = X_new[\"Gr Liv Area\"]\n",
        "\n",
        "plt.figure(figsize=(10, 6))\n",
        "housing.plot.scatter(x=\"Gr Liv Area\", y=\"SalePrice\", color=\"black\", alpha=.2)\n",
        "y_new_pred_5.plot.line(color=\"red\", label=\"k=5\")\n",
        "plt.legend()\n",
        "plt.show()\n",
        "\n",
        "# Plot for k=30\n",
        "y_new_pred_30 = X_new.apply(lambda x: get_kNN_prediction(x, 30), axis=1)\n",
        "y_new_pred_30.index = X_new[\"Gr Liv Area\"]\n",
        "\n",
        "plt.figure(figsize=(10, 6))\n",
        "housing.plot.scatter(x=\"Gr Liv Area\", y=\"SalePrice\", color=\"black\", alpha=.2)\n",
        "y_new_pred_30.plot.line(color=\"blue\", label=\"k=30\")\n",
        "plt.legend()\n",
        "plt.show()\n",
        "\n",
        "# Plot for k=100\n",
        "y_new_pred_100 = X_new.apply(lambda x: get_kNN_prediction(x, 100), axis=1)\n",
        "y_new_pred_100.index = X_new[\"Gr Liv Area\"]\n",
        "\n",
        "plt.figure(figsize=(10, 6))\n",
        "housing.plot.scatter(x=\"Gr Liv Area\", y=\"SalePrice\", color=\"black\", alpha=.2)\n",
        "y_new_pred_100.plot.line(color=\"green\", label=\"k=100\")\n",
        "plt.legend()\n",
        "plt.show()\n"
      ]
    },
    {
      "cell_type": "markdown",
      "metadata": {
        "id": "Qmvqkklc3iUt"
      },
      "source": [
        "**Written Answer:**"
      ]
    },
    {
      "cell_type": "markdown",
      "metadata": {
        "id": "KLowW4wy3iUt"
      },
      "source": [
        "## Exercise 2.\n",
        "\n",
        "You would like to predict how much a male diner will tip on a bill of \\$40.00 on a Sunday. Build a $k$-nearest neighbors model to answer this question, using the Tips dataset (`../data/tips.csv`) as your training data."
      ]
    },
    {
      "cell_type": "code",
      "execution_count": 23,
      "metadata": {
        "id": "KSS_wecK3iUu",
        "colab": {
          "base_uri": "https://localhost:8080/"
        },
        "outputId": "489e7796-fac7-4ab4-d903-38baf4af2eca"
      },
      "outputs": [
        {
          "output_type": "stream",
          "name": "stdout",
          "text": [
            "Predicted tip for a male diner with a $40 bill on Sunday (k=5): $2.95\n"
          ]
        }
      ],
      "source": [
        "df_tips = pd.read_csv('../data/tips.csv')\n",
        "\n",
        "df_tips = pd.get_dummies(df_tips, columns=['sex', 'smoker', 'day', 'time'])\n",
        "\n",
        "features = ['total_bill', 'size', 'sex_Male', 'smoker_No', 'day_Sun', 'time_Dinner']\n",
        "target = 'tip'\n",
        "\n",
        "X_train = df_tips[features]\n",
        "y_train = df_tips[target]\n",
        "\n",
        "# Standardize the features\n",
        "X_train_mean = X_train.mean()\n",
        "X_train_std = X_train.std()\n",
        "X_train_sc = (X_train - X_train_mean) / X_train_std\n",
        "\n",
        "x_new = pd.Series(index=X_train.columns, dtype=float)\n",
        "x_new['total_bill'] = 40\n",
        "x_new['sex_Male'] = 1\n",
        "\n",
        "x_new.fillna(0, inplace=True)\n",
        "\n",
        "x_new_sc = (x_new - X_train_mean) / X_train_std\n",
        "\n",
        "def get_kNN_prediction(x_new, k):\n",
        "    \"\"\"Given new observation and k, returns k-nearest neighbors prediction\"\"\"\n",
        "    dists = np.sqrt(((X_train_sc - x_new) ** 2).sum(axis=1))\n",
        "    inds_sorted = dists.sort_values().index[:k]\n",
        "    return y_train.loc[inds_sorted].mean()\n",
        "\n",
        "\n",
        "k = 5\n",
        "predicted_tip = get_kNN_prediction(x_new_sc, k)\n",
        "\n",
        "print(f\"Predicted tip for a male diner with a $40 bill on Sunday (k={k}): ${predicted_tip:.2f}\")"
      ]
    },
    {
      "cell_type": "markdown",
      "metadata": {
        "id": "UWSgTkf43iUu"
      },
      "source": [
        "**BONUS BONUS BONUS Exercise (2 points).** We visualized the $k$-nearest neighbors regression function above, in the special case where there is only one feature. It is also possible to visualize a regression function in the case where there are two features, using a heat map, where the two axes represent the two features and the color represents the label.\n",
        "\n",
        "Make a heat map that shows the 30-nearest neighbors regression function when there are two features in the model: square footage (`Gr Liv Area`) and number of bedrooms (`Bedroom AbvGr`)."
      ]
    },
    {
      "cell_type": "code",
      "execution_count": 24,
      "metadata": {
        "id": "6TKd9PTS3iUu",
        "colab": {
          "base_uri": "https://localhost:8080/",
          "height": 718
        },
        "outputId": "2cee5596-d467-4625-ada4-1547225ba8f2"
      },
      "outputs": [
        {
          "output_type": "display_data",
          "data": {
            "text/plain": [
              "<Figure size 1200x800 with 2 Axes>"
            ],
            "image/png": "[encoded data removed]"
          },
          "metadata": {}
        }
      ],
      "source": [
        "import seaborn as sns\n",
        "\n",
        "# Define the range of Gr Liv Area and Bedroom AbvGr values for the heatmap\n",
        "x_range = np.arange(housing[\"Gr Liv Area\"].min(), housing[\"Gr Liv Area\"].max() + 1, 100)\n",
        "y_range = np.arange(housing[\"Bedroom AbvGr\"].min(), housing[\"Bedroom AbvGr\"].max() + 1, 1)\n",
        "\n",
        "# Create a grid of feature values\n",
        "X_new = pd.DataFrame()\n",
        "X_new[\"Gr Liv Area\"] = np.repeat(x_range, len(y_range))\n",
        "X_new[\"Bedroom AbvGr\"] = np.tile(y_range, len(x_range))\n",
        "\n",
        "\n",
        "def get_30NN_prediction_2features(x_new):\n",
        "  \"\"\"Given new observation with 2 features, returns 30-nearest neighbors prediction\n",
        "  \"\"\"\n",
        "  X_train_2features = housing[[\"Gr Liv Area\", \"Bedroom AbvGr\"]]\n",
        "  y_train = housing[\"SalePrice\"]\n",
        "\n",
        "  X_train_mean = X_train_2features.mean()\n",
        "  X_train_std = X_train_2features.std()\n",
        "\n",
        "  X_train_sc = (X_train_2features - X_train_mean) / X_train_std\n",
        "  x_new_sc = (x_new - X_train_mean) / X_train_std\n",
        "\n",
        "  dists = np.sqrt(((X_train_sc - x_new_sc) ** 2).sum(axis=1))\n",
        "  inds_sorted = dists.sort_values().index[:30]\n",
        "  return y_train.loc[inds_sorted].mean()\n",
        "\n",
        "\n",
        "# Apply the function to each new observation to get predictions\n",
        "y_new_pred = X_new.apply(get_30NN_prediction_2features, axis=1)\n",
        "\n",
        "# Create a 2D array of predictions for the heatmap\n",
        "heatmap_data = y_new_pred.values.reshape(len(x_range), len(y_range))\n",
        "\n",
        "# Create the heatmap using seaborn\n",
        "plt.figure(figsize=(12, 8))\n",
        "sns.heatmap(heatmap_data,\n",
        "            xticklabels=x_range[::10],\n",
        "            yticklabels=y_range,\n",
        "            cmap=\"plasma\")\n",
        "plt.xlabel(\"Gr Liv Area\")\n",
        "plt.ylabel(\"Bedroom AbvGr\")\n",
        "plt.title(\"30-Nearest Neighbors Regression Function (SalePrice)\")\n",
        "plt.show()\n"
      ]
    },
    {
      "cell_type": "markdown",
      "metadata": {
        "id": "7S1ALruk3iUv"
      },
      "source": [
        "# Part 2: The Scikit-Learn API\n",
        "\n",
        "In the previous section, we implemented $k$-nearest neighbors from scratch. Now we will see how to implement it using [Scikit-Learn](http://scikit-learn.org/), a Python library that makes it easy to train and use machine learning models. All models are trained and used in the exact same way:\n",
        "\n",
        "1. Declare the model.\n",
        "2. Fit the model to training data, consisting of both features $X$ and labels $y$.\n",
        "3. Use the model to predict the labels for new values of the features.\n",
        "\n",
        "Let's take a look at how we would use this API to train a model on the Ames housing data set to predict the 2011 price of the Old Town house from the previous section. Scikit-Learn assumes that the data has already been completely converted to  quantitative variables and that the variables have already been standardized (if desired). The code below reads in the data and does the necessary preprocessing.\n",
        "\n",
        "(All of this code is copied from the previous section. Read the code, and if you are not sure what a particular line does, refer back to the previous section.)"
      ]
    },
    {
      "cell_type": "code",
      "execution_count": 25,
      "metadata": {
        "id": "5jMFSAjS3iUv",
        "colab": {
          "base_uri": "https://localhost:8080/",
          "height": 273
        },
        "outputId": "2409668e-03fe-4a90-f89a-e3d62221f7a2"
      },
      "outputs": [
        {
          "output_type": "execute_result",
          "data": {
            "text/plain": [
              "      Lot Area  Gr Liv Area  Full Bath  Half Bath  Bedroom AbvGr  Year Built  \\\n",
              "0     2.743912     0.309212  -1.024618  -0.755074       0.176064   -0.375473   \n",
              "1     0.187065    -1.194223  -1.024618  -0.755074      -1.032058   -0.342410   \n",
              "...        ...          ...        ...        ...            ...         ...   \n",
              "2928 -0.017503    -0.218968  -1.024618  -0.755074      -1.032058    0.087408   \n",
              "2929 -0.066107     0.989715   0.783894   1.234464       0.176064    0.715604   \n",
              "\n",
              "      Date Sold  Neighborhood_Blmngtn  Neighborhood_Blueste  \\\n",
              "0      1.620757              -0.09821             -0.058511   \n",
              "1      1.684822              -0.09821             -0.058511   \n",
              "...         ...                   ...                   ...   \n",
              "2928  -1.518428              -0.09821             -0.058511   \n",
              "2929  -1.069973              -0.09821             -0.058511   \n",
              "\n",
              "      Neighborhood_BrDale  ...  Neighborhood_NoRidge  Neighborhood_NridgHt  \\\n",
              "0               -0.101692  ...             -0.157561             -0.245025   \n",
              "1               -0.101692  ...             -0.157561             -0.245025   \n",
              "...                   ...  ...                   ...                   ...   \n",
              "2928            -0.101692  ...             -0.157561             -0.245025   \n",
              "2929            -0.101692  ...             -0.157561             -0.245025   \n",
              "\n",
              "      Neighborhood_OldTown  Neighborhood_SWISU  Neighborhood_Sawyer  \\\n",
              "0                -0.297967           -0.129033            -0.233061   \n",
              "1                -0.297967           -0.129033            -0.233061   \n",
              "...                    ...                 ...                  ...   \n",
              "2928             -0.297967           -0.129033            -0.233061   \n",
              "2929             -0.297967           -0.129033            -0.233061   \n",
              "\n",
              "      Neighborhood_SawyerW  Neighborhood_Somerst  Neighborhood_StoneBr  \\\n",
              "0                -0.211064             -0.257308             -0.133073   \n",
              "1                -0.211064             -0.257308             -0.133073   \n",
              "...                    ...                   ...                   ...   \n",
              "2928             -0.211064             -0.257308             -0.133073   \n",
              "2929             -0.211064             -0.257308             -0.133073   \n",
              "\n",
              "      Neighborhood_Timber  Neighborhood_Veenker  \n",
              "0               -0.158694             -0.090862  \n",
              "1               -0.158694             -0.090862  \n",
              "...                   ...                   ...  \n",
              "2928            -0.158694             -0.090862  \n",
              "2929            -0.158694             -0.090862  \n",
              "\n",
              "[2930 rows x 35 columns]"
            ],
            "text/html": [
              "\n",
              "  <div id=\"df-a53d19cb-0e4a-4737-a05a-108f68daf6cf\" class=\"colab-df-container\">\n",
              "    <div>\n",
              "<style scoped>\n",
              "    .dataframe tbody tr th:only-of-type {\n",
              "        vertical-align: middle;\n",
              "    }\n",
              "\n",
              "    .dataframe tbody tr th {\n",
              "        vertical-align: top;\n",
              "    }\n",
              "\n",
              "    .dataframe thead th {\n",
              "        text-align: right;\n",
              "    }\n",
              "</style>\n",
              "<table border=\"1\" class=\"dataframe\">\n",
              "  <thead>\n",
              "    <tr style=\"text-align: right;\">\n",
              "      <th></th>\n",
              "      <th>Lot Area</th>\n",
              "      <th>Gr Liv Area</th>\n",
              "      <th>Full Bath</th>\n",
              "      <th>Half Bath</th>\n",
              "      <th>Bedroom AbvGr</th>\n",
              "      <th>Year Built</th>\n",
              "      <th>Date Sold</th>\n",
              "      <th>Neighborhood_Blmngtn</th>\n",
              "      <th>Neighborhood_Blueste</th>\n",
              "      <th>Neighborhood_BrDale</th>\n",
              "      <th>...</th>\n",
              "      <th>Neighborhood_NoRidge</th>\n",
              "      <th>Neighborhood_NridgHt</th>\n",
              "      <th>Neighborhood_OldTown</th>\n",
              "      <th>Neighborhood_SWISU</th>\n",
              "      <th>Neighborhood_Sawyer</th>\n",
              "      <th>Neighborhood_SawyerW</th>\n",
              "      <th>Neighborhood_Somerst</th>\n",
              "      <th>Neighborhood_StoneBr</th>\n",
              "      <th>Neighborhood_Timber</th>\n",
              "      <th>Neighborhood_Veenker</th>\n",
              "    </tr>\n",
              "  </thead>\n",
              "  <tbody>\n",
              "    <tr>\n",
              "      <th>0</th>\n",
              "      <td>2.743912</td>\n",
              "      <td>0.309212</td>\n",
              "      <td>-1.024618</td>\n",
              "      <td>-0.755074</td>\n",
              "      <td>0.176064</td>\n",
              "      <td>-0.375473</td>\n",
              "      <td>1.620757</td>\n",
              "      <td>-0.09821</td>\n",
              "      <td>-0.058511</td>\n",
              "      <td>-0.101692</td>\n",
              "      <td>...</td>\n",
              "      <td>-0.157561</td>\n",
              "      <td>-0.245025</td>\n",
              "      <td>-0.297967</td>\n",
              "      <td>-0.129033</td>\n",
              "      <td>-0.233061</td>\n",
              "      <td>-0.211064</td>\n",
              "      <td>-0.257308</td>\n",
              "      <td>-0.133073</td>\n",
              "      <td>-0.158694</td>\n",
              "      <td>-0.090862</td>\n",
              "    </tr>\n",
              "    <tr>\n",
              "      <th>1</th>\n",
              "      <td>0.187065</td>\n",
              "      <td>-1.194223</td>\n",
              "      <td>-1.024618</td>\n",
              "      <td>-0.755074</td>\n",
              "      <td>-1.032058</td>\n",
              "      <td>-0.342410</td>\n",
              "      <td>1.684822</td>\n",
              "      <td>-0.09821</td>\n",
              "      <td>-0.058511</td>\n",
              "      <td>-0.101692</td>\n",
              "      <td>...</td>\n",
              "      <td>-0.157561</td>\n",
              "      <td>-0.245025</td>\n",
              "      <td>-0.297967</td>\n",
              "      <td>-0.129033</td>\n",
              "      <td>-0.233061</td>\n",
              "      <td>-0.211064</td>\n",
              "      <td>-0.257308</td>\n",
              "      <td>-0.133073</td>\n",
              "      <td>-0.158694</td>\n",
              "      <td>-0.090862</td>\n",
              "    </tr>\n",
              "    <tr>\n",
              "      <th>...</th>\n",
              "      <td>...</td>\n",
              "      <td>...</td>\n",
              "      <td>...</td>\n",
              "      <td>...</td>\n",
              "      <td>...</td>\n",
              "      <td>...</td>\n",
              "      <td>...</td>\n",
              "      <td>...</td>\n",
              "      <td>...</td>\n",
              "      <td>...</td>\n",
              "      <td>...</td>\n",
              "      <td>...</td>\n",
              "      <td>...</td>\n",
              "      <td>...</td>\n",
              "      <td>...</td>\n",
              "      <td>...</td>\n",
              "      <td>...</td>\n",
              "      <td>...</td>\n",
              "      <td>...</td>\n",
              "      <td>...</td>\n",
              "      <td>...</td>\n",
              "    </tr>\n",
              "    <tr>\n",
              "      <th>2928</th>\n",
              "      <td>-0.017503</td>\n",
              "      <td>-0.218968</td>\n",
              "      <td>-1.024618</td>\n",
              "      <td>-0.755074</td>\n",
              "      <td>-1.032058</td>\n",
              "      <td>0.087408</td>\n",
              "      <td>-1.518428</td>\n",
              "      <td>-0.09821</td>\n",
              "      <td>-0.058511</td>\n",
              "      <td>-0.101692</td>\n",
              "      <td>...</td>\n",
              "      <td>-0.157561</td>\n",
              "      <td>-0.245025</td>\n",
              "      <td>-0.297967</td>\n",
              "      <td>-0.129033</td>\n",
              "      <td>-0.233061</td>\n",
              "      <td>-0.211064</td>\n",
              "      <td>-0.257308</td>\n",
              "      <td>-0.133073</td>\n",
              "      <td>-0.158694</td>\n",
              "      <td>-0.090862</td>\n",
              "    </tr>\n",
              "    <tr>\n",
              "      <th>2929</th>\n",
              "      <td>-0.066107</td>\n",
              "      <td>0.989715</td>\n",
              "      <td>0.783894</td>\n",
              "      <td>1.234464</td>\n",
              "      <td>0.176064</td>\n",
              "      <td>0.715604</td>\n",
              "      <td>-1.069973</td>\n",
              "      <td>-0.09821</td>\n",
              "      <td>-0.058511</td>\n",
              "      <td>-0.101692</td>\n",
              "      <td>...</td>\n",
              "      <td>-0.157561</td>\n",
              "      <td>-0.245025</td>\n",
              "      <td>-0.297967</td>\n",
              "      <td>-0.129033</td>\n",
              "      <td>-0.233061</td>\n",
              "      <td>-0.211064</td>\n",
              "      <td>-0.257308</td>\n",
              "      <td>-0.133073</td>\n",
              "      <td>-0.158694</td>\n",
              "      <td>-0.090862</td>\n",
              "    </tr>\n",
              "  </tbody>\n",
              "</table>\n",
              "<p>2930 rows × 35 columns</p>\n",
              "</div>\n",
              "    <div class=\"colab-df-buttons\">\n",
              "\n",
              "  <div class=\"colab-df-container\">\n",
              "    <button class=\"colab-df-convert\" onclick=\"convertToInteractive('df-a53d19cb-0e4a-4737-a05a-108f68daf6cf')\"\n",
              "            title=\"Convert this dataframe to an interactive table.\"\n",
              "            style=\"display:none;\">\n",
              "\n",
              "  <svg xmlns=\"http://www.w3.org/2000/svg\" height=\"24px\" viewBox=\"0 -960 960 960\">\n",
              "    <path d=\"M120-120v-720h720v720H120Zm60-500h600v-160H180v160Zm220 220h160v-160H400v160Zm0 220h160v-160H400v160ZM180-400h160v-160H180v160Zm440 0h160v-160H620v160ZM180-180h160v-160H180v160Zm440 0h160v-160H620v160Z\"/>\n",
              "  </svg>\n",
              "    </button>\n",
              "\n",
              "  <style>\n",
              "    .colab-df-container {\n",
              "      display:flex;\n",
              "      gap: 12px;\n",
              "    }\n",
              "\n",
              "    .colab-df-convert {\n",
              "      background-color: #E8F0FE;\n",
              "      border: none;\n",
              "      border-radius: 50%;\n",
              "      cursor: pointer;\n",
              "      display: none;\n",
              "      fill: #1967D2;\n",
              "      height: 32px;\n",
              "      padding: 0 0 0 0;\n",
              "      width: 32px;\n",
              "    }\n",
              "\n",
              "    .colab-df-convert:hover {\n",
              "      background-color: #E2EBFA;\n",
              "      box-shadow: 0px 1px 2px rgba(60, 64, 67, 0.3), 0px 1px 3px 1px rgba(60, 64, 67, 0.15);\n",
              "      fill: #174EA6;\n",
              "    }\n",
              "\n",
              "    .colab-df-buttons div {\n",
              "      margin-bottom: 4px;\n",
              "    }\n",
              "\n",
              "    [theme=dark] .colab-df-convert {\n",
              "      background-color: #3B4455;\n",
              "      fill: #D2E3FC;\n",
              "    }\n",
              "\n",
              "    [theme=dark] .colab-df-convert:hover {\n",
              "      background-color: #434B5C;\n",
              "      box-shadow: 0px 1px 3px 1px rgba(0, 0, 0, 0.15);\n",
              "      filter: drop-shadow(0px 1px 2px rgba(0, 0, 0, 0.3));\n",
              "      fill: #FFFFFF;\n",
              "    }\n",
              "  </style>\n",
              "\n",
              "    <script>\n",
              "      const buttonEl =\n",
              "        document.querySelector('#df-a53d19cb-0e4a-4737-a05a-108f68daf6cf button.colab-df-convert');\n",
              "      buttonEl.style.display =\n",
              "        google.colab.kernel.accessAllowed ? 'block' : 'none';\n",
              "\n",
              "      async function convertToInteractive(key) {\n",
              "        const element = document.querySelector('#df-a53d19cb-0e4a-4737-a05a-108f68daf6cf');\n",
              "        const dataTable =\n",
              "          await google.colab.kernel.invokeFunction('convertToInteractive',\n",
              "                                                    [key], {});\n",
              "        if (!dataTable) return;\n",
              "\n",
              "        const docLinkHtml = 'Like what you see? Visit the ' +\n",
              "          '<a target=\"_blank\" href=https://colab.research.google.com/notebooks/data_table.ipynb>data table notebook</a>'\n",
              "          + ' to learn more about interactive tables.';\n",
              "        element.innerHTML = '';\n",
              "        dataTable['output_type'] = 'display_data';\n",
              "        await google.colab.output.renderOutput(dataTable, element);\n",
              "        const docLink = document.createElement('div');\n",
              "        docLink.innerHTML = docLinkHtml;\n",
              "        element.appendChild(docLink);\n",
              "      }\n",
              "    </script>\n",
              "  </div>\n",
              "\n",
              "\n",
              "<div id=\"df-4f4416c0-21e7-4767-b131-84c8e362a9fc\">\n",
              "  <button class=\"colab-df-quickchart\" onclick=\"quickchart('df-4f4416c0-21e7-4767-b131-84c8e362a9fc')\"\n",
              "            title=\"Suggest charts\"\n",
              "            style=\"display:none;\">\n",
              "\n",
              "<svg xmlns=\"http://www.w3.org/2000/svg\" height=\"24px\"viewBox=\"0 0 24 24\"\n",
              "     width=\"24px\">\n",
              "    <g>\n",
              "        <path d=\"M19 3H5c-1.1 0-2 .9-2 2v14c0 1.1.9 2 2 2h14c1.1 0 2-.9 2-2V5c0-1.1-.9-2-2-2zM9 17H7v-7h2v7zm4 0h-2V7h2v10zm4 0h-2v-4h2v4z\"/>\n",
              "    </g>\n",
              "</svg>\n",
              "  </button>\n",
              "\n",
              "<style>\n",
              "  .colab-df-quickchart {\n",
              "      --bg-color: #E8F0FE;\n",
              "      --fill-color: #1967D2;\n",
              "      --hover-bg-color: #E2EBFA;\n",
              "      --hover-fill-color: #174EA6;\n",
              "      --disabled-fill-color: #AAA;\n",
              "      --disabled-bg-color: #DDD;\n",
              "  }\n",
              "\n",
              "  [theme=dark] .colab-df-quickchart {\n",
              "      --bg-color: #3B4455;\n",
              "      --fill-color: #D2E3FC;\n",
              "      --hover-bg-color: #434B5C;\n",
              "      --hover-fill-color: #FFFFFF;\n",
              "      --disabled-bg-color: #3B4455;\n",
              "      --disabled-fill-color: #666;\n",
              "  }\n",
              "\n",
              "  .colab-df-quickchart {\n",
              "    background-color: var(--bg-color);\n",
              "    border: none;\n",
              "    border-radius: 50%;\n",
              "    cursor: pointer;\n",
              "    display: none;\n",
              "    fill: var(--fill-color);\n",
              "    height: 32px;\n",
              "    padding: 0;\n",
              "    width: 32px;\n",
              "  }\n",
              "\n",
              "  .colab-df-quickchart:hover {\n",
              "    background-color: var(--hover-bg-color);\n",
              "    box-shadow: 0 1px 2px rgba(60, 64, 67, 0.3), 0 1px 3px 1px rgba(60, 64, 67, 0.15);\n",
              "    fill: var(--button-hover-fill-color);\n",
              "  }\n",
              "\n",
              "  .colab-df-quickchart-complete:disabled,\n",
              "  .colab-df-quickchart-complete:disabled:hover {\n",
              "    background-color: var(--disabled-bg-color);\n",
              "    fill: var(--disabled-fill-color);\n",
              "    box-shadow: none;\n",
              "  }\n",
              "\n",
              "  .colab-df-spinner {\n",
              "    border: 2px solid var(--fill-color);\n",
              "    border-color: transparent;\n",
              "    border-bottom-color: var(--fill-color);\n",
              "    animation:\n",
              "      spin 1s steps(1) infinite;\n",
              "  }\n",
              "\n",
              "  @keyframes spin {\n",
              "    0% {\n",
              "      border-color: transparent;\n",
              "      border-bottom-color: var(--fill-color);\n",
              "      border-left-color: var(--fill-color);\n",
              "    }\n",
              "    20% {\n",
              "      border-color: transparent;\n",
              "      border-left-color: var(--fill-color);\n",
              "      border-top-color: var(--fill-color);\n",
              "    }\n",
              "    30% {\n",
              "      border-color: transparent;\n",
              "      border-left-color: var(--fill-color);\n",
              "      border-top-color: var(--fill-color);\n",
              "      border-right-color: var(--fill-color);\n",
              "    }\n",
              "    40% {\n",
              "      border-color: transparent;\n",
              "      border-right-color: var(--fill-color);\n",
              "      border-top-color: var(--fill-color);\n",
              "    }\n",
              "    60% {\n",
              "      border-color: transparent;\n",
              "      border-right-color: var(--fill-color);\n",
              "    }\n",
              "    80% {\n",
              "      border-color: transparent;\n",
              "      border-right-color: var(--fill-color);\n",
              "      border-bottom-color: var(--fill-color);\n",
              "    }\n",
              "    90% {\n",
              "      border-color: transparent;\n",
              "      border-bottom-color: var(--fill-color);\n",
              "    }\n",
              "  }\n",
              "</style>\n",
              "\n",
              "  <script>\n",
              "    async function quickchart(key) {\n",
              "      const quickchartButtonEl =\n",
              "        document.querySelector('#' + key + ' button');\n",
              "      quickchartButtonEl.disabled = true;  // To prevent multiple clicks.\n",
              "      quickchartButtonEl.classList.add('colab-df-spinner');\n",
              "      try {\n",
              "        const charts = await google.colab.kernel.invokeFunction(\n",
              "            'suggestCharts', [key], {});\n",
              "      } catch (error) {\n",
              "        console.error('Error during call to suggestCharts:', error);\n",
              "      }\n",
              "      quickchartButtonEl.classList.remove('colab-df-spinner');\n",
              "      quickchartButtonEl.classList.add('colab-df-quickchart-complete');\n",
              "    }\n",
              "    (() => {\n",
              "      let quickchartButtonEl =\n",
              "        document.querySelector('#df-4f4416c0-21e7-4767-b131-84c8e362a9fc button');\n",
              "      quickchartButtonEl.style.display =\n",
              "        google.colab.kernel.accessAllowed ? 'block' : 'none';\n",
              "    })();\n",
              "  </script>\n",
              "</div>\n",
              "\n",
              "  <div id=\"id_a9b38ef0-b075-4f64-9f92-ad24b9c69dbc\">\n",
              "    <style>\n",
              "      .colab-df-generate {\n",
              "        background-color: #E8F0FE;\n",
              "        border: none;\n",
              "        border-radius: 50%;\n",
              "        cursor: pointer;\n",
              "        display: none;\n",
              "        fill: #1967D2;\n",
              "        height: 32px;\n",
              "        padding: 0 0 0 0;\n",
              "        width: 32px;\n",
              "      }\n",
              "\n",
              "      .colab-df-generate:hover {\n",
              "        background-color: #E2EBFA;\n",
              "        box-shadow: 0px 1px 2px rgba(60, 64, 67, 0.3), 0px 1px 3px 1px rgba(60, 64, 67, 0.15);\n",
              "        fill: #174EA6;\n",
              "      }\n",
              "\n",
              "      [theme=dark] .colab-df-generate {\n",
              "        background-color: #3B4455;\n",
              "        fill: #D2E3FC;\n",
              "      }\n",
              "\n",
              "      [theme=dark] .colab-df-generate:hover {\n",
              "        background-color: #434B5C;\n",
              "        box-shadow: 0px 1px 3px 1px rgba(0, 0, 0, 0.15);\n",
              "        filter: drop-shadow(0px 1px 2px rgba(0, 0, 0, 0.3));\n",
              "        fill: #FFFFFF;\n",
              "      }\n",
              "    </style>\n",
              "    <button class=\"colab-df-generate\" onclick=\"generateWithVariable('X_train_sc')\"\n",
              "            title=\"Generate code using this dataframe.\"\n",
              "            style=\"display:none;\">\n",
              "\n",
              "  <svg xmlns=\"http://www.w3.org/2000/svg\" height=\"24px\"viewBox=\"0 0 24 24\"\n",
              "       width=\"24px\">\n",
              "    <path d=\"M7,19H8.4L18.45,9,17,7.55,7,17.6ZM5,21V16.75L18.45,3.32a2,2,0,0,1,2.83,0l1.4,1.43a1.91,1.91,0,0,1,.58,1.4,1.91,1.91,0,0,1-.58,1.4L9.25,21ZM18.45,9,17,7.55Zm-12,3A5.31,5.31,0,0,0,4.9,8.1,5.31,5.31,0,0,0,1,6.5,5.31,5.31,0,0,0,4.9,4.9,5.31,5.31,0,0,0,6.5,1,5.31,5.31,0,0,0,8.1,4.9,5.31,5.31,0,0,0,12,6.5,5.46,5.46,0,0,0,6.5,12Z\"/>\n",
              "  </svg>\n",
              "    </button>\n",
              "    <script>\n",
              "      (() => {\n",
              "      const buttonEl =\n",
              "        document.querySelector('#id_a9b38ef0-b075-4f64-9f92-ad24b9c69dbc button.colab-df-generate');\n",
              "      buttonEl.style.display =\n",
              "        google.colab.kernel.accessAllowed ? 'block' : 'none';\n",
              "\n",
              "      buttonEl.onclick = () => {\n",
              "        google.colab.notebook.generateWithVariable('X_train_sc');\n",
              "      }\n",
              "      })();\n",
              "    </script>\n",
              "  </div>\n",
              "\n",
              "    </div>\n",
              "  </div>\n"
            ],
            "application/vnd.google.colaboratory.intrinsic+json": {
              "type": "dataframe",
              "variable_name": "X_train_sc"
            }
          },
          "metadata": {},
          "execution_count": 25
        }
      ],
      "source": [
        "import numpy as np\n",
        "import pandas as pd\n",
        "pd.options.display.max_rows = 5\n",
        "\n",
        "housing = pd.read_csv(\"../data/ames.tsv\", sep=\"\\t\")\n",
        "\n",
        "housing[\"Date Sold\"] = housing[\"Yr Sold\"] + housing[\"Mo Sold\"] / 12\n",
        "features = [\"Lot Area\", \"Gr Liv Area\",\n",
        "            \"Full Bath\", \"Half Bath\",\n",
        "            \"Bedroom AbvGr\",\n",
        "            \"Year Built\", \"Date Sold\",\n",
        "            \"Neighborhood\"]\n",
        "X_train = pd.get_dummies(housing[features])\n",
        "y_train = housing[\"SalePrice\"]\n",
        "\n",
        "x_new = pd.Series(index=X_train.columns, dtype=float)\n",
        "x_new[\"Lot Area\"] = 9000\n",
        "x_new[\"Gr Liv Area\"] = 1400\n",
        "x_new[\"Full Bath\"] = 2\n",
        "x_new[\"Half Bath\"] = 1\n",
        "x_new[\"Bedroom AbvGr\"] = 3\n",
        "x_new[\"Year Built\"] = 1980\n",
        "x_new[\"Date Sold\"] = 2011\n",
        "x_new[\"Neighborhood_OldTown\"] = 1\n",
        "x_new.fillna(0, inplace=True)\n",
        "\n",
        "X_train_mean = X_train.mean()\n",
        "X_train_std = X_train.std()\n",
        "X_train_sc = (X_train - X_train_mean) / X_train_std\n",
        "x_new_sc = (x_new - X_train_mean) / X_train_std\n",
        "\n",
        "X_train_sc"
      ]
    },
    {
      "cell_type": "markdown",
      "metadata": {
        "id": "4lnsDC7g3iUw"
      },
      "source": [
        "`X_train_sc` is a matrix of all numbers, which is the form that Scikit-Learn expects. Now let's see how to use Scikit-Learn to fit a $k$-nearest neighbors model to this data."
      ]
    },
    {
      "cell_type": "code",
      "execution_count": 26,
      "metadata": {
        "id": "TpeIH60K3iUw",
        "colab": {
          "base_uri": "https://localhost:8080/"
        },
        "outputId": "15334e65-655d-49f1-c734-fb8e35d8cd53"
      },
      "outputs": [
        {
          "output_type": "execute_result",
          "data": {
            "text/plain": [
              "array([132343.33333333])"
            ]
          },
          "metadata": {},
          "execution_count": 26
        }
      ],
      "source": [
        "from sklearn.neighbors import KNeighborsRegressor\n",
        "\n",
        "# Step 1: Declare the model.\n",
        "model = KNeighborsRegressor(n_neighbors=30)\n",
        "\n",
        "# Step 2: Fit the model to training data.\n",
        "model.fit(X_train_sc, y_train)\n",
        "\n",
        "# Step 3: Use the model to predict for new observations.\n",
        "# Scikit-Learn expects 2-dimensional arrays, so we need to\n",
        "# turn the Series into a DataFrame with 1 row.\n",
        "X_new_sc = x_new_sc.to_frame().T\n",
        "model.predict(X_new_sc)"
      ]
    },
    {
      "cell_type": "markdown",
      "metadata": {
        "id": "XGuI9mCF3iUw"
      },
      "source": [
        "This is the exact same prediction that we got by implementing $k$-nearest neighbors manually (look back up to verify this is the case).\n",
        "\n",
        "In the case of training a machine learning model to predict for a single observation, Scikit-Learn may seem like overkill. In fact, the above Scikit-Learn code was 5 lines, whereas our implementation of $k$-nearest neighbors in the previous section was only 4 lines. However, learning Scikit-Learn will pay off as the problems become more complex."
      ]
    },
    {
      "cell_type": "markdown",
      "metadata": {
        "id": "gW8HwV7Y3iUx"
      },
      "source": [
        "## Preprocessing in Scikit-Learn\n",
        "\n",
        "We constructed `X_train_sc` and `x_new_sc` above using just basic `pandas` operations. But it is also possible to have Scikit-Learn do this preprocessing for us. The preprocessing objects in Scikit-Learn all follow the same basic pattern:\n",
        "\n",
        "1. First, the preprocessing object has to be \"fit\" to a data set.\n",
        "2. The `.transform()` method actually processes the data. This method can be called repeatedly on multiple data sets and is guaranteed to process each data set in exactly the same way.\n",
        "\n",
        "It might not be obvious why it is necessary to first \"fit\" the preprocessing object to a data set before using it to process data. Hopefully, the following examples will make this clear.\n",
        "\n",
        "### Example 1: Dummy Encoding\n",
        "\n",
        "Instead of using `pd.get_dummies()`, we can do dummy encoding in Scikit-Learn using the `DictVectorizer` tool. There is one catch: `DictVectorizer` expects the data as a list of dictionaries, not as a `DataFrame`. But each row of a `DataFrame` can be represented as a dictionary, where the keys are the column names and the values are the data. `Pandas` provides a convenience function, `.to_dict()`, that converts a `DataFrame` into a list of dictionaries."
      ]
    },
    {
      "cell_type": "code",
      "execution_count": 27,
      "metadata": {
        "id": "RG0_8VKB3iU0",
        "colab": {
          "base_uri": "https://localhost:8080/"
        },
        "outputId": "f8bdd3c7-3826-4af2-eee8-e36bdfe82628"
      },
      "outputs": [
        {
          "output_type": "execute_result",
          "data": {
            "text/plain": [
              "[{'Lot Area': 31770,\n",
              "  'Gr Liv Area': 1656,\n",
              "  'Full Bath': 1,\n",
              "  'Half Bath': 0,\n",
              "  'Bedroom AbvGr': 3,\n",
              "  'Year Built': 1960,\n",
              "  'Date Sold': 2010.4166666666667,\n",
              "  'Neighborhood': 'NAmes'},\n",
              " {'Lot Area': 11622,\n",
              "  'Gr Liv Area': 896,\n",
              "  'Full Bath': 1,\n",
              "  'Half Bath': 0,\n",
              "  'Bedroom AbvGr': 2,\n",
              "  'Year Built': 1961,\n",
              "  'Date Sold': 2010.5,\n",
              "  'Neighborhood': 'NAmes'}]"
            ]
          },
          "metadata": {},
          "execution_count": 27
        }
      ],
      "source": [
        "X_train_dict = housing[features].to_dict(orient=\"records\")\n",
        "X_train_dict[:2]"
      ]
    },
    {
      "cell_type": "markdown",
      "metadata": {
        "id": "8bC-aAvf3iU0"
      },
      "source": [
        "Now we pass this list to `DictVectorizer`, which will expand each categorical variable (e.g., \"Neighborhood\") into dummy variables. When the vectorizer is fit to the training data, it will learn all of the possible categories for each categorical variable so that when `.transform()` is called on different data sets, the same dummy variables will be returned (and in the same order). This is important for us because we need to apply the encoding to two data sets, the training data and the new observation, and we want to be sure that the same dummy variables appear in both."
      ]
    },
    {
      "cell_type": "code",
      "execution_count": 28,
      "metadata": {
        "id": "1n0gRs383iU2",
        "colab": {
          "base_uri": "https://localhost:8080/"
        },
        "outputId": "bbeea6e3-3ab9-421b-82ab-dccc926b0e85"
      },
      "outputs": [
        {
          "output_type": "execute_result",
          "data": {
            "text/plain": [
              "array([[3.00000000e+00, 2.01041667e+03, 1.00000000e+00, ...,\n",
              "        0.00000000e+00, 0.00000000e+00, 1.96000000e+03],\n",
              "       [2.00000000e+00, 2.01050000e+03, 1.00000000e+00, ...,\n",
              "        0.00000000e+00, 0.00000000e+00, 1.96100000e+03],\n",
              "       [3.00000000e+00, 2.01050000e+03, 1.00000000e+00, ...,\n",
              "        0.00000000e+00, 0.00000000e+00, 1.95800000e+03],\n",
              "       ...,\n",
              "       [3.00000000e+00, 2.00658333e+03, 1.00000000e+00, ...,\n",
              "        0.00000000e+00, 0.00000000e+00, 1.99200000e+03],\n",
              "       [2.00000000e+00, 2.00633333e+03, 1.00000000e+00, ...,\n",
              "        0.00000000e+00, 0.00000000e+00, 1.97400000e+03],\n",
              "       [3.00000000e+00, 2.00691667e+03, 2.00000000e+00, ...,\n",
              "        0.00000000e+00, 0.00000000e+00, 1.99300000e+03]])"
            ]
          },
          "metadata": {},
          "execution_count": 28
        }
      ],
      "source": [
        "from sklearn.feature_extraction import DictVectorizer\n",
        "\n",
        "vec = DictVectorizer(sparse=False)\n",
        "vec.fit(X_train_dict)\n",
        "\n",
        "X_train = vec.transform(X_train_dict)\n",
        "x_new_dict = {\n",
        "    \"Lot Area\": 9000,\n",
        "    \"Gr Liv Area\": 1400,\n",
        "    \"Full Bath\": 2,\n",
        "    \"Half Bath\": 1,\n",
        "    \"Bedroom AbvGr\": 3,\n",
        "    \"Year Built\": 1980,\n",
        "    \"Date Sold\": 2011,\n",
        "    \"Neighborhood\": \"OldTown\"\n",
        "}\n",
        "X_new = vec.transform([x_new_dict])\n",
        "\n",
        "X_train"
      ]
    },
    {
      "cell_type": "markdown",
      "metadata": {
        "id": "Y7HgRFq53iU2"
      },
      "source": [
        "### Example 2: Scaling\n",
        "\n",
        "We can also use Scikit-Learn to scale our data. The `StandardScaler` function standardizes data, but there are other functions, such as `Normalizer` and `MinMaxScaler`, that normalize and apply min-max scaling to the data, respectively.\n",
        "\n",
        "In the previous section, we standardized both the training data and the new observation with respect to the _training data_. To specify that the standardization should be with respect to the training data, we fit the scaler to the training data. Then, we use the scaler to transform both the training data and the new observation."
      ]
    },
    {
      "cell_type": "code",
      "execution_count": 29,
      "metadata": {
        "id": "kQWFde-G3iU3",
        "colab": {
          "base_uri": "https://localhost:8080/"
        },
        "outputId": "194a9fa4-9d23-423e-fd63-c0ba320d67e5"
      },
      "outputs": [
        {
          "output_type": "execute_result",
          "data": {
            "text/plain": [
              "array([[ 0.17609421,  1.62103356, -1.02479289, ..., -0.15872127,\n",
              "        -0.0908778 , -0.37553701],\n",
              "       [-1.03223376,  1.68510949, -1.02479289, ..., -0.15872127,\n",
              "        -0.0908778 , -0.34246845],\n",
              "       [ 0.17609421,  1.68510949, -1.02479289, ..., -0.15872127,\n",
              "        -0.0908778 , -0.44167415],\n",
              "       ...,\n",
              "       [ 0.17609421, -1.32645923, -1.02479289, ..., -0.15872127,\n",
              "        -0.0908778 ,  0.68265709],\n",
              "       [-1.03223376, -1.51868702, -1.02479289, ..., -0.15872127,\n",
              "        -0.0908778 ,  0.0874229 ],\n",
              "       [ 0.17609421, -1.07015551,  0.7840283 , ..., -0.15872127,\n",
              "        -0.0908778 ,  0.71572565]])"
            ]
          },
          "metadata": {},
          "execution_count": 29
        }
      ],
      "source": [
        "from sklearn.preprocessing import StandardScaler\n",
        "\n",
        "scaler = StandardScaler()\n",
        "scaler.fit(X_train)\n",
        "\n",
        "X_train_sc = scaler.transform(X_train)\n",
        "X_new_sc = scaler.transform(X_new)\n",
        "\n",
        "X_train_sc"
      ]
    },
    {
      "cell_type": "markdown",
      "metadata": {
        "id": "lSr09Y603iU5"
      },
      "source": [
        "## Putting It All Together\n",
        "\n",
        "The following example shows a complete pipeline: from reading in the raw data and processing it, to fitting a machine learning model and using it for prediction."
      ]
    },
    {
      "cell_type": "code",
      "execution_count": 30,
      "metadata": {
        "id": "2joZMSO_3iU5",
        "colab": {
          "base_uri": "https://localhost:8080/"
        },
        "outputId": "3d3d9025-4da0-40af-9b99-898f7937b53c"
      },
      "outputs": [
        {
          "output_type": "execute_result",
          "data": {
            "text/plain": [
              "array([132343.33333333])"
            ]
          },
          "metadata": {},
          "execution_count": 30
        }
      ],
      "source": [
        "# Read in the data.\n",
        "housing = pd.read_csv(\"../data/ames.tsv\", sep=\"\\t\")\n",
        "\n",
        "# Define the features.\n",
        "housing[\"Date Sold\"] = housing[\"Yr Sold\"] + housing[\"Mo Sold\"] / 12\n",
        "features = [\"Lot Area\", \"Gr Liv Area\",\n",
        "            \"Full Bath\", \"Half Bath\",\n",
        "            \"Bedroom AbvGr\",\n",
        "            \"Year Built\", \"Date Sold\",\n",
        "            \"Neighborhood\"]\n",
        "\n",
        "# Define the training data.\n",
        "# Represent the features as a list of dicts.\n",
        "X_train_dict = housing[features].to_dict(orient=\"records\")\n",
        "X_new_dict = [{\n",
        "    \"Lot Area\": 9000,\n",
        "    \"Gr Liv Area\": 1400,\n",
        "    \"Full Bath\": 2,\n",
        "    \"Half Bath\": 1,\n",
        "    \"Bedroom AbvGr\": 3,\n",
        "    \"Year Built\": 1980,\n",
        "    \"Date Sold\": 2011,\n",
        "    \"Neighborhood\": \"OldTown\"\n",
        "}]\n",
        "y_train = housing[\"SalePrice\"]\n",
        "\n",
        "# Dummy encoding\n",
        "vec = DictVectorizer(sparse=False)\n",
        "vec.fit(X_train_dict)\n",
        "X_train = vec.transform(X_train_dict)\n",
        "X_new = vec.transform(X_new_dict)\n",
        "\n",
        "# Standardization\n",
        "scaler = StandardScaler()\n",
        "scaler.fit(X_train)\n",
        "X_train_sc = scaler.transform(X_train)\n",
        "X_new_sc = scaler.transform(X_new)\n",
        "\n",
        "# K-Nearest Neighbors Model\n",
        "model = KNeighborsRegressor(n_neighbors=30)\n",
        "model.fit(X_train_sc, y_train)\n",
        "model.predict(X_new_sc)"
      ]
    },
    {
      "cell_type": "markdown",
      "metadata": {
        "id": "IIrzhQ773iU7"
      },
      "source": [
        "# Exercises Part 2\n",
        "\n"
      ]
    },
    {
      "cell_type": "markdown",
      "source": [
        "## Exercise 3\n",
        "\n",
        "(This exercise is identical to Exercise 2 from the previous section, except it asks you to use Scikit-Learn.) You would like to predict how much a male diner will tip on a bill of \\$40.00 on a Sunday. Use Scikit-Learn to build a $k$-nearest neighbors model to answer this question, using the Tips dataset (`../data/tips.csv`) as your training data."
      ],
      "metadata": {
        "id": "O4y7W_JJbshf"
      }
    },
    {
      "cell_type": "code",
      "execution_count": 43,
      "metadata": {
        "id": "uDmSL63O3iU8",
        "colab": {
          "base_uri": "https://localhost:8080/"
        },
        "outputId": "520a77cb-0701-47a8-f44b-0b56794d5636"
      },
      "outputs": [
        {
          "output_type": "execute_result",
          "data": {
            "text/plain": [
              "np.float64(3.0780000000000003)"
            ]
          },
          "metadata": {},
          "execution_count": 43
        }
      ],
      "source": [
        "\n",
        "df_tips = pd.read_csv('../data/tips.csv')\n",
        "\n",
        "features = ['total_bill', 'size', 'sex', 'smoker', 'day', 'time']\n",
        "target = 'tip'\n",
        "\n",
        "X_train_dict = df_tips[features].to_dict(orient='records')\n",
        "\n",
        "\n",
        "x_new_dict = [{\n",
        "    'total_bill': 40,\n",
        "    'size': 1,\n",
        "    'sex': 'Male',\n",
        "    'smoker': None,\n",
        "    'day': 'Sun',\n",
        "    'time': 'Dinner'\n",
        "}]\n",
        "y_train = df_tips[target]\n",
        "\n",
        "vec = DictVectorizer(sparse=False)\n",
        "vec.fit(X_train_dict)\n",
        "X_train = vec.transform(X_train_dict)\n",
        "X_new = vec.transform(x_new_dict)\n",
        "\n",
        "scaler = StandardScaler()\n",
        "scaler.fit(X_train)\n",
        "X_train_sc = scaler.transform(X_train)\n",
        "X_new_sc = scaler.transform(X_new)\n",
        "\n",
        "model = KNeighborsRegressor(n_neighbors=5)\n",
        "model.fit(X_train_sc, y_train)\n",
        "predicted_tip = model.predict(X_new_sc)[0]\n",
        "\n",
        "predicted_tip\n"
      ]
    },
    {
      "cell_type": "markdown",
      "source": [
        "A single male diner would likely tip 3.08 on a 40 dinner on Sunday. This amount increases with the party size as party size of 2 would have a 3.37 tip, party of 3 would be 3.55 and up for each addtional party member."
      ],
      "metadata": {
        "id": "2zaYDx6k5CLh"
      }
    },
    {
      "cell_type": "markdown",
      "metadata": {
        "id": "v3j5Kfrb3iU8"
      },
      "source": [
        "**When you have filled out all the questions, submit via [Tulane Canvas](https://tulane.instructure.com/)**"
      ]
    }
  ],
  "metadata": {
    "kernelspec": {
      "display_name": "Python 3",
      "language": "python",
      "name": "python3"
    },
    "language_info": {
      "codemirror_mode": {
        "name": "ipython",
        "version": 3
      },
      "file_extension": ".py",
      "mimetype": "text/x-python",
      "name": "python",
      "nbconvert_exporter": "python",
      "pygments_lexer": "ipython3",
      "version": "3.9.12"
    },
    "toc": {
      "base_numbering": 1,
      "nav_menu": {},
      "number_sections": false,
      "sideBar": true,
      "skip_h1_title": true,
      "title_cell": "Table of Contents",
      "title_sidebar": "Contents",
      "toc_cell": true,
      "toc_position": {},
      "toc_section_display": true,
      "toc_window_display": false
    },
    "colab": {
      "provenance": []
    }
  },
  "nbformat": 4,
  "nbformat_minor": 0
}